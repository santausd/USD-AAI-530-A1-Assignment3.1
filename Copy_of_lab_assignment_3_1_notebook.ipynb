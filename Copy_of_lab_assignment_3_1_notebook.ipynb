{
  "cells": [
    {
      "cell_type": "markdown",
      "metadata": {
        "id": "view-in-github",
        "colab_type": "text"
      },
      "source": [
        "<a href=\"https://colab.research.google.com/github/santausd/USD-AAI-530-A1-Assignment3.1/blob/main/Copy_of_lab_assignment_3_1_notebook.ipynb\" target=\"_parent\"><img src=\"https://colab.research.google.com/assets/colab-badge.svg\" alt=\"Open In Colab\"/></a>"
      ]
    },
    {
      "cell_type": "markdown",
      "id": "1b188355-d83b-4d6a-9fa0-7a9099a74bcb",
      "metadata": {
        "id": "1b188355-d83b-4d6a-9fa0-7a9099a74bcb"
      },
      "source": [
        "# Bias and Fairness Metrics Lab and Assignment Notebook"
      ]
    },
    {
      "cell_type": "markdown",
      "id": "ffaed549-0953-43fe-b3df-6974837d6e5c",
      "metadata": {
        "id": "ffaed549-0953-43fe-b3df-6974837d6e5c"
      },
      "source": [
        "In this lab, we will explore the concept of bias in models and datasets, with a focus on identifying and mitigating fairness issue. Bias in machine learning can arise due to imbalances in the data, societal inequities, or algorithmic processing, and it can have significant consequences in real-world applications, such as lending decisions, hiring processes, or healthcare recommendations.\n",
        "\n",
        "Using IBM's AIF360 re-weighing and the disparate impact remover (DIR) you will investigate how modifying a dataset can improve fairness metrics while assessing its potential trade-offs. We will be using a credit card default dataset where we will:\n",
        "\n",
        "**Lab Portion:**\n",
        "1. Quantify dataset bias: by calculating fairness metrics such as Statistical Parity Difference (SPD), Equal Opportunity Difference (EOD), and Disparate Impact (DI).\n",
        "2. Mitigate Bias: using AIF360's reweighing or DIR.\n",
        "3. Analyze trade-offs.\n",
        "\n",
        "*Adapted from: Masis, S. (2021). Chapter 11: Bias Mitigation and Causal Inference Methods. In Interpretable machine learning with Python: Learn to build interpretable high-performance models with hands-on real-world examples. Packt Publishing.\n",
        "\n",
        "**Assignment Portion:**\n",
        "1. Experimentation with the DIR\n",
        "2. Reflection Questions"
      ]
    },
    {
      "cell_type": "markdown",
      "id": "dd6a508c-7a5a-4db2-9b04-22feb0f1c92a",
      "metadata": {
        "id": "dd6a508c-7a5a-4db2-9b04-22feb0f1c92a"
      },
      "source": [
        "## Dataset Introduction: Adapted Taiwan Credit Card Default Prediction\n",
        "\n",
        "The dataset used in this lab is an adapted version of the Taiwan Credit Card Default Prediction Dataset, which contains information on 30,000 credit card clients in Taiwan. It is commonly used in machine learning to study credit risk analysis, as well as fairness and bias in predictive modeling.\n",
        "\n",
        "The dataset includes a mix of demographic, financial, and behavioral variables, along with a target variable that indicates whether a client defaulted on their credit card payment in the following month. Here's an overview of the key features:\n",
        "\n",
        "<b>Demographic Variables:</b>\n",
        "- AGE: The age of the client.\n",
        "- SEX: The gender of the client (Male: 1, Female: 2).\n",
        "- EDUCATION: The highest level of education attained (e.g., Graduate, University, High School).\n",
        "- MARRIAGE: The marital status of the client (e.g., Married, Single, Other).\n",
        "\n",
        "<b>Financial Variables:</b>\n",
        "- LIMIT_BAL: The credit limit assigned to the client.\n",
        "- BILL_AMT1 to BILL_AMT6: The amount of the bill statement for the past six months.\n",
        "- PAY_AMT1 to PAY_AMT6: The payment amount for the past six months.\n",
        "\n",
        "<b>Behavioral Variables:</b>\n",
        "- PAY_0 to PAY_6: The repayment status for the past six months (e.g., fully paid, delayed).\n",
        "\n",
        "<b>Target Variable:</b>\n",
        "- default payment next month: Whether the client defaulted on their payment in the next month (1 for default, 0 for no default)."
      ]
    },
    {
      "cell_type": "code",
      "source": [
        "!pip install --upgrade pip"
      ],
      "metadata": {
        "colab": {
          "base_uri": "https://localhost:8080/"
        },
        "id": "D-F-3wvu_XA9",
        "outputId": "3947819a-b972-4c9b-83dc-2b66aa8fe055"
      },
      "id": "D-F-3wvu_XA9",
      "execution_count": null,
      "outputs": [
        {
          "output_type": "stream",
          "name": "stdout",
          "text": [
            "Requirement already satisfied: pip in /usr/local/lib/python3.11/dist-packages (24.1.2)\n",
            "Collecting pip\n",
            "  Downloading pip-25.0.1-py3-none-any.whl.metadata (3.7 kB)\n",
            "Downloading pip-25.0.1-py3-none-any.whl (1.8 MB)\n",
            "\u001b[2K   \u001b[90m━━━━━━━━━━━━━━━━━━━━━━━━━━━━━━━━━━━━━━━━\u001b[0m \u001b[32m1.8/1.8 MB\u001b[0m \u001b[31m17.8 MB/s\u001b[0m eta \u001b[36m0:00:00\u001b[0m\n",
            "\u001b[?25hInstalling collected packages: pip\n",
            "  Attempting uninstall: pip\n",
            "    Found existing installation: pip 24.1.2\n",
            "    Uninstalling pip-24.1.2:\n",
            "      Successfully uninstalled pip-24.1.2\n",
            "Successfully installed pip-25.0.1\n"
          ]
        }
      ]
    },
    {
      "cell_type": "code",
      "source": [
        "%%writefile requirements.txt\n",
        "lightgbm\n",
        "matplotlib\n",
        "numpy\n",
        "pandas\n",
        "seaborn\n",
        "tqdm\n",
        "aif360[Reductions,inFairness]\n",
        "\n"
      ],
      "metadata": {
        "colab": {
          "base_uri": "https://localhost:8080/"
        },
        "id": "hxCOiiT_70A6",
        "outputId": "3a118ce6-c13f-4898-ffc7-fb24a2cfd0d5"
      },
      "id": "hxCOiiT_70A6",
      "execution_count": null,
      "outputs": [
        {
          "output_type": "stream",
          "name": "stdout",
          "text": [
            "Writing requirements.txt\n"
          ]
        }
      ]
    },
    {
      "cell_type": "code",
      "source": [
        "cat ./requirements.txt"
      ],
      "metadata": {
        "colab": {
          "base_uri": "https://localhost:8080/"
        },
        "id": "dD07Dtt_8q_d",
        "outputId": "da1778d3-83ba-4d56-b5b8-000ddb0a4959"
      },
      "id": "dD07Dtt_8q_d",
      "execution_count": null,
      "outputs": [
        {
          "output_type": "stream",
          "name": "stdout",
          "text": [
            "lightgbm\n",
            "matplotlib\n",
            "numpy\n",
            "pandas\n",
            "seaborn\n",
            "tqdm\n",
            "aif360[Reductions,inFairness]\n",
            "\n"
          ]
        }
      ]
    },
    {
      "cell_type": "code",
      "source": [
        "!pip install -r requirements.txt"
      ],
      "metadata": {
        "colab": {
          "base_uri": "https://localhost:8080/"
        },
        "id": "NGZYVPXH8144",
        "outputId": "1c0ef30c-523a-44f3-8703-745898dccfb1"
      },
      "id": "NGZYVPXH8144",
      "execution_count": null,
      "outputs": [
        {
          "output_type": "stream",
          "name": "stdout",
          "text": [
            "Requirement already satisfied: lightgbm in /usr/local/lib/python3.11/dist-packages (from -r requirements.txt (line 1)) (4.5.0)\n",
            "Requirement already satisfied: matplotlib in /usr/local/lib/python3.11/dist-packages (from -r requirements.txt (line 2)) (3.10.0)\n",
            "Requirement already satisfied: numpy in /usr/local/lib/python3.11/dist-packages (from -r requirements.txt (line 3)) (1.26.4)\n",
            "Requirement already satisfied: pandas in /usr/local/lib/python3.11/dist-packages (from -r requirements.txt (line 4)) (2.2.2)\n",
            "Requirement already satisfied: seaborn in /usr/local/lib/python3.11/dist-packages (from -r requirements.txt (line 5)) (0.13.2)\n",
            "Requirement already satisfied: tqdm in /usr/local/lib/python3.11/dist-packages (from -r requirements.txt (line 6)) (4.67.1)\n",
            "Collecting aif360[Reductions,inFairness] (from -r requirements.txt (line 7))\n",
            "  Downloading aif360-0.6.1-py3-none-any.whl.metadata (5.0 kB)\n",
            "Requirement already satisfied: scipy in /usr/local/lib/python3.11/dist-packages (from lightgbm->-r requirements.txt (line 1)) (1.14.1)\n",
            "Requirement already satisfied: contourpy>=1.0.1 in /usr/local/lib/python3.11/dist-packages (from matplotlib->-r requirements.txt (line 2)) (1.3.1)\n",
            "Requirement already satisfied: cycler>=0.10 in /usr/local/lib/python3.11/dist-packages (from matplotlib->-r requirements.txt (line 2)) (0.12.1)\n",
            "Requirement already satisfied: fonttools>=4.22.0 in /usr/local/lib/python3.11/dist-packages (from matplotlib->-r requirements.txt (line 2)) (4.56.0)\n",
            "Requirement already satisfied: kiwisolver>=1.3.1 in /usr/local/lib/python3.11/dist-packages (from matplotlib->-r requirements.txt (line 2)) (1.4.8)\n",
            "Requirement already satisfied: packaging>=20.0 in /usr/local/lib/python3.11/dist-packages (from matplotlib->-r requirements.txt (line 2)) (24.2)\n",
            "Requirement already satisfied: pillow>=8 in /usr/local/lib/python3.11/dist-packages (from matplotlib->-r requirements.txt (line 2)) (11.1.0)\n",
            "Requirement already satisfied: pyparsing>=2.3.1 in /usr/local/lib/python3.11/dist-packages (from matplotlib->-r requirements.txt (line 2)) (3.2.1)\n",
            "Requirement already satisfied: python-dateutil>=2.7 in /usr/local/lib/python3.11/dist-packages (from matplotlib->-r requirements.txt (line 2)) (2.8.2)\n",
            "Requirement already satisfied: pytz>=2020.1 in /usr/local/lib/python3.11/dist-packages (from pandas->-r requirements.txt (line 4)) (2025.1)\n",
            "Requirement already satisfied: tzdata>=2022.7 in /usr/local/lib/python3.11/dist-packages (from pandas->-r requirements.txt (line 4)) (2025.1)\n",
            "Requirement already satisfied: scikit-learn>=1.0 in /usr/local/lib/python3.11/dist-packages (from aif360[Reductions,inFairness]->-r requirements.txt (line 7)) (1.6.1)\n",
            "Collecting fairlearn~=0.7 (from aif360[Reductions,inFairness]->-r requirements.txt (line 7))\n",
            "  Downloading fairlearn-0.12.0-py3-none-any.whl.metadata (7.0 kB)\n",
            "Collecting skorch (from aif360[Reductions,inFairness]->-r requirements.txt (line 7))\n",
            "  Downloading skorch-1.1.0-py3-none-any.whl.metadata (11 kB)\n",
            "Collecting inFairness>=0.2.2 (from aif360[Reductions,inFairness]->-r requirements.txt (line 7))\n",
            "  Downloading inFairness-0.2.3-py3-none-any.whl.metadata (8.1 kB)\n",
            "Collecting POT>=0.8.0 (from inFairness>=0.2.2->aif360[Reductions,inFairness]->-r requirements.txt (line 7))\n",
            "  Downloading POT-0.9.5-cp311-cp311-manylinux_2_17_x86_64.manylinux2014_x86_64.whl.metadata (34 kB)\n",
            "Requirement already satisfied: torch>=1.13.0 in /usr/local/lib/python3.11/dist-packages (from inFairness>=0.2.2->aif360[Reductions,inFairness]->-r requirements.txt (line 7)) (2.6.0+cu124)\n",
            "Requirement already satisfied: six>=1.5 in /usr/local/lib/python3.11/dist-packages (from python-dateutil>=2.7->matplotlib->-r requirements.txt (line 2)) (1.17.0)\n",
            "Requirement already satisfied: joblib>=1.2.0 in /usr/local/lib/python3.11/dist-packages (from scikit-learn>=1.0->aif360[Reductions,inFairness]->-r requirements.txt (line 7)) (1.4.2)\n",
            "Requirement already satisfied: threadpoolctl>=3.1.0 in /usr/local/lib/python3.11/dist-packages (from scikit-learn>=1.0->aif360[Reductions,inFairness]->-r requirements.txt (line 7)) (3.5.0)\n",
            "Requirement already satisfied: tabulate>=0.7.7 in /usr/local/lib/python3.11/dist-packages (from skorch->aif360[Reductions,inFairness]->-r requirements.txt (line 7)) (0.9.0)\n",
            "Requirement already satisfied: filelock in /usr/local/lib/python3.11/dist-packages (from torch>=1.13.0->inFairness>=0.2.2->aif360[Reductions,inFairness]->-r requirements.txt (line 7)) (3.17.0)\n",
            "Requirement already satisfied: typing-extensions>=4.10.0 in /usr/local/lib/python3.11/dist-packages (from torch>=1.13.0->inFairness>=0.2.2->aif360[Reductions,inFairness]->-r requirements.txt (line 7)) (4.12.2)\n",
            "Requirement already satisfied: networkx in /usr/local/lib/python3.11/dist-packages (from torch>=1.13.0->inFairness>=0.2.2->aif360[Reductions,inFairness]->-r requirements.txt (line 7)) (3.4.2)\n",
            "Requirement already satisfied: jinja2 in /usr/local/lib/python3.11/dist-packages (from torch>=1.13.0->inFairness>=0.2.2->aif360[Reductions,inFairness]->-r requirements.txt (line 7)) (3.1.6)\n",
            "Requirement already satisfied: fsspec in /usr/local/lib/python3.11/dist-packages (from torch>=1.13.0->inFairness>=0.2.2->aif360[Reductions,inFairness]->-r requirements.txt (line 7)) (2024.10.0)\n",
            "Collecting nvidia-cuda-nvrtc-cu12==12.4.127 (from torch>=1.13.0->inFairness>=0.2.2->aif360[Reductions,inFairness]->-r requirements.txt (line 7))\n",
            "  Downloading nvidia_cuda_nvrtc_cu12-12.4.127-py3-none-manylinux2014_x86_64.whl.metadata (1.5 kB)\n",
            "Collecting nvidia-cuda-runtime-cu12==12.4.127 (from torch>=1.13.0->inFairness>=0.2.2->aif360[Reductions,inFairness]->-r requirements.txt (line 7))\n",
            "  Downloading nvidia_cuda_runtime_cu12-12.4.127-py3-none-manylinux2014_x86_64.whl.metadata (1.5 kB)\n",
            "Collecting nvidia-cuda-cupti-cu12==12.4.127 (from torch>=1.13.0->inFairness>=0.2.2->aif360[Reductions,inFairness]->-r requirements.txt (line 7))\n",
            "  Downloading nvidia_cuda_cupti_cu12-12.4.127-py3-none-manylinux2014_x86_64.whl.metadata (1.6 kB)\n",
            "Collecting nvidia-cudnn-cu12==9.1.0.70 (from torch>=1.13.0->inFairness>=0.2.2->aif360[Reductions,inFairness]->-r requirements.txt (line 7))\n",
            "  Downloading nvidia_cudnn_cu12-9.1.0.70-py3-none-manylinux2014_x86_64.whl.metadata (1.6 kB)\n",
            "Collecting nvidia-cublas-cu12==12.4.5.8 (from torch>=1.13.0->inFairness>=0.2.2->aif360[Reductions,inFairness]->-r requirements.txt (line 7))\n",
            "  Downloading nvidia_cublas_cu12-12.4.5.8-py3-none-manylinux2014_x86_64.whl.metadata (1.5 kB)\n",
            "Collecting nvidia-cufft-cu12==11.2.1.3 (from torch>=1.13.0->inFairness>=0.2.2->aif360[Reductions,inFairness]->-r requirements.txt (line 7))\n",
            "  Downloading nvidia_cufft_cu12-11.2.1.3-py3-none-manylinux2014_x86_64.whl.metadata (1.5 kB)\n",
            "Collecting nvidia-curand-cu12==10.3.5.147 (from torch>=1.13.0->inFairness>=0.2.2->aif360[Reductions,inFairness]->-r requirements.txt (line 7))\n",
            "  Downloading nvidia_curand_cu12-10.3.5.147-py3-none-manylinux2014_x86_64.whl.metadata (1.5 kB)\n",
            "Collecting nvidia-cusolver-cu12==11.6.1.9 (from torch>=1.13.0->inFairness>=0.2.2->aif360[Reductions,inFairness]->-r requirements.txt (line 7))\n",
            "  Downloading nvidia_cusolver_cu12-11.6.1.9-py3-none-manylinux2014_x86_64.whl.metadata (1.6 kB)\n",
            "Collecting nvidia-cusparse-cu12==12.3.1.170 (from torch>=1.13.0->inFairness>=0.2.2->aif360[Reductions,inFairness]->-r requirements.txt (line 7))\n",
            "  Downloading nvidia_cusparse_cu12-12.3.1.170-py3-none-manylinux2014_x86_64.whl.metadata (1.6 kB)\n",
            "Requirement already satisfied: nvidia-cusparselt-cu12==0.6.2 in /usr/local/lib/python3.11/dist-packages (from torch>=1.13.0->inFairness>=0.2.2->aif360[Reductions,inFairness]->-r requirements.txt (line 7)) (0.6.2)\n",
            "Requirement already satisfied: nvidia-nccl-cu12==2.21.5 in /usr/local/lib/python3.11/dist-packages (from torch>=1.13.0->inFairness>=0.2.2->aif360[Reductions,inFairness]->-r requirements.txt (line 7)) (2.21.5)\n",
            "Requirement already satisfied: nvidia-nvtx-cu12==12.4.127 in /usr/local/lib/python3.11/dist-packages (from torch>=1.13.0->inFairness>=0.2.2->aif360[Reductions,inFairness]->-r requirements.txt (line 7)) (12.4.127)\n",
            "Collecting nvidia-nvjitlink-cu12==12.4.127 (from torch>=1.13.0->inFairness>=0.2.2->aif360[Reductions,inFairness]->-r requirements.txt (line 7))\n",
            "  Downloading nvidia_nvjitlink_cu12-12.4.127-py3-none-manylinux2014_x86_64.whl.metadata (1.5 kB)\n",
            "Requirement already satisfied: triton==3.2.0 in /usr/local/lib/python3.11/dist-packages (from torch>=1.13.0->inFairness>=0.2.2->aif360[Reductions,inFairness]->-r requirements.txt (line 7)) (3.2.0)\n",
            "Requirement already satisfied: sympy==1.13.1 in /usr/local/lib/python3.11/dist-packages (from torch>=1.13.0->inFairness>=0.2.2->aif360[Reductions,inFairness]->-r requirements.txt (line 7)) (1.13.1)\n",
            "Requirement already satisfied: mpmath<1.4,>=1.1.0 in /usr/local/lib/python3.11/dist-packages (from sympy==1.13.1->torch>=1.13.0->inFairness>=0.2.2->aif360[Reductions,inFairness]->-r requirements.txt (line 7)) (1.3.0)\n",
            "Requirement already satisfied: MarkupSafe>=2.0 in /usr/local/lib/python3.11/dist-packages (from jinja2->torch>=1.13.0->inFairness>=0.2.2->aif360[Reductions,inFairness]->-r requirements.txt (line 7)) (3.0.2)\n",
            "Downloading fairlearn-0.12.0-py3-none-any.whl (240 kB)\n",
            "Downloading inFairness-0.2.3-py3-none-any.whl (45 kB)\n",
            "Downloading aif360-0.6.1-py3-none-any.whl (259 kB)\n",
            "Downloading skorch-1.1.0-py3-none-any.whl (228 kB)\n",
            "Downloading POT-0.9.5-cp311-cp311-manylinux_2_17_x86_64.manylinux2014_x86_64.whl (897 kB)\n",
            "\u001b[2K   \u001b[90m━━━━━━━━━━━━━━━━━━━━━━━━━━━━━━━━━━━━━━━━\u001b[0m \u001b[32m897.5/897.5 kB\u001b[0m \u001b[31m38.7 MB/s\u001b[0m eta \u001b[36m0:00:00\u001b[0m\n",
            "\u001b[?25hDownloading nvidia_cublas_cu12-12.4.5.8-py3-none-manylinux2014_x86_64.whl (363.4 MB)\n",
            "\u001b[2K   \u001b[90m━━━━━━━━━━━━━━━━━━━━━━━━━━━━━━━━━━━━━━━━\u001b[0m \u001b[32m363.4/363.4 MB\u001b[0m \u001b[31m34.6 MB/s\u001b[0m eta \u001b[36m0:00:00\u001b[0m\n",
            "\u001b[?25hDownloading nvidia_cuda_cupti_cu12-12.4.127-py3-none-manylinux2014_x86_64.whl (13.8 MB)\n",
            "\u001b[2K   \u001b[90m━━━━━━━━━━━━━━━━━━━━━━━━━━━━━━━━━━━━━━━━\u001b[0m \u001b[32m13.8/13.8 MB\u001b[0m \u001b[31m61.6 MB/s\u001b[0m eta \u001b[36m0:00:00\u001b[0m\n",
            "\u001b[?25hDownloading nvidia_cuda_nvrtc_cu12-12.4.127-py3-none-manylinux2014_x86_64.whl (24.6 MB)\n",
            "\u001b[2K   \u001b[90m━━━━━━━━━━━━━━━━━━━━━━━━━━━━━━━━━━━━━━━━\u001b[0m \u001b[32m24.6/24.6 MB\u001b[0m \u001b[31m94.9 MB/s\u001b[0m eta \u001b[36m0:00:00\u001b[0m\n",
            "\u001b[?25hDownloading nvidia_cuda_runtime_cu12-12.4.127-py3-none-manylinux2014_x86_64.whl (883 kB)\n",
            "\u001b[2K   \u001b[90m━━━━━━━━━━━━━━━━━━━━━━━━━━━━━━━━━━━━━━━━\u001b[0m \u001b[32m883.7/883.7 kB\u001b[0m \u001b[31m31.8 MB/s\u001b[0m eta \u001b[36m0:00:00\u001b[0m\n",
            "\u001b[?25hDownloading nvidia_cudnn_cu12-9.1.0.70-py3-none-manylinux2014_x86_64.whl (664.8 MB)\n",
            "\u001b[2K   \u001b[90m━━━━━━━━━━━━━━━━━━━━━━━━━━━━━━━━━━━━━━━━\u001b[0m \u001b[32m664.8/664.8 MB\u001b[0m \u001b[31m16.3 MB/s\u001b[0m eta \u001b[36m0:00:00\u001b[0m\n",
            "\u001b[?25hDownloading nvidia_cufft_cu12-11.2.1.3-py3-none-manylinux2014_x86_64.whl (211.5 MB)\n",
            "\u001b[2K   \u001b[90m━━━━━━━━━━━━━━━━━━━━━━━━━━━━━━━━━━━━━━━━\u001b[0m \u001b[32m211.5/211.5 MB\u001b[0m \u001b[31m66.3 MB/s\u001b[0m eta \u001b[36m0:00:00\u001b[0m\n",
            "\u001b[?25hDownloading nvidia_curand_cu12-10.3.5.147-py3-none-manylinux2014_x86_64.whl (56.3 MB)\n",
            "\u001b[2K   \u001b[90m━━━━━━━━━━━━━━━━━━━━━━━━━━━━━━━━━━━━━━━━\u001b[0m \u001b[32m56.3/56.3 MB\u001b[0m \u001b[31m60.7 MB/s\u001b[0m eta \u001b[36m0:00:00\u001b[0m\n",
            "\u001b[?25hDownloading nvidia_cusolver_cu12-11.6.1.9-py3-none-manylinux2014_x86_64.whl (127.9 MB)\n",
            "\u001b[2K   \u001b[90m━━━━━━━━━━━━━━━━━━━━━━━━━━━━━━━━━━━━━━━━\u001b[0m \u001b[32m127.9/127.9 MB\u001b[0m \u001b[31m65.0 MB/s\u001b[0m eta \u001b[36m0:00:00\u001b[0m\n",
            "\u001b[?25hDownloading nvidia_cusparse_cu12-12.3.1.170-py3-none-manylinux2014_x86_64.whl (207.5 MB)\n",
            "\u001b[2K   \u001b[90m━━━━━━━━━━━━━━━━━━━━━━━━━━━━━━━━━━━━━━━━\u001b[0m \u001b[32m207.5/207.5 MB\u001b[0m \u001b[31m65.5 MB/s\u001b[0m eta \u001b[36m0:00:00\u001b[0m\n",
            "\u001b[?25hDownloading nvidia_nvjitlink_cu12-12.4.127-py3-none-manylinux2014_x86_64.whl (21.1 MB)\n",
            "\u001b[2K   \u001b[90m━━━━━━━━━━━━━━━━━━━━━━━━━━━━━━━━━━━━━━━━\u001b[0m \u001b[32m21.1/21.1 MB\u001b[0m \u001b[31m155.4 MB/s\u001b[0m eta \u001b[36m0:00:00\u001b[0m\n",
            "\u001b[?25hInstalling collected packages: nvidia-nvjitlink-cu12, nvidia-curand-cu12, nvidia-cufft-cu12, nvidia-cuda-runtime-cu12, nvidia-cuda-nvrtc-cu12, nvidia-cuda-cupti-cu12, nvidia-cublas-cu12, POT, nvidia-cusparse-cu12, nvidia-cudnn-cu12, skorch, nvidia-cusolver-cu12, fairlearn, aif360, inFairness\n",
            "  Attempting uninstall: nvidia-nvjitlink-cu12\n",
            "    Found existing installation: nvidia-nvjitlink-cu12 12.5.82\n",
            "    Uninstalling nvidia-nvjitlink-cu12-12.5.82:\n",
            "      Successfully uninstalled nvidia-nvjitlink-cu12-12.5.82\n",
            "  Attempting uninstall: nvidia-curand-cu12\n",
            "    Found existing installation: nvidia-curand-cu12 10.3.6.82\n",
            "    Uninstalling nvidia-curand-cu12-10.3.6.82:\n",
            "      Successfully uninstalled nvidia-curand-cu12-10.3.6.82\n",
            "  Attempting uninstall: nvidia-cufft-cu12\n",
            "    Found existing installation: nvidia-cufft-cu12 11.2.3.61\n",
            "    Uninstalling nvidia-cufft-cu12-11.2.3.61:\n",
            "      Successfully uninstalled nvidia-cufft-cu12-11.2.3.61\n",
            "  Attempting uninstall: nvidia-cuda-runtime-cu12\n",
            "    Found existing installation: nvidia-cuda-runtime-cu12 12.5.82\n",
            "    Uninstalling nvidia-cuda-runtime-cu12-12.5.82:\n",
            "      Successfully uninstalled nvidia-cuda-runtime-cu12-12.5.82\n",
            "  Attempting uninstall: nvidia-cuda-nvrtc-cu12\n",
            "    Found existing installation: nvidia-cuda-nvrtc-cu12 12.5.82\n",
            "    Uninstalling nvidia-cuda-nvrtc-cu12-12.5.82:\n",
            "      Successfully uninstalled nvidia-cuda-nvrtc-cu12-12.5.82\n",
            "  Attempting uninstall: nvidia-cuda-cupti-cu12\n",
            "    Found existing installation: nvidia-cuda-cupti-cu12 12.5.82\n",
            "    Uninstalling nvidia-cuda-cupti-cu12-12.5.82:\n",
            "      Successfully uninstalled nvidia-cuda-cupti-cu12-12.5.82\n",
            "  Attempting uninstall: nvidia-cublas-cu12\n",
            "    Found existing installation: nvidia-cublas-cu12 12.5.3.2\n",
            "    Uninstalling nvidia-cublas-cu12-12.5.3.2:\n",
            "      Successfully uninstalled nvidia-cublas-cu12-12.5.3.2\n",
            "  Attempting uninstall: nvidia-cusparse-cu12\n",
            "    Found existing installation: nvidia-cusparse-cu12 12.5.1.3\n",
            "    Uninstalling nvidia-cusparse-cu12-12.5.1.3:\n",
            "      Successfully uninstalled nvidia-cusparse-cu12-12.5.1.3\n",
            "  Attempting uninstall: nvidia-cudnn-cu12\n",
            "    Found existing installation: nvidia-cudnn-cu12 9.3.0.75\n",
            "    Uninstalling nvidia-cudnn-cu12-9.3.0.75:\n",
            "      Successfully uninstalled nvidia-cudnn-cu12-9.3.0.75\n",
            "  Attempting uninstall: nvidia-cusolver-cu12\n",
            "    Found existing installation: nvidia-cusolver-cu12 11.6.3.83\n",
            "    Uninstalling nvidia-cusolver-cu12-11.6.3.83:\n",
            "      Successfully uninstalled nvidia-cusolver-cu12-11.6.3.83\n",
            "Successfully installed POT-0.9.5 aif360-0.6.1 fairlearn-0.12.0 inFairness-0.2.3 nvidia-cublas-cu12-12.4.5.8 nvidia-cuda-cupti-cu12-12.4.127 nvidia-cuda-nvrtc-cu12-12.4.127 nvidia-cuda-runtime-cu12-12.4.127 nvidia-cudnn-cu12-9.1.0.70 nvidia-cufft-cu12-11.2.1.3 nvidia-curand-cu12-10.3.5.147 nvidia-cusolver-cu12-11.6.1.9 nvidia-cusparse-cu12-12.3.1.170 nvidia-nvjitlink-cu12-12.4.127 skorch-1.1.0\n"
          ]
        }
      ]
    },
    {
      "cell_type": "code",
      "execution_count": null,
      "id": "ea42ab33-ab67-4150-acc5-f6a52c1ad70f",
      "metadata": {
        "id": "ea42ab33-ab67-4150-acc5-f6a52c1ad70f",
        "outputId": "e4a9c88a-3390-43cd-d974-fe37bcc9ad5b",
        "colab": {
          "base_uri": "https://localhost:8080/"
        }
      },
      "outputs": [
        {
          "output_type": "stream",
          "name": "stderr",
          "text": [
            "/usr/local/lib/python3.11/dist-packages/inFairness/utils/ndcg.py:37: FutureWarning: We've integrated functorch into PyTorch. As the final step of the integration, `functorch.vmap` is deprecated as of PyTorch 2.0 and will be deleted in a future version of PyTorch >= 2.3. Please use `torch.vmap` instead; see the PyTorch 2.0 release notes and/or the `torch.func` migration guide for more details https://pytorch.org/docs/main/func.migrating.html\n",
            "  vect_normalized_discounted_cumulative_gain = vmap(\n",
            "/usr/local/lib/python3.11/dist-packages/inFairness/utils/ndcg.py:48: FutureWarning: We've integrated functorch into PyTorch. As the final step of the integration, `functorch.vmap` is deprecated as of PyTorch 2.0 and will be deleted in a future version of PyTorch >= 2.3. Please use `torch.vmap` instead; see the PyTorch 2.0 release notes and/or the `torch.func` migration guide for more details https://pytorch.org/docs/main/func.migrating.html\n",
            "  monte_carlo_vect_ndcg = vmap(vect_normalized_discounted_cumulative_gain, in_dims=(0,))\n"
          ]
        }
      ],
      "source": [
        "# Import libraries\n",
        "import pandas as pd\n",
        "import numpy as np\n",
        "import seaborn as sns\n",
        "import matplotlib.pyplot as plt\n",
        "from sklearn.model_selection import train_test_split\n",
        "from sklearn.linear_model import LogisticRegression\n",
        "from sklearn.metrics import accuracy_score, precision_score, recall_score\n",
        "from aif360.datasets import BinaryLabelDataset\n",
        "from aif360.metrics import BinaryLabelDatasetMetric\n",
        "from aif360.algorithms.preprocessing import Reweighing\n",
        "from sklearn.ensemble import GradientBoostingClassifier\n",
        "from sklearn.metrics import roc_auc_score, precision_score, recall_score, f1_score, confusion_matrix, roc_curve, accuracy_score\n",
        "from aif360.metrics import ClassificationMetric\n",
        "import lightgbm as lgb\n",
        "from lightgbm import LGBMClassifier\n",
        "from tqdm import tqdm\n",
        "from aif360.algorithms.preprocessing import DisparateImpactRemover\n",
        "import warnings\n",
        "warnings.filterwarnings(\"ignore\")\n"
      ]
    },
    {
      "cell_type": "code",
      "execution_count": null,
      "id": "2db404d1-a140-4282-a4ad-fc6ae6f935de",
      "metadata": {
        "id": "2db404d1-a140-4282-a4ad-fc6ae6f935de",
        "outputId": "b260937a-c4c1-4813-c9dc-b5ba2f18f081",
        "colab": {
          "base_uri": "https://localhost:8080/",
          "height": 307
        }
      },
      "outputs": [
        {
          "output_type": "execute_result",
          "data": {
            "text/plain": [
              "   ID  LIMIT_BAL  SEX  EDUCATION  MARRIAGE  AGE  PAY_0  PAY_2  PAY_3  PAY_4  \\\n",
              "0   1      20000    2          2         1   24      2      2     -1     -1   \n",
              "1   2     120000    2          2         2   26     -1      2      0      0   \n",
              "2   3      90000    2          2         2   34      0      0      0      0   \n",
              "3   4      50000    2          2         1   37      0      0      0      0   \n",
              "4   5      50000    1          2         1   57     -1      0     -1      0   \n",
              "\n",
              "   ...  BILL_AMT4  BILL_AMT5  BILL_AMT6  PAY_AMT1  PAY_AMT2  PAY_AMT3  \\\n",
              "0  ...          0          0          0         0       689         0   \n",
              "1  ...       3272       3455       3261         0      1000      1000   \n",
              "2  ...      14331      14948      15549      1518      1500      1000   \n",
              "3  ...      28314      28959      29547      2000      2019      1200   \n",
              "4  ...      20940      19146      19131      2000     36681     10000   \n",
              "\n",
              "   PAY_AMT4  PAY_AMT5  PAY_AMT6  default payment next month  \n",
              "0         0         0         0                           1  \n",
              "1      1000         0      2000                           1  \n",
              "2      1000      1000      5000                           0  \n",
              "3      1100      1069      1000                           0  \n",
              "4      9000       689       679                           0  \n",
              "\n",
              "[5 rows x 25 columns]"
            ],
            "text/html": [
              "\n",
              "  <div id=\"df-25146ca0-7eae-4643-94cc-3479efd00ffc\" class=\"colab-df-container\">\n",
              "    <div>\n",
              "<style scoped>\n",
              "    .dataframe tbody tr th:only-of-type {\n",
              "        vertical-align: middle;\n",
              "    }\n",
              "\n",
              "    .dataframe tbody tr th {\n",
              "        vertical-align: top;\n",
              "    }\n",
              "\n",
              "    .dataframe thead th {\n",
              "        text-align: right;\n",
              "    }\n",
              "</style>\n",
              "<table border=\"1\" class=\"dataframe\">\n",
              "  <thead>\n",
              "    <tr style=\"text-align: right;\">\n",
              "      <th></th>\n",
              "      <th>ID</th>\n",
              "      <th>LIMIT_BAL</th>\n",
              "      <th>SEX</th>\n",
              "      <th>EDUCATION</th>\n",
              "      <th>MARRIAGE</th>\n",
              "      <th>AGE</th>\n",
              "      <th>PAY_0</th>\n",
              "      <th>PAY_2</th>\n",
              "      <th>PAY_3</th>\n",
              "      <th>PAY_4</th>\n",
              "      <th>...</th>\n",
              "      <th>BILL_AMT4</th>\n",
              "      <th>BILL_AMT5</th>\n",
              "      <th>BILL_AMT6</th>\n",
              "      <th>PAY_AMT1</th>\n",
              "      <th>PAY_AMT2</th>\n",
              "      <th>PAY_AMT3</th>\n",
              "      <th>PAY_AMT4</th>\n",
              "      <th>PAY_AMT5</th>\n",
              "      <th>PAY_AMT6</th>\n",
              "      <th>default payment next month</th>\n",
              "    </tr>\n",
              "  </thead>\n",
              "  <tbody>\n",
              "    <tr>\n",
              "      <th>0</th>\n",
              "      <td>1</td>\n",
              "      <td>20000</td>\n",
              "      <td>2</td>\n",
              "      <td>2</td>\n",
              "      <td>1</td>\n",
              "      <td>24</td>\n",
              "      <td>2</td>\n",
              "      <td>2</td>\n",
              "      <td>-1</td>\n",
              "      <td>-1</td>\n",
              "      <td>...</td>\n",
              "      <td>0</td>\n",
              "      <td>0</td>\n",
              "      <td>0</td>\n",
              "      <td>0</td>\n",
              "      <td>689</td>\n",
              "      <td>0</td>\n",
              "      <td>0</td>\n",
              "      <td>0</td>\n",
              "      <td>0</td>\n",
              "      <td>1</td>\n",
              "    </tr>\n",
              "    <tr>\n",
              "      <th>1</th>\n",
              "      <td>2</td>\n",
              "      <td>120000</td>\n",
              "      <td>2</td>\n",
              "      <td>2</td>\n",
              "      <td>2</td>\n",
              "      <td>26</td>\n",
              "      <td>-1</td>\n",
              "      <td>2</td>\n",
              "      <td>0</td>\n",
              "      <td>0</td>\n",
              "      <td>...</td>\n",
              "      <td>3272</td>\n",
              "      <td>3455</td>\n",
              "      <td>3261</td>\n",
              "      <td>0</td>\n",
              "      <td>1000</td>\n",
              "      <td>1000</td>\n",
              "      <td>1000</td>\n",
              "      <td>0</td>\n",
              "      <td>2000</td>\n",
              "      <td>1</td>\n",
              "    </tr>\n",
              "    <tr>\n",
              "      <th>2</th>\n",
              "      <td>3</td>\n",
              "      <td>90000</td>\n",
              "      <td>2</td>\n",
              "      <td>2</td>\n",
              "      <td>2</td>\n",
              "      <td>34</td>\n",
              "      <td>0</td>\n",
              "      <td>0</td>\n",
              "      <td>0</td>\n",
              "      <td>0</td>\n",
              "      <td>...</td>\n",
              "      <td>14331</td>\n",
              "      <td>14948</td>\n",
              "      <td>15549</td>\n",
              "      <td>1518</td>\n",
              "      <td>1500</td>\n",
              "      <td>1000</td>\n",
              "      <td>1000</td>\n",
              "      <td>1000</td>\n",
              "      <td>5000</td>\n",
              "      <td>0</td>\n",
              "    </tr>\n",
              "    <tr>\n",
              "      <th>3</th>\n",
              "      <td>4</td>\n",
              "      <td>50000</td>\n",
              "      <td>2</td>\n",
              "      <td>2</td>\n",
              "      <td>1</td>\n",
              "      <td>37</td>\n",
              "      <td>0</td>\n",
              "      <td>0</td>\n",
              "      <td>0</td>\n",
              "      <td>0</td>\n",
              "      <td>...</td>\n",
              "      <td>28314</td>\n",
              "      <td>28959</td>\n",
              "      <td>29547</td>\n",
              "      <td>2000</td>\n",
              "      <td>2019</td>\n",
              "      <td>1200</td>\n",
              "      <td>1100</td>\n",
              "      <td>1069</td>\n",
              "      <td>1000</td>\n",
              "      <td>0</td>\n",
              "    </tr>\n",
              "    <tr>\n",
              "      <th>4</th>\n",
              "      <td>5</td>\n",
              "      <td>50000</td>\n",
              "      <td>1</td>\n",
              "      <td>2</td>\n",
              "      <td>1</td>\n",
              "      <td>57</td>\n",
              "      <td>-1</td>\n",
              "      <td>0</td>\n",
              "      <td>-1</td>\n",
              "      <td>0</td>\n",
              "      <td>...</td>\n",
              "      <td>20940</td>\n",
              "      <td>19146</td>\n",
              "      <td>19131</td>\n",
              "      <td>2000</td>\n",
              "      <td>36681</td>\n",
              "      <td>10000</td>\n",
              "      <td>9000</td>\n",
              "      <td>689</td>\n",
              "      <td>679</td>\n",
              "      <td>0</td>\n",
              "    </tr>\n",
              "  </tbody>\n",
              "</table>\n",
              "<p>5 rows × 25 columns</p>\n",
              "</div>\n",
              "    <div class=\"colab-df-buttons\">\n",
              "\n",
              "  <div class=\"colab-df-container\">\n",
              "    <button class=\"colab-df-convert\" onclick=\"convertToInteractive('df-25146ca0-7eae-4643-94cc-3479efd00ffc')\"\n",
              "            title=\"Convert this dataframe to an interactive table.\"\n",
              "            style=\"display:none;\">\n",
              "\n",
              "  <svg xmlns=\"http://www.w3.org/2000/svg\" height=\"24px\" viewBox=\"0 -960 960 960\">\n",
              "    <path d=\"M120-120v-720h720v720H120Zm60-500h600v-160H180v160Zm220 220h160v-160H400v160Zm0 220h160v-160H400v160ZM180-400h160v-160H180v160Zm440 0h160v-160H620v160ZM180-180h160v-160H180v160Zm440 0h160v-160H620v160Z\"/>\n",
              "  </svg>\n",
              "    </button>\n",
              "\n",
              "  <style>\n",
              "    .colab-df-container {\n",
              "      display:flex;\n",
              "      gap: 12px;\n",
              "    }\n",
              "\n",
              "    .colab-df-convert {\n",
              "      background-color: #E8F0FE;\n",
              "      border: none;\n",
              "      border-radius: 50%;\n",
              "      cursor: pointer;\n",
              "      display: none;\n",
              "      fill: #1967D2;\n",
              "      height: 32px;\n",
              "      padding: 0 0 0 0;\n",
              "      width: 32px;\n",
              "    }\n",
              "\n",
              "    .colab-df-convert:hover {\n",
              "      background-color: #E2EBFA;\n",
              "      box-shadow: 0px 1px 2px rgba(60, 64, 67, 0.3), 0px 1px 3px 1px rgba(60, 64, 67, 0.15);\n",
              "      fill: #174EA6;\n",
              "    }\n",
              "\n",
              "    .colab-df-buttons div {\n",
              "      margin-bottom: 4px;\n",
              "    }\n",
              "\n",
              "    [theme=dark] .colab-df-convert {\n",
              "      background-color: #3B4455;\n",
              "      fill: #D2E3FC;\n",
              "    }\n",
              "\n",
              "    [theme=dark] .colab-df-convert:hover {\n",
              "      background-color: #434B5C;\n",
              "      box-shadow: 0px 1px 3px 1px rgba(0, 0, 0, 0.15);\n",
              "      filter: drop-shadow(0px 1px 2px rgba(0, 0, 0, 0.3));\n",
              "      fill: #FFFFFF;\n",
              "    }\n",
              "  </style>\n",
              "\n",
              "    <script>\n",
              "      const buttonEl =\n",
              "        document.querySelector('#df-25146ca0-7eae-4643-94cc-3479efd00ffc button.colab-df-convert');\n",
              "      buttonEl.style.display =\n",
              "        google.colab.kernel.accessAllowed ? 'block' : 'none';\n",
              "\n",
              "      async function convertToInteractive(key) {\n",
              "        const element = document.querySelector('#df-25146ca0-7eae-4643-94cc-3479efd00ffc');\n",
              "        const dataTable =\n",
              "          await google.colab.kernel.invokeFunction('convertToInteractive',\n",
              "                                                    [key], {});\n",
              "        if (!dataTable) return;\n",
              "\n",
              "        const docLinkHtml = 'Like what you see? Visit the ' +\n",
              "          '<a target=\"_blank\" href=https://colab.research.google.com/notebooks/data_table.ipynb>data table notebook</a>'\n",
              "          + ' to learn more about interactive tables.';\n",
              "        element.innerHTML = '';\n",
              "        dataTable['output_type'] = 'display_data';\n",
              "        await google.colab.output.renderOutput(dataTable, element);\n",
              "        const docLink = document.createElement('div');\n",
              "        docLink.innerHTML = docLinkHtml;\n",
              "        element.appendChild(docLink);\n",
              "      }\n",
              "    </script>\n",
              "  </div>\n",
              "\n",
              "\n",
              "<div id=\"df-fdcb1eb8-460f-48c2-b443-ec3ca1e4aeef\">\n",
              "  <button class=\"colab-df-quickchart\" onclick=\"quickchart('df-fdcb1eb8-460f-48c2-b443-ec3ca1e4aeef')\"\n",
              "            title=\"Suggest charts\"\n",
              "            style=\"display:none;\">\n",
              "\n",
              "<svg xmlns=\"http://www.w3.org/2000/svg\" height=\"24px\"viewBox=\"0 0 24 24\"\n",
              "     width=\"24px\">\n",
              "    <g>\n",
              "        <path d=\"M19 3H5c-1.1 0-2 .9-2 2v14c0 1.1.9 2 2 2h14c1.1 0 2-.9 2-2V5c0-1.1-.9-2-2-2zM9 17H7v-7h2v7zm4 0h-2V7h2v10zm4 0h-2v-4h2v4z\"/>\n",
              "    </g>\n",
              "</svg>\n",
              "  </button>\n",
              "\n",
              "<style>\n",
              "  .colab-df-quickchart {\n",
              "      --bg-color: #E8F0FE;\n",
              "      --fill-color: #1967D2;\n",
              "      --hover-bg-color: #E2EBFA;\n",
              "      --hover-fill-color: #174EA6;\n",
              "      --disabled-fill-color: #AAA;\n",
              "      --disabled-bg-color: #DDD;\n",
              "  }\n",
              "\n",
              "  [theme=dark] .colab-df-quickchart {\n",
              "      --bg-color: #3B4455;\n",
              "      --fill-color: #D2E3FC;\n",
              "      --hover-bg-color: #434B5C;\n",
              "      --hover-fill-color: #FFFFFF;\n",
              "      --disabled-bg-color: #3B4455;\n",
              "      --disabled-fill-color: #666;\n",
              "  }\n",
              "\n",
              "  .colab-df-quickchart {\n",
              "    background-color: var(--bg-color);\n",
              "    border: none;\n",
              "    border-radius: 50%;\n",
              "    cursor: pointer;\n",
              "    display: none;\n",
              "    fill: var(--fill-color);\n",
              "    height: 32px;\n",
              "    padding: 0;\n",
              "    width: 32px;\n",
              "  }\n",
              "\n",
              "  .colab-df-quickchart:hover {\n",
              "    background-color: var(--hover-bg-color);\n",
              "    box-shadow: 0 1px 2px rgba(60, 64, 67, 0.3), 0 1px 3px 1px rgba(60, 64, 67, 0.15);\n",
              "    fill: var(--button-hover-fill-color);\n",
              "  }\n",
              "\n",
              "  .colab-df-quickchart-complete:disabled,\n",
              "  .colab-df-quickchart-complete:disabled:hover {\n",
              "    background-color: var(--disabled-bg-color);\n",
              "    fill: var(--disabled-fill-color);\n",
              "    box-shadow: none;\n",
              "  }\n",
              "\n",
              "  .colab-df-spinner {\n",
              "    border: 2px solid var(--fill-color);\n",
              "    border-color: transparent;\n",
              "    border-bottom-color: var(--fill-color);\n",
              "    animation:\n",
              "      spin 1s steps(1) infinite;\n",
              "  }\n",
              "\n",
              "  @keyframes spin {\n",
              "    0% {\n",
              "      border-color: transparent;\n",
              "      border-bottom-color: var(--fill-color);\n",
              "      border-left-color: var(--fill-color);\n",
              "    }\n",
              "    20% {\n",
              "      border-color: transparent;\n",
              "      border-left-color: var(--fill-color);\n",
              "      border-top-color: var(--fill-color);\n",
              "    }\n",
              "    30% {\n",
              "      border-color: transparent;\n",
              "      border-left-color: var(--fill-color);\n",
              "      border-top-color: var(--fill-color);\n",
              "      border-right-color: var(--fill-color);\n",
              "    }\n",
              "    40% {\n",
              "      border-color: transparent;\n",
              "      border-right-color: var(--fill-color);\n",
              "      border-top-color: var(--fill-color);\n",
              "    }\n",
              "    60% {\n",
              "      border-color: transparent;\n",
              "      border-right-color: var(--fill-color);\n",
              "    }\n",
              "    80% {\n",
              "      border-color: transparent;\n",
              "      border-right-color: var(--fill-color);\n",
              "      border-bottom-color: var(--fill-color);\n",
              "    }\n",
              "    90% {\n",
              "      border-color: transparent;\n",
              "      border-bottom-color: var(--fill-color);\n",
              "    }\n",
              "  }\n",
              "</style>\n",
              "\n",
              "  <script>\n",
              "    async function quickchart(key) {\n",
              "      const quickchartButtonEl =\n",
              "        document.querySelector('#' + key + ' button');\n",
              "      quickchartButtonEl.disabled = true;  // To prevent multiple clicks.\n",
              "      quickchartButtonEl.classList.add('colab-df-spinner');\n",
              "      try {\n",
              "        const charts = await google.colab.kernel.invokeFunction(\n",
              "            'suggestCharts', [key], {});\n",
              "      } catch (error) {\n",
              "        console.error('Error during call to suggestCharts:', error);\n",
              "      }\n",
              "      quickchartButtonEl.classList.remove('colab-df-spinner');\n",
              "      quickchartButtonEl.classList.add('colab-df-quickchart-complete');\n",
              "    }\n",
              "    (() => {\n",
              "      let quickchartButtonEl =\n",
              "        document.querySelector('#df-fdcb1eb8-460f-48c2-b443-ec3ca1e4aeef button');\n",
              "      quickchartButtonEl.style.display =\n",
              "        google.colab.kernel.accessAllowed ? 'block' : 'none';\n",
              "    })();\n",
              "  </script>\n",
              "</div>\n",
              "\n",
              "    </div>\n",
              "  </div>\n"
            ],
            "application/vnd.google.colaboratory.intrinsic+json": {
              "type": "dataframe",
              "variable_name": "data"
            }
          },
          "metadata": {},
          "execution_count": 6
        }
      ],
      "source": [
        "# load data\n",
        "data = pd.read_csv(r\"./credit_card_default_531v.1.csv\")\n",
        "\n",
        "# data preview\n",
        "data.head()"
      ]
    },
    {
      "cell_type": "code",
      "execution_count": null,
      "id": "30766f10-71fd-4220-b018-b33fe1d44815",
      "metadata": {
        "id": "30766f10-71fd-4220-b018-b33fe1d44815",
        "outputId": "1c881f30-2481-4e84-e8a7-0f3d864a8da9",
        "colab": {
          "base_uri": "https://localhost:8080/"
        }
      },
      "outputs": [
        {
          "output_type": "stream",
          "name": "stdout",
          "text": [
            "<class 'pandas.core.frame.DataFrame'>\n",
            "RangeIndex: 30000 entries, 0 to 29999\n",
            "Data columns (total 25 columns):\n",
            " #   Column                      Non-Null Count  Dtype\n",
            "---  ------                      --------------  -----\n",
            " 0   ID                          30000 non-null  int64\n",
            " 1   LIMIT_BAL                   30000 non-null  int64\n",
            " 2   SEX                         30000 non-null  int64\n",
            " 3   EDUCATION                   30000 non-null  int64\n",
            " 4   MARRIAGE                    30000 non-null  int64\n",
            " 5   AGE                         30000 non-null  int64\n",
            " 6   PAY_0                       30000 non-null  int64\n",
            " 7   PAY_2                       30000 non-null  int64\n",
            " 8   PAY_3                       30000 non-null  int64\n",
            " 9   PAY_4                       30000 non-null  int64\n",
            " 10  PAY_5                       30000 non-null  int64\n",
            " 11  PAY_6                       30000 non-null  int64\n",
            " 12  BILL_AMT1                   30000 non-null  int64\n",
            " 13  BILL_AMT2                   30000 non-null  int64\n",
            " 14  BILL_AMT3                   30000 non-null  int64\n",
            " 15  BILL_AMT4                   30000 non-null  int64\n",
            " 16  BILL_AMT5                   30000 non-null  int64\n",
            " 17  BILL_AMT6                   30000 non-null  int64\n",
            " 18  PAY_AMT1                    30000 non-null  int64\n",
            " 19  PAY_AMT2                    30000 non-null  int64\n",
            " 20  PAY_AMT3                    30000 non-null  int64\n",
            " 21  PAY_AMT4                    30000 non-null  int64\n",
            " 22  PAY_AMT5                    30000 non-null  int64\n",
            " 23  PAY_AMT6                    30000 non-null  int64\n",
            " 24  default payment next month  30000 non-null  int64\n",
            "dtypes: int64(25)\n",
            "memory usage: 5.7 MB\n",
            "Missing values:\n",
            " ID                            0\n",
            "LIMIT_BAL                     0\n",
            "SEX                           0\n",
            "EDUCATION                     0\n",
            "MARRIAGE                      0\n",
            "AGE                           0\n",
            "PAY_0                         0\n",
            "PAY_2                         0\n",
            "PAY_3                         0\n",
            "PAY_4                         0\n",
            "PAY_5                         0\n",
            "PAY_6                         0\n",
            "BILL_AMT1                     0\n",
            "BILL_AMT2                     0\n",
            "BILL_AMT3                     0\n",
            "BILL_AMT4                     0\n",
            "BILL_AMT5                     0\n",
            "BILL_AMT6                     0\n",
            "PAY_AMT1                      0\n",
            "PAY_AMT2                      0\n",
            "PAY_AMT3                      0\n",
            "PAY_AMT4                      0\n",
            "PAY_AMT5                      0\n",
            "PAY_AMT6                      0\n",
            "default payment next month    0\n",
            "dtype: int64\n",
            "Unique values in 'SEX': [2 1]\n"
          ]
        }
      ],
      "source": [
        "# structure and data types\n",
        "data.info()\n",
        "\n",
        "# missing values check\n",
        "missing_values = data.isnull().sum()\n",
        "print(\"Missing values:\\n\", missing_values)\n",
        "\n",
        "# unique values in columns related to gender <- dataset uses 1 for male and 2 for female\n",
        "print(\"Unique values in 'SEX':\", data['SEX'].unique())\n"
      ]
    },
    {
      "cell_type": "code",
      "execution_count": null,
      "id": "662cfc6d-1baf-4289-a979-27a8d1638d64",
      "metadata": {
        "id": "662cfc6d-1baf-4289-a979-27a8d1638d64"
      },
      "outputs": [],
      "source": [
        "# Rename only the target column for consistency\n",
        "data.rename(columns={\"default payment next month\": \"DEFAULT_NEXT_MONTH\"}, inplace=True)"
      ]
    },
    {
      "cell_type": "code",
      "execution_count": null,
      "id": "33b4c404-65f8-4e3c-a237-a1f405d539e3",
      "metadata": {
        "id": "33b4c404-65f8-4e3c-a237-a1f405d539e3"
      },
      "outputs": [],
      "source": [
        "# encode SEX column: Male = 1, Female = 0 (already numeric, we are just replace 2 with 0)\n",
        "data[\"SEX\"] = data[\"SEX\"].replace({2: 0})  # Male = 1, Female = 0\n",
        "\n",
        "#EDUCATION: Map numbers to clear numeric categories for interpretability\n",
        "#Graduate = 1, University = 2, High School = 3, Other = 4\n",
        "data[\"EDUCATION\"] = data[\"EDUCATION\"].replace({\n",
        "    0: 4,  # Map 0 to 'Other'\n",
        "    1: 1,  # Graduate\n",
        "    2: 2,  # University\n",
        "    3: 3,  # High School\n",
        "    4: 4,  # Other\n",
        "    5: 4,  # Other\n",
        "    6: 4   # Other\n",
        "})\n",
        "\n",
        "#MARRIAGE: Map numbers to clear numeric categories for interpretability\n",
        "#Married = 1, Single = 2, Other = 3\n",
        "data[\"MARRIAGE\"] = data[\"MARRIAGE\"].replace({\n",
        "    0: 3,  # Map 0 to 'Other'\n",
        "    1: 1,  # Married\n",
        "    2: 2,  # Single\n",
        "    3: 3   # Other\n",
        "})"
      ]
    },
    {
      "cell_type": "code",
      "execution_count": null,
      "id": "bd862c6f-e893-4287-9f23-45671d7d832b",
      "metadata": {
        "id": "bd862c6f-e893-4287-9f23-45671d7d832b"
      },
      "outputs": [],
      "source": [
        "columns_to_keep = [\"LIMIT_BAL\", \"SEX\", \"EDUCATION\", \"MARRIAGE\", \"AGE\", \"DEFAULT_NEXT_MONTH\"]\n",
        "data_subset = data[columns_to_keep]"
      ]
    },
    {
      "cell_type": "markdown",
      "id": "f3ba9ae1-0411-4542-9f43-6560bcef7052",
      "metadata": {
        "id": "f3ba9ae1-0411-4542-9f43-6560bcef7052"
      },
      "source": [
        "## Data Exploration"
      ]
    },
    {
      "cell_type": "code",
      "execution_count": null,
      "id": "57bbd1b7-9113-49ad-a90b-7a04d2f005f7",
      "metadata": {
        "id": "57bbd1b7-9113-49ad-a90b-7a04d2f005f7",
        "outputId": "2fceb31e-6492-4118-8fa9-fdaccef276ea",
        "colab": {
          "base_uri": "https://localhost:8080/",
          "height": 411
        }
      },
      "outputs": [
        {
          "output_type": "display_data",
          "data": {
            "text/plain": [
              "<Figure size 1200x600 with 1 Axes>"
            ],
            "image/png": "[encoded data removed]"
          },
          "metadata": {}
        }
      ],
      "source": [
        "# mean default rate by age\n",
        "age_default_prob = data.groupby(\"AGE\")[\"DEFAULT_NEXT_MONTH\"].mean()\n",
        "\n",
        "# plotting the probability of default by age\n",
        "plt.figure(figsize=(12, 6))\n",
        "sns.lineplot(x=age_default_prob.index, y=age_default_prob.values, marker=\"o\", linestyle=\"-\", color=\"blue\")\n",
        "plt.title(\"Probability of Default by Age\", fontsize=16)\n",
        "plt.xlabel(\"Age\", fontsize=14)\n",
        "plt.ylabel(\"Probability of Default\", fontsize=14)\n",
        "plt.xticks(fontsize=12)\n",
        "plt.yticks(fontsize=12)\n",
        "plt.grid(axis=\"both\", linestyle=\"--\", alpha=0.7)\n",
        "plt.tight_layout()\n",
        "plt.show()"
      ]
    },
    {
      "cell_type": "code",
      "execution_count": null,
      "id": "fc0ef25d-8ed1-4071-afaa-ecff572aa2af",
      "metadata": {
        "id": "fc0ef25d-8ed1-4071-afaa-ecff572aa2af",
        "outputId": "cef7d564-23b3-4f93-a790-9bbd59583be0",
        "colab": {
          "base_uri": "https://localhost:8080/",
          "height": 412
        }
      },
      "outputs": [
        {
          "output_type": "display_data",
          "data": {
            "text/plain": [
              "<Figure size 1400x700 with 1 Axes>"
            ],
            "image/png": "[encoded data removed]"
          },
          "metadata": {}
        }
      ],
      "source": [
        "# bin ages into deciles\n",
        "age_bins = pd.qcut(data[\"AGE\"], q=10, duplicates=\"drop\")\n",
        "data[\"Age_Group\"] = age_bins\n",
        "\n",
        "# get range labels for the deciles\n",
        "age_range_labels = [\n",
        "    f\"{int(interval.left)}-{int(interval.right)}\"\n",
        "    for interval in age_bins.cat.categories\n",
        "]\n",
        "\n",
        "# mapping these range labels back to the data\n",
        "data[\"Age_Group\"] = data[\"Age_Group\"].cat.rename_categories(age_range_labels)\n",
        "\n",
        "# calculate default probabilities for each age group\n",
        "age_default_prob = (\n",
        "    data.groupby(\"Age_Group\", observed=True)[\"DEFAULT_NEXT_MONTH\"]\n",
        "    .mean()\n",
        "    .reset_index()\n",
        "    .rename(columns={\"DEFAULT_NEXT_MONTH\": \"Default_Probability\"})\n",
        ")\n",
        "\n",
        "# plotting default probabilities\n",
        "plt.figure(figsize=(14, 7))\n",
        "sns.barplot(\n",
        "    data=age_default_prob,\n",
        "    x=\"Age_Group\",\n",
        "    y=\"Default_Probability\",\n",
        "    palette=\"coolwarm\",\n",
        "    edgecolor=\"black\",\n",
        ")\n",
        "plt.axhline(\n",
        "    y=age_default_prob[\"Default_Probability\"].mean(),\n",
        "    color=\"red\",\n",
        "    linestyle=\"--\",\n",
        "    linewidth=1.5,\n",
        "    label=\"Mean Default Probability\",\n",
        ")\n",
        "plt.title(\"Probability of Default by Age Group (Deciles)\", fontsize=16, fontweight=\"bold\")\n",
        "plt.xlabel(\"Age Range (Deciles)\", fontsize=14)\n",
        "plt.ylabel(\"Probability of Default\", fontsize=14)\n",
        "plt.xticks(rotation=45, fontsize=12)\n",
        "plt.yticks(fontsize=12)\n",
        "plt.legend(fontsize=12, loc=\"upper right\")\n",
        "plt.grid(axis=\"y\", linestyle=\"--\", alpha=0.7)\n",
        "plt.tight_layout()\n",
        "plt.show()"
      ]
    },
    {
      "cell_type": "code",
      "execution_count": null,
      "id": "cb718245-5560-4228-8af9-b99cd9929119",
      "metadata": {
        "id": "cb718245-5560-4228-8af9-b99cd9929119",
        "outputId": "df1e4394-81e9-4243-afb8-4467e476ef80",
        "colab": {
          "base_uri": "https://localhost:8080/",
          "height": 478
        }
      },
      "outputs": [
        {
          "output_type": "display_data",
          "data": {
            "text/plain": [
              "<Figure size 1200x700 with 1 Axes>"
            ],
            "image/png": "[encoded data removed]"
          },
          "metadata": {}
        }
      ],
      "source": [
        "# define privileged (26-47) and underprivileged groups (21-25, 48+)\n",
        "data[\"Age_Group\"] = data[\"AGE\"].apply(\n",
        "    lambda x: \"Privileged (Ages 26-47)\" if 26 <= x <= 47 else \"Underprivileged (Ages 21-25, 48+)\"\n",
        ")\n",
        "\n",
        "# calculate default probabilities for each group\n",
        "age_group_default_prob = (\n",
        "    data.groupby(\"Age_Group\", observed=True)[\"DEFAULT_NEXT_MONTH\"]\n",
        "    .mean()\n",
        "    .reset_index()\n",
        "    .rename(columns={\"DEFAULT_NEXT_MONTH\": \"Default_Probability\"})\n",
        ")\n",
        "\n",
        "# plot default probabilities with a regression line\n",
        "plt.figure(figsize=(12, 7))\n",
        "\n",
        "sns.barplot(\n",
        "    data=age_group_default_prob,\n",
        "    x=\"Age_Group\",\n",
        "    y=\"Default_Probability\",\n",
        "    palette=\"coolwarm\",\n",
        "    edgecolor=\"black\"\n",
        ")\n",
        "\n",
        "\n",
        "sns.regplot(\n",
        "    x=np.arange(len(age_group_default_prob)),\n",
        "    y=age_group_default_prob[\"Default_Probability\"],\n",
        "    scatter=False, color=\"blue\", label=\"Regression Line\", ci=None\n",
        ")\n",
        "\n",
        "plt.axhline(\n",
        "    y=age_group_default_prob[\"Default_Probability\"].mean(),\n",
        "    color=\"red\",\n",
        "    linestyle=\"--\",\n",
        "    linewidth=1.5,\n",
        "    label=\"Mean Default Probability\"\n",
        ")\n",
        "\n",
        "plt.title(\"Probability of Default by Age Group\", fontsize=16, fontweight=\"bold\")\n",
        "plt.xlabel(\"Age Group\", fontsize=14)\n",
        "plt.ylabel(\"Probability of Default\", fontsize=14)\n",
        "plt.xticks(ticks=np.arange(len(age_group_default_prob)), labels=age_group_default_prob[\"Age_Group\"], fontsize=12)\n",
        "plt.yticks(fontsize=12)\n",
        "plt.legend(fontsize=12, loc=\"upper right\")\n",
        "plt.grid(axis=\"y\", linestyle=\"--\", alpha=0.7)\n",
        "plt.tight_layout()\n",
        "plt.show()"
      ]
    },
    {
      "cell_type": "code",
      "execution_count": null,
      "id": "ad86cf87-23e1-4928-a5c1-aa5b1a795856",
      "metadata": {
        "id": "ad86cf87-23e1-4928-a5c1-aa5b1a795856",
        "outputId": "ddf7fd65-54d6-4201-9e74-c65a308a4e27",
        "colab": {
          "base_uri": "https://localhost:8080/",
          "height": 491
        }
      },
      "outputs": [
        {
          "output_type": "display_data",
          "data": {
            "text/plain": [
              "<Figure size 1000x600 with 1 Axes>"
            ],
            "image/png": "[encoded data removed]"
          },
          "metadata": {}
        }
      ],
      "source": [
        "# define Age_Group for privileged and underprivileged groups\n",
        "youngest_quartile = data[\"AGE\"].quantile(0.25)\n",
        "oldest_quartile = data[\"AGE\"].quantile(0.75)\n",
        "\n",
        "data[\"Age_Group\"] = data[\"AGE\"].apply(\n",
        "    lambda x: 1 if youngest_quartile < x <= oldest_quartile else 0\n",
        ")  # 1 for Privileged 0 for Underprivileged\n",
        "\n",
        "# dbouble checking the gender encoding\n",
        "data[\"Gender_Label\"] = data[\"SEX\"].replace({1: \"Male\", 0: \"Female\"})\n",
        "\n",
        "# underprivileged group\n",
        "underprivileged_group = data[data[\"Age_Group\"] == 0]\n",
        "\n",
        "# default probabilities for males and females in the underprivileged group\n",
        "default_rates_underprivileged = (\n",
        "    underprivileged_group.groupby(\"Gender_Label\")[\"DEFAULT_NEXT_MONTH\"].mean() * 100\n",
        ")\n",
        "\n",
        "# bar plot for default rates in the underprivileged group x gender\n",
        "plt.figure(figsize=(10, 6))\n",
        "sns.barplot(\n",
        "    x=default_rates_underprivileged.index,\n",
        "    y=default_rates_underprivileged.values,\n",
        "    palette=[\"orange\", \"green\"],\n",
        "    edgecolor=\"black\"\n",
        ")\n",
        "plt.title(\"Default Rates for Underprivileged Group by Gender\", fontsize=16, fontweight=\"bold\")\n",
        "plt.ylabel(\"Default Rate (%)\", fontsize=14)\n",
        "plt.xlabel(\"Gender\", fontsize=14)\n",
        "plt.xticks(fontsize=12)\n",
        "plt.yticks(fontsize=12)\n",
        "plt.grid(axis=\"y\", linestyle=\"--\", alpha=0.7)\n",
        "plt.tight_layout()\n",
        "plt.show()"
      ]
    },
    {
      "cell_type": "markdown",
      "id": "e98b4c83-ae2f-4d5a-a702-065b25819f93",
      "metadata": {
        "id": "e98b4c83-ae2f-4d5a-a702-065b25819f93"
      },
      "source": [
        "## Quantifying Dataset Bias"
      ]
    },
    {
      "cell_type": "code",
      "execution_count": null,
      "id": "5837ca9d-e796-4707-8c14-03e05559d4db",
      "metadata": {
        "id": "5837ca9d-e796-4707-8c14-03e05559d4db"
      },
      "outputs": [],
      "source": [
        "# set seed\n",
        "rand = 531\n",
        "np.random.seed(rand)\n",
        "\n",
        "# defining our target and features\n",
        "y = data[\"DEFAULT_NEXT_MONTH\"]\n",
        "X = data.drop([\"DEFAULT_NEXT_MONTH\"], axis=1).copy()\n",
        "\n",
        "# splitting into training and testing datasets\n",
        "X_train, X_test, y_train, y_test = train_test_split(X, y, test_size=0.25, random_state=rand)"
      ]
    },
    {
      "cell_type": "code",
      "execution_count": null,
      "id": "e2b8792a-abcc-4b90-adb1-e2ed1176c053",
      "metadata": {
        "id": "e2b8792a-abcc-4b90-adb1-e2ed1176c053"
      },
      "outputs": [],
      "source": [
        "# privileged and underprivileged Groups for Age\n",
        "X_train[\"Age_Group\"] = X_train[\"AGE\"].apply(lambda x: 1 if 26 <= x <= 47 else 0).copy()\n",
        "X_test[\"Age_Group\"] = X_test[\"AGE\"].apply(lambda x: 1 if 26 <= x <= 47 else 0).copy()"
      ]
    },
    {
      "cell_type": "code",
      "execution_count": null,
      "id": "1d33ca0a-1280-4a45-81f5-690f9f91423f",
      "metadata": {
        "id": "1d33ca0a-1280-4a45-81f5-690f9f91423f"
      },
      "outputs": [],
      "source": [
        "# gender\n",
        "X_train[\"Gender_Label\"] = X_train[\"SEX\"].replace({1: 1, 0: 0})  # female 0, male 1\n",
        "X_test[\"Gender_Label\"] = X_test[\"SEX\"].replace({1: 1, 0: 0})"
      ]
    },
    {
      "cell_type": "code",
      "execution_count": null,
      "id": "33201e78-46a2-4104-9bf3-08cc5043b593",
      "metadata": {
        "id": "33201e78-46a2-4104-9bf3-08cc5043b593"
      },
      "outputs": [],
      "source": [
        "# combine X_train and y_train for BinaryLabelDataset\n",
        "train_ds = BinaryLabelDataset(\n",
        "    df=X_train.join(y_train),\n",
        "    label_names=[\"DEFAULT_NEXT_MONTH\"],\n",
        "    protected_attribute_names=[\"Age_Group\", \"Gender_Label\"],\n",
        "    favorable_label=0,  # 0 did not default\n",
        "    unfavorable_label=1  # 1 defaulted\n",
        ")"
      ]
    },
    {
      "cell_type": "code",
      "execution_count": null,
      "id": "8ddd75bb-0819-47c9-b586-88ab290d3a72",
      "metadata": {
        "id": "8ddd75bb-0819-47c9-b586-88ab290d3a72"
      },
      "outputs": [],
      "source": [
        "# defining our groups, remember- privileged is 26-47 and underprivileged is 21-25, & 48+\n",
        "privileged_groups = [{\"Age_Group\": 1}]\n",
        "unprivileged_groups = [{\"Age_Group\": 0}]"
      ]
    },
    {
      "cell_type": "code",
      "execution_count": null,
      "id": "b7ee746a-a344-4d56-ae25-17d6db7053fc",
      "metadata": {
        "scrolled": true,
        "id": "b7ee746a-a344-4d56-ae25-17d6db7053fc",
        "outputId": "cc34608c-92a4-44dd-b6da-2c3a72bb0a53",
        "colab": {
          "base_uri": "https://localhost:8080/"
        }
      },
      "outputs": [
        {
          "output_type": "stream",
          "name": "stdout",
          "text": [
            "Training Data Metrics:\n",
            "Statistical Parity Difference (SPD): -0.1202\n",
            "Disparate Impact (DI): 0.8480\n",
            "Smoothed Empirical Differential Fairness (SEDF): 0.8774\n"
          ]
        }
      ],
      "source": [
        "# then, compute our metrics for training data\n",
        "metrics_train_ds = BinaryLabelDatasetMetric(\n",
        "    train_ds,\n",
        "    unprivileged_groups=unprivileged_groups,\n",
        "    privileged_groups=privileged_groups\n",
        ")\n",
        "\n",
        "# print results from training data\n",
        "print(\"Training Data Metrics:\")\n",
        "print(f\"Statistical Parity Difference (SPD): {metrics_train_ds.statistical_parity_difference():.4f}\")\n",
        "print(f\"Disparate Impact (DI): {metrics_train_ds.disparate_impact():.4f}\")\n",
        "print(f\"Smoothed Empirical Differential Fairness (SEDF): {metrics_train_ds.smoothed_empirical_differential_fairness():.4f}\")"
      ]
    },
    {
      "cell_type": "markdown",
      "id": "f048efe1-69aa-48a9-b33e-9c1617652d35",
      "metadata": {
        "id": "f048efe1-69aa-48a9-b33e-9c1617652d35"
      },
      "source": [
        "## Quantifying Model Bias"
      ]
    },
    {
      "cell_type": "code",
      "execution_count": null,
      "id": "c7d208a5-078e-4946-84cf-b1ab0ffb71cf",
      "metadata": {
        "id": "c7d208a5-078e-4946-84cf-b1ab0ffb71cf",
        "outputId": "9da5270f-6d6d-4585-b207-310a4907dd17",
        "colab": {
          "base_uri": "https://localhost:8080/",
          "height": 1000
        }
      },
      "outputs": [
        {
          "output_type": "stream",
          "name": "stdout",
          "text": [
            "[LightGBM] [Info] Number of positive: 5373, number of negative: 17127\n",
            "[LightGBM] [Info] Auto-choosing row-wise multi-threading, the overhead of testing was 0.004935 seconds.\n",
            "You can set `force_row_wise=true` to remove the overhead.\n",
            "And if memory is not enough, you can set `force_col_wise=true`.\n",
            "[LightGBM] [Info] Total Bins 3521\n",
            "[LightGBM] [Info] Number of data points in the train set: 22500, number of used features: 26\n",
            "[LightGBM] [Info] [binary:BoostFromScore]: pavg=0.238800 -> initscore=-1.159270\n",
            "[LightGBM] [Info] Start training from score -1.159270\n",
            "[LightGBM] [Warning] No further splits with positive gain, best gain: -inf\n",
            "[LightGBM] [Warning] No further splits with positive gain, best gain: -inf\n",
            "[LightGBM] [Warning] No further splits with positive gain, best gain: -inf\n",
            "[LightGBM] [Warning] No further splits with positive gain, best gain: -inf\n",
            "[LightGBM] [Warning] No further splits with positive gain, best gain: -inf\n",
            "[LightGBM] [Warning] No further splits with positive gain, best gain: -inf\n",
            "[LightGBM] [Warning] No further splits with positive gain, best gain: -inf\n",
            "[LightGBM] [Warning] No further splits with positive gain, best gain: -inf\n",
            "[LightGBM] [Warning] No further splits with positive gain, best gain: -inf\n",
            "[LightGBM] [Warning] No further splits with positive gain, best gain: -inf\n",
            "[LightGBM] [Warning] No further splits with positive gain, best gain: -inf\n",
            "[LightGBM] [Warning] No further splits with positive gain, best gain: -inf\n",
            "[LightGBM] [Warning] No further splits with positive gain, best gain: -inf\n",
            "[LightGBM] [Warning] No further splits with positive gain, best gain: -inf\n",
            "[LightGBM] [Warning] No further splits with positive gain, best gain: -inf\n",
            "[LightGBM] [Warning] No further splits with positive gain, best gain: -inf\n",
            "[LightGBM] [Warning] No further splits with positive gain, best gain: -inf\n",
            "[LightGBM] [Warning] No further splits with positive gain, best gain: -inf\n",
            "[LightGBM] [Warning] No further splits with positive gain, best gain: -inf\n",
            "[LightGBM] [Warning] No further splits with positive gain, best gain: -inf\n",
            "[LightGBM] [Warning] No further splits with positive gain, best gain: -inf\n",
            "[LightGBM] [Warning] No further splits with positive gain, best gain: -inf\n",
            "[LightGBM] [Warning] No further splits with positive gain, best gain: -inf\n",
            "[LightGBM] [Warning] Stopped training because there are no more leaves that meet the split requirements\n",
            "[LightGBM] [Warning] No further splits with positive gain, best gain: -inf\n",
            "[LightGBM] [Warning] Stopped training because there are no more leaves that meet the split requirements\n",
            "[LightGBM] [Warning] No further splits with positive gain, best gain: -inf\n",
            "[LightGBM] [Warning] Stopped training because there are no more leaves that meet the split requirements\n",
            "[LightGBM] [Warning] No further splits with positive gain, best gain: -inf\n",
            "[LightGBM] [Warning] Stopped training because there are no more leaves that meet the split requirements\n",
            "[LightGBM] [Warning] No further splits with positive gain, best gain: -inf\n",
            "[LightGBM] [Warning] Stopped training because there are no more leaves that meet the split requirements\n",
            "[LightGBM] [Warning] No further splits with positive gain, best gain: -inf\n",
            "[LightGBM] [Warning] Stopped training because there are no more leaves that meet the split requirements\n",
            "[LightGBM] [Warning] No further splits with positive gain, best gain: -inf\n",
            "[LightGBM] [Warning] Stopped training because there are no more leaves that meet the split requirements\n",
            "[LightGBM] [Warning] No further splits with positive gain, best gain: -inf\n",
            "[LightGBM] [Warning] Stopped training because there are no more leaves that meet the split requirements\n",
            "[LightGBM] [Warning] No further splits with positive gain, best gain: -inf\n",
            "[LightGBM] [Warning] Stopped training because there are no more leaves that meet the split requirements\n",
            "[LightGBM] [Warning] No further splits with positive gain, best gain: -inf\n",
            "[LightGBM] [Warning] Stopped training because there are no more leaves that meet the split requirements\n",
            "[LightGBM] [Warning] No further splits with positive gain, best gain: -inf\n",
            "[LightGBM] [Warning] Stopped training because there are no more leaves that meet the split requirements\n",
            "[LightGBM] [Warning] No further splits with positive gain, best gain: -inf\n",
            "[LightGBM] [Warning] Stopped training because there are no more leaves that meet the split requirements\n",
            "[LightGBM] [Warning] No further splits with positive gain, best gain: -inf\n",
            "[LightGBM] [Warning] Stopped training because there are no more leaves that meet the split requirements\n",
            "[LightGBM] [Warning] No further splits with positive gain, best gain: -inf\n",
            "[LightGBM] [Warning] Stopped training because there are no more leaves that meet the split requirements\n",
            "[LightGBM] [Warning] No further splits with positive gain, best gain: -inf\n",
            "[LightGBM] [Warning] Stopped training because there are no more leaves that meet the split requirements\n",
            "[LightGBM] [Warning] No further splits with positive gain, best gain: -inf\n",
            "[LightGBM] [Warning] Stopped training because there are no more leaves that meet the split requirements\n",
            "[LightGBM] [Warning] No further splits with positive gain, best gain: -inf\n",
            "[LightGBM] [Warning] Stopped training because there are no more leaves that meet the split requirements\n",
            "[LightGBM] [Warning] No further splits with positive gain, best gain: -inf\n",
            "[LightGBM] [Warning] Stopped training because there are no more leaves that meet the split requirements\n",
            "[LightGBM] [Warning] No further splits with positive gain, best gain: -inf\n",
            "[LightGBM] [Warning] Stopped training because there are no more leaves that meet the split requirements\n",
            "[LightGBM] [Warning] No further splits with positive gain, best gain: -inf\n",
            "[LightGBM] [Warning] Stopped training because there are no more leaves that meet the split requirements\n",
            "[LightGBM] [Warning] No further splits with positive gain, best gain: -inf\n",
            "[LightGBM] [Warning] Stopped training because there are no more leaves that meet the split requirements\n",
            "[LightGBM] [Warning] No further splits with positive gain, best gain: -inf\n",
            "[LightGBM] [Warning] Stopped training because there are no more leaves that meet the split requirements\n",
            "[LightGBM] [Warning] No further splits with positive gain, best gain: -inf\n",
            "[LightGBM] [Warning] Stopped training because there are no more leaves that meet the split requirements\n",
            "[LightGBM] [Warning] No further splits with positive gain, best gain: -inf\n",
            "[LightGBM] [Warning] Stopped training because there are no more leaves that meet the split requirements\n",
            "[LightGBM] [Warning] No further splits with positive gain, best gain: -inf\n",
            "[LightGBM] [Warning] Stopped training because there are no more leaves that meet the split requirements\n",
            "[LightGBM] [Warning] No further splits with positive gain, best gain: -inf\n",
            "[LightGBM] [Warning] Stopped training because there are no more leaves that meet the split requirements\n",
            "[LightGBM] [Warning] No further splits with positive gain, best gain: -inf\n",
            "[LightGBM] [Warning] Stopped training because there are no more leaves that meet the split requirements\n",
            "[LightGBM] [Warning] No further splits with positive gain, best gain: -inf\n",
            "[LightGBM] [Warning] Stopped training because there are no more leaves that meet the split requirements\n",
            "[LightGBM] [Warning] No further splits with positive gain, best gain: -inf\n",
            "[LightGBM] [Warning] Stopped training because there are no more leaves that meet the split requirements\n",
            "[LightGBM] [Warning] No further splits with positive gain, best gain: -inf\n",
            "[LightGBM] [Warning] Stopped training because there are no more leaves that meet the split requirements\n",
            "[LightGBM] [Warning] No further splits with positive gain, best gain: -inf\n",
            "[LightGBM] [Warning] Stopped training because there are no more leaves that meet the split requirements\n",
            "[LightGBM] [Warning] No further splits with positive gain, best gain: -inf\n",
            "[LightGBM] [Warning] Stopped training because there are no more leaves that meet the split requirements\n",
            "[LightGBM] [Warning] No further splits with positive gain, best gain: -inf\n",
            "[LightGBM] [Warning] Stopped training because there are no more leaves that meet the split requirements\n",
            "[LightGBM] [Warning] No further splits with positive gain, best gain: -inf\n",
            "[LightGBM] [Warning] Stopped training because there are no more leaves that meet the split requirements\n",
            "[LightGBM] [Warning] No further splits with positive gain, best gain: -inf\n",
            "[LightGBM] [Warning] Stopped training because there are no more leaves that meet the split requirements\n"
          ]
        },
        {
          "output_type": "execute_result",
          "data": {
            "text/plain": [
              "LGBMClassifier(learning_rate=0.4, max_depth=6, num_leaves=33, random_seed=531,\n",
              "               reg_alpha=21, reg_lambda=1, scale_pos_weight=1.8)"
            ],
            "text/html": [
              "<style>#sk-container-id-1 {\n",
              "  /* Definition of color scheme common for light and dark mode */\n",
              "  --sklearn-color-text: #000;\n",
              "  --sklearn-color-text-muted: #666;\n",
              "  --sklearn-color-line: gray;\n",
              "  /* Definition of color scheme for unfitted estimators */\n",
              "  --sklearn-color-unfitted-level-0: #fff5e6;\n",
              "  --sklearn-color-unfitted-level-1: #f6e4d2;\n",
              "  --sklearn-color-unfitted-level-2: #ffe0b3;\n",
              "  --sklearn-color-unfitted-level-3: chocolate;\n",
              "  /* Definition of color scheme for fitted estimators */\n",
              "  --sklearn-color-fitted-level-0: #f0f8ff;\n",
              "  --sklearn-color-fitted-level-1: #d4ebff;\n",
              "  --sklearn-color-fitted-level-2: #b3dbfd;\n",
              "  --sklearn-color-fitted-level-3: cornflowerblue;\n",
              "\n",
              "  /* Specific color for light theme */\n",
              "  --sklearn-color-text-on-default-background: var(--sg-text-color, var(--theme-code-foreground, var(--jp-content-font-color1, black)));\n",
              "  --sklearn-color-background: var(--sg-background-color, var(--theme-background, var(--jp-layout-color0, white)));\n",
              "  --sklearn-color-border-box: var(--sg-text-color, var(--theme-code-foreground, var(--jp-content-font-color1, black)));\n",
              "  --sklearn-color-icon: #696969;\n",
              "\n",
              "  @media (prefers-color-scheme: dark) {\n",
              "    /* Redefinition of color scheme for dark theme */\n",
              "    --sklearn-color-text-on-default-background: var(--sg-text-color, var(--theme-code-foreground, var(--jp-content-font-color1, white)));\n",
              "    --sklearn-color-background: var(--sg-background-color, var(--theme-background, var(--jp-layout-color0, #111)));\n",
              "    --sklearn-color-border-box: var(--sg-text-color, var(--theme-code-foreground, var(--jp-content-font-color1, white)));\n",
              "    --sklearn-color-icon: #878787;\n",
              "  }\n",
              "}\n",
              "\n",
              "#sk-container-id-1 {\n",
              "  color: var(--sklearn-color-text);\n",
              "}\n",
              "\n",
              "#sk-container-id-1 pre {\n",
              "  padding: 0;\n",
              "}\n",
              "\n",
              "#sk-container-id-1 input.sk-hidden--visually {\n",
              "  border: 0;\n",
              "  clip: rect(1px 1px 1px 1px);\n",
              "  clip: rect(1px, 1px, 1px, 1px);\n",
              "  height: 1px;\n",
              "  margin: -1px;\n",
              "  overflow: hidden;\n",
              "  padding: 0;\n",
              "  position: absolute;\n",
              "  width: 1px;\n",
              "}\n",
              "\n",
              "#sk-container-id-1 div.sk-dashed-wrapped {\n",
              "  border: 1px dashed var(--sklearn-color-line);\n",
              "  margin: 0 0.4em 0.5em 0.4em;\n",
              "  box-sizing: border-box;\n",
              "  padding-bottom: 0.4em;\n",
              "  background-color: var(--sklearn-color-background);\n",
              "}\n",
              "\n",
              "#sk-container-id-1 div.sk-container {\n",
              "  /* jupyter's `normalize.less` sets `[hidden] { display: none; }`\n",
              "     but bootstrap.min.css set `[hidden] { display: none !important; }`\n",
              "     so we also need the `!important` here to be able to override the\n",
              "     default hidden behavior on the sphinx rendered scikit-learn.org.\n",
              "     See: https://github.com/scikit-learn/scikit-learn/issues/21755 */\n",
              "  display: inline-block !important;\n",
              "  position: relative;\n",
              "}\n",
              "\n",
              "#sk-container-id-1 div.sk-text-repr-fallback {\n",
              "  display: none;\n",
              "}\n",
              "\n",
              "div.sk-parallel-item,\n",
              "div.sk-serial,\n",
              "div.sk-item {\n",
              "  /* draw centered vertical line to link estimators */\n",
              "  background-image: linear-gradient(var(--sklearn-color-text-on-default-background), var(--sklearn-color-text-on-default-background));\n",
              "  background-size: 2px 100%;\n",
              "  background-repeat: no-repeat;\n",
              "  background-position: center center;\n",
              "}\n",
              "\n",
              "/* Parallel-specific style estimator block */\n",
              "\n",
              "#sk-container-id-1 div.sk-parallel-item::after {\n",
              "  content: \"\";\n",
              "  width: 100%;\n",
              "  border-bottom: 2px solid var(--sklearn-color-text-on-default-background);\n",
              "  flex-grow: 1;\n",
              "}\n",
              "\n",
              "#sk-container-id-1 div.sk-parallel {\n",
              "  display: flex;\n",
              "  align-items: stretch;\n",
              "  justify-content: center;\n",
              "  background-color: var(--sklearn-color-background);\n",
              "  position: relative;\n",
              "}\n",
              "\n",
              "#sk-container-id-1 div.sk-parallel-item {\n",
              "  display: flex;\n",
              "  flex-direction: column;\n",
              "}\n",
              "\n",
              "#sk-container-id-1 div.sk-parallel-item:first-child::after {\n",
              "  align-self: flex-end;\n",
              "  width: 50%;\n",
              "}\n",
              "\n",
              "#sk-container-id-1 div.sk-parallel-item:last-child::after {\n",
              "  align-self: flex-start;\n",
              "  width: 50%;\n",
              "}\n",
              "\n",
              "#sk-container-id-1 div.sk-parallel-item:only-child::after {\n",
              "  width: 0;\n",
              "}\n",
              "\n",
              "/* Serial-specific style estimator block */\n",
              "\n",
              "#sk-container-id-1 div.sk-serial {\n",
              "  display: flex;\n",
              "  flex-direction: column;\n",
              "  align-items: center;\n",
              "  background-color: var(--sklearn-color-background);\n",
              "  padding-right: 1em;\n",
              "  padding-left: 1em;\n",
              "}\n",
              "\n",
              "\n",
              "/* Toggleable style: style used for estimator/Pipeline/ColumnTransformer box that is\n",
              "clickable and can be expanded/collapsed.\n",
              "- Pipeline and ColumnTransformer use this feature and define the default style\n",
              "- Estimators will overwrite some part of the style using the `sk-estimator` class\n",
              "*/\n",
              "\n",
              "/* Pipeline and ColumnTransformer style (default) */\n",
              "\n",
              "#sk-container-id-1 div.sk-toggleable {\n",
              "  /* Default theme specific background. It is overwritten whether we have a\n",
              "  specific estimator or a Pipeline/ColumnTransformer */\n",
              "  background-color: var(--sklearn-color-background);\n",
              "}\n",
              "\n",
              "/* Toggleable label */\n",
              "#sk-container-id-1 label.sk-toggleable__label {\n",
              "  cursor: pointer;\n",
              "  display: flex;\n",
              "  width: 100%;\n",
              "  margin-bottom: 0;\n",
              "  padding: 0.5em;\n",
              "  box-sizing: border-box;\n",
              "  text-align: center;\n",
              "  align-items: start;\n",
              "  justify-content: space-between;\n",
              "  gap: 0.5em;\n",
              "}\n",
              "\n",
              "#sk-container-id-1 label.sk-toggleable__label .caption {\n",
              "  font-size: 0.6rem;\n",
              "  font-weight: lighter;\n",
              "  color: var(--sklearn-color-text-muted);\n",
              "}\n",
              "\n",
              "#sk-container-id-1 label.sk-toggleable__label-arrow:before {\n",
              "  /* Arrow on the left of the label */\n",
              "  content: \"▸\";\n",
              "  float: left;\n",
              "  margin-right: 0.25em;\n",
              "  color: var(--sklearn-color-icon);\n",
              "}\n",
              "\n",
              "#sk-container-id-1 label.sk-toggleable__label-arrow:hover:before {\n",
              "  color: var(--sklearn-color-text);\n",
              "}\n",
              "\n",
              "/* Toggleable content - dropdown */\n",
              "\n",
              "#sk-container-id-1 div.sk-toggleable__content {\n",
              "  max-height: 0;\n",
              "  max-width: 0;\n",
              "  overflow: hidden;\n",
              "  text-align: left;\n",
              "  /* unfitted */\n",
              "  background-color: var(--sklearn-color-unfitted-level-0);\n",
              "}\n",
              "\n",
              "#sk-container-id-1 div.sk-toggleable__content.fitted {\n",
              "  /* fitted */\n",
              "  background-color: var(--sklearn-color-fitted-level-0);\n",
              "}\n",
              "\n",
              "#sk-container-id-1 div.sk-toggleable__content pre {\n",
              "  margin: 0.2em;\n",
              "  border-radius: 0.25em;\n",
              "  color: var(--sklearn-color-text);\n",
              "  /* unfitted */\n",
              "  background-color: var(--sklearn-color-unfitted-level-0);\n",
              "}\n",
              "\n",
              "#sk-container-id-1 div.sk-toggleable__content.fitted pre {\n",
              "  /* unfitted */\n",
              "  background-color: var(--sklearn-color-fitted-level-0);\n",
              "}\n",
              "\n",
              "#sk-container-id-1 input.sk-toggleable__control:checked~div.sk-toggleable__content {\n",
              "  /* Expand drop-down */\n",
              "  max-height: 200px;\n",
              "  max-width: 100%;\n",
              "  overflow: auto;\n",
              "}\n",
              "\n",
              "#sk-container-id-1 input.sk-toggleable__control:checked~label.sk-toggleable__label-arrow:before {\n",
              "  content: \"▾\";\n",
              "}\n",
              "\n",
              "/* Pipeline/ColumnTransformer-specific style */\n",
              "\n",
              "#sk-container-id-1 div.sk-label input.sk-toggleable__control:checked~label.sk-toggleable__label {\n",
              "  color: var(--sklearn-color-text);\n",
              "  background-color: var(--sklearn-color-unfitted-level-2);\n",
              "}\n",
              "\n",
              "#sk-container-id-1 div.sk-label.fitted input.sk-toggleable__control:checked~label.sk-toggleable__label {\n",
              "  background-color: var(--sklearn-color-fitted-level-2);\n",
              "}\n",
              "\n",
              "/* Estimator-specific style */\n",
              "\n",
              "/* Colorize estimator box */\n",
              "#sk-container-id-1 div.sk-estimator input.sk-toggleable__control:checked~label.sk-toggleable__label {\n",
              "  /* unfitted */\n",
              "  background-color: var(--sklearn-color-unfitted-level-2);\n",
              "}\n",
              "\n",
              "#sk-container-id-1 div.sk-estimator.fitted input.sk-toggleable__control:checked~label.sk-toggleable__label {\n",
              "  /* fitted */\n",
              "  background-color: var(--sklearn-color-fitted-level-2);\n",
              "}\n",
              "\n",
              "#sk-container-id-1 div.sk-label label.sk-toggleable__label,\n",
              "#sk-container-id-1 div.sk-label label {\n",
              "  /* The background is the default theme color */\n",
              "  color: var(--sklearn-color-text-on-default-background);\n",
              "}\n",
              "\n",
              "/* On hover, darken the color of the background */\n",
              "#sk-container-id-1 div.sk-label:hover label.sk-toggleable__label {\n",
              "  color: var(--sklearn-color-text);\n",
              "  background-color: var(--sklearn-color-unfitted-level-2);\n",
              "}\n",
              "\n",
              "/* Label box, darken color on hover, fitted */\n",
              "#sk-container-id-1 div.sk-label.fitted:hover label.sk-toggleable__label.fitted {\n",
              "  color: var(--sklearn-color-text);\n",
              "  background-color: var(--sklearn-color-fitted-level-2);\n",
              "}\n",
              "\n",
              "/* Estimator label */\n",
              "\n",
              "#sk-container-id-1 div.sk-label label {\n",
              "  font-family: monospace;\n",
              "  font-weight: bold;\n",
              "  display: inline-block;\n",
              "  line-height: 1.2em;\n",
              "}\n",
              "\n",
              "#sk-container-id-1 div.sk-label-container {\n",
              "  text-align: center;\n",
              "}\n",
              "\n",
              "/* Estimator-specific */\n",
              "#sk-container-id-1 div.sk-estimator {\n",
              "  font-family: monospace;\n",
              "  border: 1px dotted var(--sklearn-color-border-box);\n",
              "  border-radius: 0.25em;\n",
              "  box-sizing: border-box;\n",
              "  margin-bottom: 0.5em;\n",
              "  /* unfitted */\n",
              "  background-color: var(--sklearn-color-unfitted-level-0);\n",
              "}\n",
              "\n",
              "#sk-container-id-1 div.sk-estimator.fitted {\n",
              "  /* fitted */\n",
              "  background-color: var(--sklearn-color-fitted-level-0);\n",
              "}\n",
              "\n",
              "/* on hover */\n",
              "#sk-container-id-1 div.sk-estimator:hover {\n",
              "  /* unfitted */\n",
              "  background-color: var(--sklearn-color-unfitted-level-2);\n",
              "}\n",
              "\n",
              "#sk-container-id-1 div.sk-estimator.fitted:hover {\n",
              "  /* fitted */\n",
              "  background-color: var(--sklearn-color-fitted-level-2);\n",
              "}\n",
              "\n",
              "/* Specification for estimator info (e.g. \"i\" and \"?\") */\n",
              "\n",
              "/* Common style for \"i\" and \"?\" */\n",
              "\n",
              ".sk-estimator-doc-link,\n",
              "a:link.sk-estimator-doc-link,\n",
              "a:visited.sk-estimator-doc-link {\n",
              "  float: right;\n",
              "  font-size: smaller;\n",
              "  line-height: 1em;\n",
              "  font-family: monospace;\n",
              "  background-color: var(--sklearn-color-background);\n",
              "  border-radius: 1em;\n",
              "  height: 1em;\n",
              "  width: 1em;\n",
              "  text-decoration: none !important;\n",
              "  margin-left: 0.5em;\n",
              "  text-align: center;\n",
              "  /* unfitted */\n",
              "  border: var(--sklearn-color-unfitted-level-1) 1pt solid;\n",
              "  color: var(--sklearn-color-unfitted-level-1);\n",
              "}\n",
              "\n",
              ".sk-estimator-doc-link.fitted,\n",
              "a:link.sk-estimator-doc-link.fitted,\n",
              "a:visited.sk-estimator-doc-link.fitted {\n",
              "  /* fitted */\n",
              "  border: var(--sklearn-color-fitted-level-1) 1pt solid;\n",
              "  color: var(--sklearn-color-fitted-level-1);\n",
              "}\n",
              "\n",
              "/* On hover */\n",
              "div.sk-estimator:hover .sk-estimator-doc-link:hover,\n",
              ".sk-estimator-doc-link:hover,\n",
              "div.sk-label-container:hover .sk-estimator-doc-link:hover,\n",
              ".sk-estimator-doc-link:hover {\n",
              "  /* unfitted */\n",
              "  background-color: var(--sklearn-color-unfitted-level-3);\n",
              "  color: var(--sklearn-color-background);\n",
              "  text-decoration: none;\n",
              "}\n",
              "\n",
              "div.sk-estimator.fitted:hover .sk-estimator-doc-link.fitted:hover,\n",
              ".sk-estimator-doc-link.fitted:hover,\n",
              "div.sk-label-container:hover .sk-estimator-doc-link.fitted:hover,\n",
              ".sk-estimator-doc-link.fitted:hover {\n",
              "  /* fitted */\n",
              "  background-color: var(--sklearn-color-fitted-level-3);\n",
              "  color: var(--sklearn-color-background);\n",
              "  text-decoration: none;\n",
              "}\n",
              "\n",
              "/* Span, style for the box shown on hovering the info icon */\n",
              ".sk-estimator-doc-link span {\n",
              "  display: none;\n",
              "  z-index: 9999;\n",
              "  position: relative;\n",
              "  font-weight: normal;\n",
              "  right: .2ex;\n",
              "  padding: .5ex;\n",
              "  margin: .5ex;\n",
              "  width: min-content;\n",
              "  min-width: 20ex;\n",
              "  max-width: 50ex;\n",
              "  color: var(--sklearn-color-text);\n",
              "  box-shadow: 2pt 2pt 4pt #999;\n",
              "  /* unfitted */\n",
              "  background: var(--sklearn-color-unfitted-level-0);\n",
              "  border: .5pt solid var(--sklearn-color-unfitted-level-3);\n",
              "}\n",
              "\n",
              ".sk-estimator-doc-link.fitted span {\n",
              "  /* fitted */\n",
              "  background: var(--sklearn-color-fitted-level-0);\n",
              "  border: var(--sklearn-color-fitted-level-3);\n",
              "}\n",
              "\n",
              ".sk-estimator-doc-link:hover span {\n",
              "  display: block;\n",
              "}\n",
              "\n",
              "/* \"?\"-specific style due to the `<a>` HTML tag */\n",
              "\n",
              "#sk-container-id-1 a.estimator_doc_link {\n",
              "  float: right;\n",
              "  font-size: 1rem;\n",
              "  line-height: 1em;\n",
              "  font-family: monospace;\n",
              "  background-color: var(--sklearn-color-background);\n",
              "  border-radius: 1rem;\n",
              "  height: 1rem;\n",
              "  width: 1rem;\n",
              "  text-decoration: none;\n",
              "  /* unfitted */\n",
              "  color: var(--sklearn-color-unfitted-level-1);\n",
              "  border: var(--sklearn-color-unfitted-level-1) 1pt solid;\n",
              "}\n",
              "\n",
              "#sk-container-id-1 a.estimator_doc_link.fitted {\n",
              "  /* fitted */\n",
              "  border: var(--sklearn-color-fitted-level-1) 1pt solid;\n",
              "  color: var(--sklearn-color-fitted-level-1);\n",
              "}\n",
              "\n",
              "/* On hover */\n",
              "#sk-container-id-1 a.estimator_doc_link:hover {\n",
              "  /* unfitted */\n",
              "  background-color: var(--sklearn-color-unfitted-level-3);\n",
              "  color: var(--sklearn-color-background);\n",
              "  text-decoration: none;\n",
              "}\n",
              "\n",
              "#sk-container-id-1 a.estimator_doc_link.fitted:hover {\n",
              "  /* fitted */\n",
              "  background-color: var(--sklearn-color-fitted-level-3);\n",
              "}\n",
              "</style><div id=\"sk-container-id-1\" class=\"sk-top-container\"><div class=\"sk-text-repr-fallback\"><pre>LGBMClassifier(learning_rate=0.4, max_depth=6, num_leaves=33, random_seed=531,\n",
              "               reg_alpha=21, reg_lambda=1, scale_pos_weight=1.8)</pre><b>In a Jupyter environment, please rerun this cell to show the HTML representation or trust the notebook. <br />On GitHub, the HTML representation is unable to render, please try loading this page with nbviewer.org.</b></div><div class=\"sk-container\" hidden><div class=\"sk-item\"><div class=\"sk-estimator fitted sk-toggleable\"><input class=\"sk-toggleable__control sk-hidden--visually\" id=\"sk-estimator-id-1\" type=\"checkbox\" checked><label for=\"sk-estimator-id-1\" class=\"sk-toggleable__label fitted sk-toggleable__label-arrow\"><div><div>LGBMClassifier</div></div><div><span class=\"sk-estimator-doc-link fitted\">i<span>Fitted</span></span></div></label><div class=\"sk-toggleable__content fitted\"><pre>LGBMClassifier(learning_rate=0.4, max_depth=6, num_leaves=33, random_seed=531,\n",
              "               reg_alpha=21, reg_lambda=1, scale_pos_weight=1.8)</pre></div> </div></div></div></div>"
            ]
          },
          "metadata": {},
          "execution_count": 21
        }
      ],
      "source": [
        "# train our LightGBM classifier\n",
        "lgb_params = {\n",
        "    'learning_rate': 0.4,\n",
        "    'reg_alpha': 21,\n",
        "    'reg_lambda': 1,\n",
        "    'scale_pos_weight': 1.8\n",
        "}\n",
        "\n",
        "lgb_base_model = LGBMClassifier(random_seed=531, max_depth=6, num_leaves=33, **lgb_params)\n",
        "lgb_base_model.fit(X_train, y_train)"
      ]
    },
    {
      "cell_type": "code",
      "execution_count": null,
      "id": "61f5550f-0ae3-4e1a-a9eb-9d6efcc66790",
      "metadata": {
        "id": "61f5550f-0ae3-4e1a-a9eb-9d6efcc66790",
        "outputId": "c1947db2-a945-45f6-cd00-27bd79289403",
        "colab": {
          "base_uri": "https://localhost:8080/"
        }
      },
      "outputs": [
        {
          "output_type": "stream",
          "name": "stdout",
          "text": [
            "Accuracy (Test): 0.8176\n",
            "Precision (Test): 0.6488\n",
            "Recall (Test): 0.5404\n",
            "F1-Score (Test): 0.5897\n",
            "ROC-AUC (Test): 0.7991\n"
          ]
        }
      ],
      "source": [
        "# evaluate model\n",
        "y_pred_test = lgb_base_model.predict(X_test)\n",
        "y_pred_prob_test = lgb_base_model.predict_proba(X_test)[:, 1]\n",
        "\n",
        "# performance metrics\n",
        "accuracy = accuracy_score(y_test, y_pred_test)\n",
        "precision = precision_score(y_test, y_pred_test)\n",
        "recall = recall_score(y_test, y_pred_test)\n",
        "f1 = f1_score(y_test, y_pred_test)\n",
        "roc_auc = roc_auc_score(y_test, y_pred_prob_test)\n",
        "\n",
        "print(f\"Accuracy (Test): {accuracy:.4f}\")\n",
        "print(f\"Precision (Test): {precision:.4f}\")\n",
        "print(f\"Recall (Test): {recall:.4f}\")\n",
        "print(f\"F1-Score (Test): {f1:.4f}\")\n",
        "print(f\"ROC-AUC (Test): {roc_auc:.4f}\")"
      ]
    },
    {
      "cell_type": "markdown",
      "id": "32a11100-cfb7-42cf-a552-7b0c99a03808",
      "metadata": {
        "id": "32a11100-cfb7-42cf-a552-7b0c99a03808"
      },
      "source": [
        "<b>Training Metrics:</b>\n",
        "- Accuracy (Train): 0.8406\n",
        "- Precision (Train): 0.6911\n",
        "- Recall (Train): 0.6013\n",
        "- F1-Score (Train): 0.6431\n",
        "- ROC-AUC (Train): 0.8802\n",
        "\n",
        "<b>Test Metrics:</b>\n",
        "- Accuracy (Test): 0.8176\n",
        "- Precision (Test): 0.6488\n",
        "- Recall (Test): 0.5404\n",
        "- F1-Score (Test): 0.5897\n",
        "- ROC-AUC (Test): 0.79917991.8802"
      ]
    },
    {
      "cell_type": "code",
      "execution_count": null,
      "id": "b4732433-d847-46b1-a789-8b056f659765",
      "metadata": {
        "id": "b4732433-d847-46b1-a789-8b056f659765",
        "outputId": "8463db43-2b97-4167-ddaf-d84cb893b850",
        "colab": {
          "base_uri": "https://localhost:8080/",
          "height": 564
        }
      },
      "outputs": [
        {
          "output_type": "display_data",
          "data": {
            "text/plain": [
              "<Figure size 800x600 with 1 Axes>"
            ],
            "image/png": "[encoded data removed]"
          },
          "metadata": {}
        }
      ],
      "source": [
        "# there was a biggest decrease in the ROC curve, so it is worthwhile to visualize it\n",
        "fpr, tpr, thresholds = roc_curve(y_test, y_pred_prob_test)\n",
        "plt.figure(figsize=(8, 6))\n",
        "plt.plot(fpr, tpr, label=f\"ROC Curve (AUC = {roc_auc:.4f})\")\n",
        "plt.plot([0, 1], [0, 1], linestyle=\"--\", color=\"gray\")\n",
        "plt.title(\"ROC Curve\")\n",
        "plt.xlabel(\"False Positive Rate\")\n",
        "plt.ylabel(\"True Positive Rate\")\n",
        "plt.legend()\n",
        "plt.grid(True)\n",
        "plt.show()"
      ]
    },
    {
      "cell_type": "code",
      "execution_count": null,
      "id": "978725ae-9c4d-401d-ba38-1f5d9b4106cc",
      "metadata": {
        "id": "978725ae-9c4d-401d-ba38-1f5d9b4106cc",
        "outputId": "a910d4de-7050-4df7-ad71-3bbabab35881",
        "colab": {
          "base_uri": "https://localhost:8080/"
        }
      },
      "outputs": [
        {
          "output_type": "stream",
          "name": "stdout",
          "text": [
            "\n",
            "Fairness Metrics on Test Data:\n",
            "Statistical Parity Difference (SPD): -0.1385\n",
            "Disparate Impact (DI): 0.8339\n",
            "Smoothed Empirical Differential Fairness (SEDF): 0.8774\n"
          ]
        }
      ],
      "source": [
        "# passing test_ds into BinaryLabelDataset\n",
        "test_ds = BinaryLabelDataset(\n",
        "    df=X_test.join(y_test),\n",
        "    label_names=[\"DEFAULT_NEXT_MONTH\"],\n",
        "    protected_attribute_names=[\"Age_Group\", \"Gender_Label\"],\n",
        "    favorable_label=0,  # 0 no default\n",
        "    unfavorable_label=1  # 1 defaulted\n",
        ")\n",
        "# add predictions and scores to the test dataset for our fairness metrics\n",
        "test_pred_ds = test_ds.copy(deepcopy=True)\n",
        "test_pred_ds.labels = y_pred_test.reshape(-1, 1)\n",
        "test_pred_ds.scores = y_pred_prob_test.reshape(-1, 1)\n",
        "\n",
        "# Compute fairness metrics\n",
        "metrics_test_cls = ClassificationMetric(\n",
        "    test_ds,\n",
        "    test_pred_ds,\n",
        "    unprivileged_groups=unprivileged_groups,\n",
        "    privileged_groups=privileged_groups\n",
        ")\n",
        "\n",
        "# print fairness metrics\n",
        "print(\"\\nFairness Metrics on Test Data:\")\n",
        "print(f\"Statistical Parity Difference (SPD): {metrics_test_cls.statistical_parity_difference():.4f}\")\n",
        "print(f\"Disparate Impact (DI): {metrics_test_cls.disparate_impact():.4f}\")\n",
        "print(f\"Smoothed Empirical Differential Fairness (SEDF): {metrics_train_ds.smoothed_empirical_differential_fairness():.4f}\")"
      ]
    },
    {
      "cell_type": "markdown",
      "id": "636a69fd-c591-4b00-9a64-62bb09bf3f66",
      "metadata": {
        "id": "636a69fd-c591-4b00-9a64-62bb09bf3f66"
      },
      "source": [
        "<b>Training Data Metrics:</b>\n",
        "- Statistical Parity Difference (SPD): -0.1202\n",
        "- Disparate Impact (DI): 0.8480\n",
        "- Smoothed Empirical Differential Fairness (SEDF): 0.8774"
      ]
    },
    {
      "cell_type": "markdown",
      "id": "8b53c063-bd46-44f8-8a6d-7b38a1b70fbe",
      "metadata": {
        "id": "8b53c063-bd46-44f8-8a6d-7b38a1b70fbe"
      },
      "source": [
        "## Mitigating Bias"
      ]
    },
    {
      "cell_type": "markdown",
      "id": "9a1e1e4c-d988-4867-bfc6-aa65d6060f82",
      "metadata": {
        "id": "9a1e1e4c-d988-4867-bfc6-aa65d6060f82"
      },
      "source": [
        "### Pre-Processing Bias Mitigation Methods"
      ]
    },
    {
      "cell_type": "markdown",
      "id": "aba7bb49-f132-4ecd-bb56-eb5eaee6f2e0",
      "metadata": {
        "id": "aba7bb49-f132-4ecd-bb56-eb5eaee6f2e0"
      },
      "source": [
        "#### Reweighting (Reweighing) Method"
      ]
    },
    {
      "cell_type": "code",
      "execution_count": null,
      "id": "fab252d2-f015-48a3-978f-400378a28ad4",
      "metadata": {
        "id": "fab252d2-f015-48a3-978f-400378a28ad4",
        "outputId": "cbc14d71-e750-4bbd-eb44-2ba78e9c9073",
        "colab": {
          "base_uri": "https://localhost:8080/"
        }
      },
      "outputs": [
        {
          "output_type": "stream",
          "name": "stdout",
          "text": [
            "Reweighted Training Data Metrics:\n",
            "Statistical Parity Difference (SPD): -0.0000\n",
            "Disparate Impact (DI): 1.0000\n",
            "Smoothed Empirical Differential Fairness (SEDF): 0.7310\n"
          ]
        }
      ],
      "source": [
        "# apply reweighing\n",
        "reweighter = Reweighing(\n",
        "    unprivileged_groups=unprivileged_groups,\n",
        "    privileged_groups=privileged_groups\n",
        ")\n",
        "reweighter.fit(train_ds)\n",
        "train_rw_ds = reweighter.transform(train_ds)\n",
        "\n",
        "# metrics for the reweighted training dataset\n",
        "metrics_train_rw_ds = BinaryLabelDatasetMetric(\n",
        "    train_rw_ds,\n",
        "    unprivileged_groups=unprivileged_groups,\n",
        "    privileged_groups=privileged_groups\n",
        ")\n",
        "\n",
        "# print metrics\n",
        "print('Reweighted Training Data Metrics:')\n",
        "print(f'Statistical Parity Difference (SPD): {metrics_train_rw_ds.statistical_parity_difference():.4f}')\n",
        "print(f'Disparate Impact (DI): {metrics_train_rw_ds.disparate_impact():.4f}')\n",
        "print(f'Smoothed Empirical Differential Fairness (SEDF): {metrics_train_rw_ds.smoothed_empirical_differential_fairness():.4f}')"
      ]
    },
    {
      "cell_type": "markdown",
      "id": "75a0fcc2-1be1-47ad-9fbe-108c73cc2d60",
      "metadata": {
        "id": "75a0fcc2-1be1-47ad-9fbe-108c73cc2d60"
      },
      "source": [
        "### Training LightGBM on the Reweighted Dataset"
      ]
    },
    {
      "cell_type": "code",
      "execution_count": null,
      "id": "2f3a7db0-5983-4ede-bd3e-42837adaea75",
      "metadata": {
        "id": "2f3a7db0-5983-4ede-bd3e-42837adaea75",
        "outputId": "4b3ebe40-2066-4302-da0a-167cb97af532",
        "colab": {
          "base_uri": "https://localhost:8080/",
          "height": 1000
        }
      },
      "outputs": [
        {
          "output_type": "stream",
          "name": "stdout",
          "text": [
            "[LightGBM] [Info] Number of positive: 5373, number of negative: 17127\n",
            "[LightGBM] [Info] Auto-choosing row-wise multi-threading, the overhead of testing was 0.003164 seconds.\n",
            "You can set `force_row_wise=true` to remove the overhead.\n",
            "And if memory is not enough, you can set `force_col_wise=true`.\n",
            "[LightGBM] [Info] Total Bins 3521\n",
            "[LightGBM] [Info] Number of data points in the train set: 22500, number of used features: 26\n",
            "[LightGBM] [Info] [binary:BoostFromScore]: pavg=0.238800 -> initscore=-1.159270\n",
            "[LightGBM] [Info] Start training from score -1.159270\n",
            "[LightGBM] [Warning] No further splits with positive gain, best gain: -inf\n",
            "[LightGBM] [Warning] No further splits with positive gain, best gain: -inf\n",
            "[LightGBM] [Warning] No further splits with positive gain, best gain: -inf\n",
            "[LightGBM] [Warning] No further splits with positive gain, best gain: -inf\n",
            "[LightGBM] [Warning] No further splits with positive gain, best gain: -inf\n",
            "[LightGBM] [Warning] No further splits with positive gain, best gain: -inf\n",
            "[LightGBM] [Warning] No further splits with positive gain, best gain: -inf\n",
            "[LightGBM] [Warning] No further splits with positive gain, best gain: -inf\n",
            "[LightGBM] [Warning] No further splits with positive gain, best gain: -inf\n",
            "[LightGBM] [Warning] No further splits with positive gain, best gain: -inf\n",
            "[LightGBM] [Warning] No further splits with positive gain, best gain: -inf\n",
            "[LightGBM] [Warning] No further splits with positive gain, best gain: -inf\n",
            "[LightGBM] [Warning] No further splits with positive gain, best gain: -inf\n",
            "[LightGBM] [Warning] No further splits with positive gain, best gain: -inf\n",
            "[LightGBM] [Warning] No further splits with positive gain, best gain: -inf\n",
            "[LightGBM] [Warning] No further splits with positive gain, best gain: -inf\n",
            "[LightGBM] [Warning] No further splits with positive gain, best gain: -inf\n",
            "[LightGBM] [Warning] No further splits with positive gain, best gain: -inf\n",
            "[LightGBM] [Warning] No further splits with positive gain, best gain: -inf\n",
            "[LightGBM] [Warning] No further splits with positive gain, best gain: -inf\n",
            "[LightGBM] [Warning] No further splits with positive gain, best gain: -inf\n",
            "[LightGBM] [Warning] No further splits with positive gain, best gain: -inf\n",
            "[LightGBM] [Warning] No further splits with positive gain, best gain: -inf\n",
            "[LightGBM] [Warning] No further splits with positive gain, best gain: -inf\n",
            "[LightGBM] [Warning] No further splits with positive gain, best gain: -inf\n",
            "[LightGBM] [Warning] No further splits with positive gain, best gain: -inf\n",
            "[LightGBM] [Warning] No further splits with positive gain, best gain: -inf\n",
            "[LightGBM] [Warning] No further splits with positive gain, best gain: -inf\n",
            "[LightGBM] [Warning] No further splits with positive gain, best gain: -inf\n",
            "[LightGBM] [Warning] No further splits with positive gain, best gain: -inf\n",
            "[LightGBM] [Warning] No further splits with positive gain, best gain: -inf\n",
            "[LightGBM] [Warning] No further splits with positive gain, best gain: -inf\n",
            "[LightGBM] [Warning] No further splits with positive gain, best gain: -inf\n",
            "[LightGBM] [Warning] Stopped training because there are no more leaves that meet the split requirements\n",
            "[LightGBM] [Warning] No further splits with positive gain, best gain: -inf\n",
            "[LightGBM] [Warning] Stopped training because there are no more leaves that meet the split requirements\n",
            "[LightGBM] [Warning] No further splits with positive gain, best gain: -inf\n",
            "[LightGBM] [Warning] Stopped training because there are no more leaves that meet the split requirements\n",
            "[LightGBM] [Warning] No further splits with positive gain, best gain: -inf\n",
            "[LightGBM] [Warning] Stopped training because there are no more leaves that meet the split requirements\n",
            "[LightGBM] [Warning] No further splits with positive gain, best gain: -inf\n",
            "[LightGBM] [Warning] Stopped training because there are no more leaves that meet the split requirements\n",
            "[LightGBM] [Warning] No further splits with positive gain, best gain: -inf\n",
            "[LightGBM] [Warning] Stopped training because there are no more leaves that meet the split requirements\n",
            "[LightGBM] [Warning] No further splits with positive gain, best gain: -inf\n",
            "[LightGBM] [Warning] Stopped training because there are no more leaves that meet the split requirements\n",
            "[LightGBM] [Warning] No further splits with positive gain, best gain: -inf\n",
            "[LightGBM] [Warning] Stopped training because there are no more leaves that meet the split requirements\n",
            "[LightGBM] [Warning] No further splits with positive gain, best gain: -inf\n",
            "[LightGBM] [Warning] Stopped training because there are no more leaves that meet the split requirements\n",
            "[LightGBM] [Warning] No further splits with positive gain, best gain: -inf\n",
            "[LightGBM] [Warning] Stopped training because there are no more leaves that meet the split requirements\n",
            "[LightGBM] [Warning] No further splits with positive gain, best gain: -inf\n",
            "[LightGBM] [Warning] Stopped training because there are no more leaves that meet the split requirements\n",
            "[LightGBM] [Warning] No further splits with positive gain, best gain: -inf\n",
            "[LightGBM] [Warning] Stopped training because there are no more leaves that meet the split requirements\n",
            "[LightGBM] [Warning] No further splits with positive gain, best gain: -inf\n",
            "[LightGBM] [Warning] Stopped training because there are no more leaves that meet the split requirements\n",
            "[LightGBM] [Warning] No further splits with positive gain, best gain: -inf\n",
            "[LightGBM] [Warning] Stopped training because there are no more leaves that meet the split requirements\n",
            "[LightGBM] [Warning] No further splits with positive gain, best gain: -inf\n",
            "[LightGBM] [Warning] Stopped training because there are no more leaves that meet the split requirements\n",
            "[LightGBM] [Warning] No further splits with positive gain, best gain: -inf\n",
            "[LightGBM] [Warning] Stopped training because there are no more leaves that meet the split requirements\n",
            "[LightGBM] [Warning] No further splits with positive gain, best gain: -inf\n",
            "[LightGBM] [Warning] Stopped training because there are no more leaves that meet the split requirements\n",
            "[LightGBM] [Warning] No further splits with positive gain, best gain: -inf\n",
            "[LightGBM] [Warning] Stopped training because there are no more leaves that meet the split requirements\n",
            "[LightGBM] [Warning] No further splits with positive gain, best gain: -inf\n",
            "[LightGBM] [Warning] Stopped training because there are no more leaves that meet the split requirements\n",
            "[LightGBM] [Warning] No further splits with positive gain, best gain: -inf\n",
            "[LightGBM] [Warning] Stopped training because there are no more leaves that meet the split requirements\n",
            "[LightGBM] [Warning] No further splits with positive gain, best gain: -inf\n",
            "[LightGBM] [Warning] Stopped training because there are no more leaves that meet the split requirements\n",
            "[LightGBM] [Warning] No further splits with positive gain, best gain: -inf\n",
            "[LightGBM] [Warning] Stopped training because there are no more leaves that meet the split requirements\n",
            "[LightGBM] [Warning] No further splits with positive gain, best gain: -inf\n",
            "[LightGBM] [Warning] Stopped training because there are no more leaves that meet the split requirements\n",
            "[LightGBM] [Warning] No further splits with positive gain, best gain: -inf\n",
            "[LightGBM] [Warning] Stopped training because there are no more leaves that meet the split requirements\n",
            "[LightGBM] [Warning] No further splits with positive gain, best gain: -inf\n",
            "[LightGBM] [Warning] Stopped training because there are no more leaves that meet the split requirements\n",
            "[LightGBM] [Warning] No further splits with positive gain, best gain: -inf\n",
            "[LightGBM] [Warning] Stopped training because there are no more leaves that meet the split requirements\n",
            "[LightGBM] [Warning] No further splits with positive gain, best gain: -inf\n",
            "[LightGBM] [Warning] Stopped training because there are no more leaves that meet the split requirements\n"
          ]
        },
        {
          "output_type": "execute_result",
          "data": {
            "text/plain": [
              "LGBMClassifier(learning_rate=0.4, max_depth=6, num_leaves=33, random_state=531,\n",
              "               reg_alpha=21, reg_lambda=1, scale_pos_weight=1.8)"
            ],
            "text/html": [
              "<style>#sk-container-id-2 {\n",
              "  /* Definition of color scheme common for light and dark mode */\n",
              "  --sklearn-color-text: #000;\n",
              "  --sklearn-color-text-muted: #666;\n",
              "  --sklearn-color-line: gray;\n",
              "  /* Definition of color scheme for unfitted estimators */\n",
              "  --sklearn-color-unfitted-level-0: #fff5e6;\n",
              "  --sklearn-color-unfitted-level-1: #f6e4d2;\n",
              "  --sklearn-color-unfitted-level-2: #ffe0b3;\n",
              "  --sklearn-color-unfitted-level-3: chocolate;\n",
              "  /* Definition of color scheme for fitted estimators */\n",
              "  --sklearn-color-fitted-level-0: #f0f8ff;\n",
              "  --sklearn-color-fitted-level-1: #d4ebff;\n",
              "  --sklearn-color-fitted-level-2: #b3dbfd;\n",
              "  --sklearn-color-fitted-level-3: cornflowerblue;\n",
              "\n",
              "  /* Specific color for light theme */\n",
              "  --sklearn-color-text-on-default-background: var(--sg-text-color, var(--theme-code-foreground, var(--jp-content-font-color1, black)));\n",
              "  --sklearn-color-background: var(--sg-background-color, var(--theme-background, var(--jp-layout-color0, white)));\n",
              "  --sklearn-color-border-box: var(--sg-text-color, var(--theme-code-foreground, var(--jp-content-font-color1, black)));\n",
              "  --sklearn-color-icon: #696969;\n",
              "\n",
              "  @media (prefers-color-scheme: dark) {\n",
              "    /* Redefinition of color scheme for dark theme */\n",
              "    --sklearn-color-text-on-default-background: var(--sg-text-color, var(--theme-code-foreground, var(--jp-content-font-color1, white)));\n",
              "    --sklearn-color-background: var(--sg-background-color, var(--theme-background, var(--jp-layout-color0, #111)));\n",
              "    --sklearn-color-border-box: var(--sg-text-color, var(--theme-code-foreground, var(--jp-content-font-color1, white)));\n",
              "    --sklearn-color-icon: #878787;\n",
              "  }\n",
              "}\n",
              "\n",
              "#sk-container-id-2 {\n",
              "  color: var(--sklearn-color-text);\n",
              "}\n",
              "\n",
              "#sk-container-id-2 pre {\n",
              "  padding: 0;\n",
              "}\n",
              "\n",
              "#sk-container-id-2 input.sk-hidden--visually {\n",
              "  border: 0;\n",
              "  clip: rect(1px 1px 1px 1px);\n",
              "  clip: rect(1px, 1px, 1px, 1px);\n",
              "  height: 1px;\n",
              "  margin: -1px;\n",
              "  overflow: hidden;\n",
              "  padding: 0;\n",
              "  position: absolute;\n",
              "  width: 1px;\n",
              "}\n",
              "\n",
              "#sk-container-id-2 div.sk-dashed-wrapped {\n",
              "  border: 1px dashed var(--sklearn-color-line);\n",
              "  margin: 0 0.4em 0.5em 0.4em;\n",
              "  box-sizing: border-box;\n",
              "  padding-bottom: 0.4em;\n",
              "  background-color: var(--sklearn-color-background);\n",
              "}\n",
              "\n",
              "#sk-container-id-2 div.sk-container {\n",
              "  /* jupyter's `normalize.less` sets `[hidden] { display: none; }`\n",
              "     but bootstrap.min.css set `[hidden] { display: none !important; }`\n",
              "     so we also need the `!important` here to be able to override the\n",
              "     default hidden behavior on the sphinx rendered scikit-learn.org.\n",
              "     See: https://github.com/scikit-learn/scikit-learn/issues/21755 */\n",
              "  display: inline-block !important;\n",
              "  position: relative;\n",
              "}\n",
              "\n",
              "#sk-container-id-2 div.sk-text-repr-fallback {\n",
              "  display: none;\n",
              "}\n",
              "\n",
              "div.sk-parallel-item,\n",
              "div.sk-serial,\n",
              "div.sk-item {\n",
              "  /* draw centered vertical line to link estimators */\n",
              "  background-image: linear-gradient(var(--sklearn-color-text-on-default-background), var(--sklearn-color-text-on-default-background));\n",
              "  background-size: 2px 100%;\n",
              "  background-repeat: no-repeat;\n",
              "  background-position: center center;\n",
              "}\n",
              "\n",
              "/* Parallel-specific style estimator block */\n",
              "\n",
              "#sk-container-id-2 div.sk-parallel-item::after {\n",
              "  content: \"\";\n",
              "  width: 100%;\n",
              "  border-bottom: 2px solid var(--sklearn-color-text-on-default-background);\n",
              "  flex-grow: 1;\n",
              "}\n",
              "\n",
              "#sk-container-id-2 div.sk-parallel {\n",
              "  display: flex;\n",
              "  align-items: stretch;\n",
              "  justify-content: center;\n",
              "  background-color: var(--sklearn-color-background);\n",
              "  position: relative;\n",
              "}\n",
              "\n",
              "#sk-container-id-2 div.sk-parallel-item {\n",
              "  display: flex;\n",
              "  flex-direction: column;\n",
              "}\n",
              "\n",
              "#sk-container-id-2 div.sk-parallel-item:first-child::after {\n",
              "  align-self: flex-end;\n",
              "  width: 50%;\n",
              "}\n",
              "\n",
              "#sk-container-id-2 div.sk-parallel-item:last-child::after {\n",
              "  align-self: flex-start;\n",
              "  width: 50%;\n",
              "}\n",
              "\n",
              "#sk-container-id-2 div.sk-parallel-item:only-child::after {\n",
              "  width: 0;\n",
              "}\n",
              "\n",
              "/* Serial-specific style estimator block */\n",
              "\n",
              "#sk-container-id-2 div.sk-serial {\n",
              "  display: flex;\n",
              "  flex-direction: column;\n",
              "  align-items: center;\n",
              "  background-color: var(--sklearn-color-background);\n",
              "  padding-right: 1em;\n",
              "  padding-left: 1em;\n",
              "}\n",
              "\n",
              "\n",
              "/* Toggleable style: style used for estimator/Pipeline/ColumnTransformer box that is\n",
              "clickable and can be expanded/collapsed.\n",
              "- Pipeline and ColumnTransformer use this feature and define the default style\n",
              "- Estimators will overwrite some part of the style using the `sk-estimator` class\n",
              "*/\n",
              "\n",
              "/* Pipeline and ColumnTransformer style (default) */\n",
              "\n",
              "#sk-container-id-2 div.sk-toggleable {\n",
              "  /* Default theme specific background. It is overwritten whether we have a\n",
              "  specific estimator or a Pipeline/ColumnTransformer */\n",
              "  background-color: var(--sklearn-color-background);\n",
              "}\n",
              "\n",
              "/* Toggleable label */\n",
              "#sk-container-id-2 label.sk-toggleable__label {\n",
              "  cursor: pointer;\n",
              "  display: flex;\n",
              "  width: 100%;\n",
              "  margin-bottom: 0;\n",
              "  padding: 0.5em;\n",
              "  box-sizing: border-box;\n",
              "  text-align: center;\n",
              "  align-items: start;\n",
              "  justify-content: space-between;\n",
              "  gap: 0.5em;\n",
              "}\n",
              "\n",
              "#sk-container-id-2 label.sk-toggleable__label .caption {\n",
              "  font-size: 0.6rem;\n",
              "  font-weight: lighter;\n",
              "  color: var(--sklearn-color-text-muted);\n",
              "}\n",
              "\n",
              "#sk-container-id-2 label.sk-toggleable__label-arrow:before {\n",
              "  /* Arrow on the left of the label */\n",
              "  content: \"▸\";\n",
              "  float: left;\n",
              "  margin-right: 0.25em;\n",
              "  color: var(--sklearn-color-icon);\n",
              "}\n",
              "\n",
              "#sk-container-id-2 label.sk-toggleable__label-arrow:hover:before {\n",
              "  color: var(--sklearn-color-text);\n",
              "}\n",
              "\n",
              "/* Toggleable content - dropdown */\n",
              "\n",
              "#sk-container-id-2 div.sk-toggleable__content {\n",
              "  max-height: 0;\n",
              "  max-width: 0;\n",
              "  overflow: hidden;\n",
              "  text-align: left;\n",
              "  /* unfitted */\n",
              "  background-color: var(--sklearn-color-unfitted-level-0);\n",
              "}\n",
              "\n",
              "#sk-container-id-2 div.sk-toggleable__content.fitted {\n",
              "  /* fitted */\n",
              "  background-color: var(--sklearn-color-fitted-level-0);\n",
              "}\n",
              "\n",
              "#sk-container-id-2 div.sk-toggleable__content pre {\n",
              "  margin: 0.2em;\n",
              "  border-radius: 0.25em;\n",
              "  color: var(--sklearn-color-text);\n",
              "  /* unfitted */\n",
              "  background-color: var(--sklearn-color-unfitted-level-0);\n",
              "}\n",
              "\n",
              "#sk-container-id-2 div.sk-toggleable__content.fitted pre {\n",
              "  /* unfitted */\n",
              "  background-color: var(--sklearn-color-fitted-level-0);\n",
              "}\n",
              "\n",
              "#sk-container-id-2 input.sk-toggleable__control:checked~div.sk-toggleable__content {\n",
              "  /* Expand drop-down */\n",
              "  max-height: 200px;\n",
              "  max-width: 100%;\n",
              "  overflow: auto;\n",
              "}\n",
              "\n",
              "#sk-container-id-2 input.sk-toggleable__control:checked~label.sk-toggleable__label-arrow:before {\n",
              "  content: \"▾\";\n",
              "}\n",
              "\n",
              "/* Pipeline/ColumnTransformer-specific style */\n",
              "\n",
              "#sk-container-id-2 div.sk-label input.sk-toggleable__control:checked~label.sk-toggleable__label {\n",
              "  color: var(--sklearn-color-text);\n",
              "  background-color: var(--sklearn-color-unfitted-level-2);\n",
              "}\n",
              "\n",
              "#sk-container-id-2 div.sk-label.fitted input.sk-toggleable__control:checked~label.sk-toggleable__label {\n",
              "  background-color: var(--sklearn-color-fitted-level-2);\n",
              "}\n",
              "\n",
              "/* Estimator-specific style */\n",
              "\n",
              "/* Colorize estimator box */\n",
              "#sk-container-id-2 div.sk-estimator input.sk-toggleable__control:checked~label.sk-toggleable__label {\n",
              "  /* unfitted */\n",
              "  background-color: var(--sklearn-color-unfitted-level-2);\n",
              "}\n",
              "\n",
              "#sk-container-id-2 div.sk-estimator.fitted input.sk-toggleable__control:checked~label.sk-toggleable__label {\n",
              "  /* fitted */\n",
              "  background-color: var(--sklearn-color-fitted-level-2);\n",
              "}\n",
              "\n",
              "#sk-container-id-2 div.sk-label label.sk-toggleable__label,\n",
              "#sk-container-id-2 div.sk-label label {\n",
              "  /* The background is the default theme color */\n",
              "  color: var(--sklearn-color-text-on-default-background);\n",
              "}\n",
              "\n",
              "/* On hover, darken the color of the background */\n",
              "#sk-container-id-2 div.sk-label:hover label.sk-toggleable__label {\n",
              "  color: var(--sklearn-color-text);\n",
              "  background-color: var(--sklearn-color-unfitted-level-2);\n",
              "}\n",
              "\n",
              "/* Label box, darken color on hover, fitted */\n",
              "#sk-container-id-2 div.sk-label.fitted:hover label.sk-toggleable__label.fitted {\n",
              "  color: var(--sklearn-color-text);\n",
              "  background-color: var(--sklearn-color-fitted-level-2);\n",
              "}\n",
              "\n",
              "/* Estimator label */\n",
              "\n",
              "#sk-container-id-2 div.sk-label label {\n",
              "  font-family: monospace;\n",
              "  font-weight: bold;\n",
              "  display: inline-block;\n",
              "  line-height: 1.2em;\n",
              "}\n",
              "\n",
              "#sk-container-id-2 div.sk-label-container {\n",
              "  text-align: center;\n",
              "}\n",
              "\n",
              "/* Estimator-specific */\n",
              "#sk-container-id-2 div.sk-estimator {\n",
              "  font-family: monospace;\n",
              "  border: 1px dotted var(--sklearn-color-border-box);\n",
              "  border-radius: 0.25em;\n",
              "  box-sizing: border-box;\n",
              "  margin-bottom: 0.5em;\n",
              "  /* unfitted */\n",
              "  background-color: var(--sklearn-color-unfitted-level-0);\n",
              "}\n",
              "\n",
              "#sk-container-id-2 div.sk-estimator.fitted {\n",
              "  /* fitted */\n",
              "  background-color: var(--sklearn-color-fitted-level-0);\n",
              "}\n",
              "\n",
              "/* on hover */\n",
              "#sk-container-id-2 div.sk-estimator:hover {\n",
              "  /* unfitted */\n",
              "  background-color: var(--sklearn-color-unfitted-level-2);\n",
              "}\n",
              "\n",
              "#sk-container-id-2 div.sk-estimator.fitted:hover {\n",
              "  /* fitted */\n",
              "  background-color: var(--sklearn-color-fitted-level-2);\n",
              "}\n",
              "\n",
              "/* Specification for estimator info (e.g. \"i\" and \"?\") */\n",
              "\n",
              "/* Common style for \"i\" and \"?\" */\n",
              "\n",
              ".sk-estimator-doc-link,\n",
              "a:link.sk-estimator-doc-link,\n",
              "a:visited.sk-estimator-doc-link {\n",
              "  float: right;\n",
              "  font-size: smaller;\n",
              "  line-height: 1em;\n",
              "  font-family: monospace;\n",
              "  background-color: var(--sklearn-color-background);\n",
              "  border-radius: 1em;\n",
              "  height: 1em;\n",
              "  width: 1em;\n",
              "  text-decoration: none !important;\n",
              "  margin-left: 0.5em;\n",
              "  text-align: center;\n",
              "  /* unfitted */\n",
              "  border: var(--sklearn-color-unfitted-level-1) 1pt solid;\n",
              "  color: var(--sklearn-color-unfitted-level-1);\n",
              "}\n",
              "\n",
              ".sk-estimator-doc-link.fitted,\n",
              "a:link.sk-estimator-doc-link.fitted,\n",
              "a:visited.sk-estimator-doc-link.fitted {\n",
              "  /* fitted */\n",
              "  border: var(--sklearn-color-fitted-level-1) 1pt solid;\n",
              "  color: var(--sklearn-color-fitted-level-1);\n",
              "}\n",
              "\n",
              "/* On hover */\n",
              "div.sk-estimator:hover .sk-estimator-doc-link:hover,\n",
              ".sk-estimator-doc-link:hover,\n",
              "div.sk-label-container:hover .sk-estimator-doc-link:hover,\n",
              ".sk-estimator-doc-link:hover {\n",
              "  /* unfitted */\n",
              "  background-color: var(--sklearn-color-unfitted-level-3);\n",
              "  color: var(--sklearn-color-background);\n",
              "  text-decoration: none;\n",
              "}\n",
              "\n",
              "div.sk-estimator.fitted:hover .sk-estimator-doc-link.fitted:hover,\n",
              ".sk-estimator-doc-link.fitted:hover,\n",
              "div.sk-label-container:hover .sk-estimator-doc-link.fitted:hover,\n",
              ".sk-estimator-doc-link.fitted:hover {\n",
              "  /* fitted */\n",
              "  background-color: var(--sklearn-color-fitted-level-3);\n",
              "  color: var(--sklearn-color-background);\n",
              "  text-decoration: none;\n",
              "}\n",
              "\n",
              "/* Span, style for the box shown on hovering the info icon */\n",
              ".sk-estimator-doc-link span {\n",
              "  display: none;\n",
              "  z-index: 9999;\n",
              "  position: relative;\n",
              "  font-weight: normal;\n",
              "  right: .2ex;\n",
              "  padding: .5ex;\n",
              "  margin: .5ex;\n",
              "  width: min-content;\n",
              "  min-width: 20ex;\n",
              "  max-width: 50ex;\n",
              "  color: var(--sklearn-color-text);\n",
              "  box-shadow: 2pt 2pt 4pt #999;\n",
              "  /* unfitted */\n",
              "  background: var(--sklearn-color-unfitted-level-0);\n",
              "  border: .5pt solid var(--sklearn-color-unfitted-level-3);\n",
              "}\n",
              "\n",
              ".sk-estimator-doc-link.fitted span {\n",
              "  /* fitted */\n",
              "  background: var(--sklearn-color-fitted-level-0);\n",
              "  border: var(--sklearn-color-fitted-level-3);\n",
              "}\n",
              "\n",
              ".sk-estimator-doc-link:hover span {\n",
              "  display: block;\n",
              "}\n",
              "\n",
              "/* \"?\"-specific style due to the `<a>` HTML tag */\n",
              "\n",
              "#sk-container-id-2 a.estimator_doc_link {\n",
              "  float: right;\n",
              "  font-size: 1rem;\n",
              "  line-height: 1em;\n",
              "  font-family: monospace;\n",
              "  background-color: var(--sklearn-color-background);\n",
              "  border-radius: 1rem;\n",
              "  height: 1rem;\n",
              "  width: 1rem;\n",
              "  text-decoration: none;\n",
              "  /* unfitted */\n",
              "  color: var(--sklearn-color-unfitted-level-1);\n",
              "  border: var(--sklearn-color-unfitted-level-1) 1pt solid;\n",
              "}\n",
              "\n",
              "#sk-container-id-2 a.estimator_doc_link.fitted {\n",
              "  /* fitted */\n",
              "  border: var(--sklearn-color-fitted-level-1) 1pt solid;\n",
              "  color: var(--sklearn-color-fitted-level-1);\n",
              "}\n",
              "\n",
              "/* On hover */\n",
              "#sk-container-id-2 a.estimator_doc_link:hover {\n",
              "  /* unfitted */\n",
              "  background-color: var(--sklearn-color-unfitted-level-3);\n",
              "  color: var(--sklearn-color-background);\n",
              "  text-decoration: none;\n",
              "}\n",
              "\n",
              "#sk-container-id-2 a.estimator_doc_link.fitted:hover {\n",
              "  /* fitted */\n",
              "  background-color: var(--sklearn-color-fitted-level-3);\n",
              "}\n",
              "</style><div id=\"sk-container-id-2\" class=\"sk-top-container\"><div class=\"sk-text-repr-fallback\"><pre>LGBMClassifier(learning_rate=0.4, max_depth=6, num_leaves=33, random_state=531,\n",
              "               reg_alpha=21, reg_lambda=1, scale_pos_weight=1.8)</pre><b>In a Jupyter environment, please rerun this cell to show the HTML representation or trust the notebook. <br />On GitHub, the HTML representation is unable to render, please try loading this page with nbviewer.org.</b></div><div class=\"sk-container\" hidden><div class=\"sk-item\"><div class=\"sk-estimator fitted sk-toggleable\"><input class=\"sk-toggleable__control sk-hidden--visually\" id=\"sk-estimator-id-2\" type=\"checkbox\" checked><label for=\"sk-estimator-id-2\" class=\"sk-toggleable__label fitted sk-toggleable__label-arrow\"><div><div>LGBMClassifier</div></div><div><span class=\"sk-estimator-doc-link fitted\">i<span>Fitted</span></span></div></label><div class=\"sk-toggleable__content fitted\"><pre>LGBMClassifier(learning_rate=0.4, max_depth=6, num_leaves=33, random_state=531,\n",
              "               reg_alpha=21, reg_lambda=1, scale_pos_weight=1.8)</pre></div> </div></div></div></div>"
            ]
          },
          "metadata": {},
          "execution_count": 26
        }
      ],
      "source": [
        "# train LightGbM\n",
        "lgb_rw_model = LGBMClassifier(\n",
        "    random_state=531,\n",
        "    max_depth=6,\n",
        "    num_leaves=33,\n",
        "    **lgb_params\n",
        ")\n",
        "\n",
        "# use reweighted dataset's instance weights\n",
        "lgb_rw_model.fit(\n",
        "    X_train,\n",
        "    y_train,\n",
        "    sample_weight=train_rw_ds.instance_weights\n",
        ")\n",
        "\n"
      ]
    },
    {
      "cell_type": "code",
      "execution_count": null,
      "id": "442639a2-e42e-4d38-844f-43800646e77a",
      "metadata": {
        "id": "442639a2-e42e-4d38-844f-43800646e77a",
        "outputId": "bdd46cca-f14e-49a0-c250-0fb1d5b0d841",
        "colab": {
          "base_uri": "https://localhost:8080/"
        }
      },
      "outputs": [
        {
          "output_type": "stream",
          "name": "stdout",
          "text": [
            "\n",
            "Performance Metrics for Reweighted Model:\n",
            "Accuracy (Test): 0.8057\n",
            "Precision (Test): 0.6140\n",
            "Recall (Test): 0.5360\n",
            "F1-Score (Test): 0.5724\n",
            "ROC-AUC (Test): 0.7908\n"
          ]
        }
      ],
      "source": [
        "# evaluate performance metrics\n",
        "y_pred_test_rw = lgb_rw_model.predict(X_test)\n",
        "y_pred_prob_test_rw = lgb_rw_model.predict_proba(X_test)[:, 1]\n",
        "\n",
        "# Compute performance metrics\n",
        "accuracy_rw = accuracy_score(y_test, y_pred_test_rw)\n",
        "precision_rw = precision_score(y_test, y_pred_test_rw)\n",
        "recall_rw = recall_score(y_test, y_pred_test_rw)\n",
        "f1_rw = f1_score(y_test, y_pred_test_rw)\n",
        "roc_auc_rw = roc_auc_score(y_test, y_pred_prob_test_rw)\n",
        "\n",
        "# display\n",
        "print(\"\\nPerformance Metrics for Reweighted Model:\")\n",
        "print(f\"Accuracy (Test): {accuracy_rw:.4f}\")\n",
        "print(f\"Precision (Test): {precision_rw:.4f}\")\n",
        "print(f\"Recall (Test): {recall_rw:.4f}\")\n",
        "print(f\"F1-Score (Test): {f1_rw:.4f}\")\n",
        "print(f\"ROC-AUC (Test): {roc_auc_rw:.4f}\")"
      ]
    },
    {
      "cell_type": "code",
      "execution_count": null,
      "id": "b9f14be3-b918-45b3-9dd3-2d932a10765e",
      "metadata": {
        "id": "b9f14be3-b918-45b3-9dd3-2d932a10765e",
        "outputId": "61b6bcd1-68e9-4ec2-9222-f6e24f81f6f4",
        "colab": {
          "base_uri": "https://localhost:8080/"
        }
      },
      "outputs": [
        {
          "output_type": "stream",
          "name": "stdout",
          "text": [
            "\n",
            "Fairness Metrics for Reweighted Model on Test Data:\n",
            "Statistical Parity Difference (SPD): -0.0541\n",
            "Disparate Impact (DI): 0.9326\n",
            "Equal Opportunity Difference (EOD): 0.0318\n",
            "Average Odds Difference (AOD): -0.0133\n",
            "Differential Fairness Bias Amplification (DFBA): 0.1209\n"
          ]
        }
      ],
      "source": [
        "# compute fairness metrics & add predictions/scores to test ds\n",
        "test_pred_rw_ds = test_ds.copy(deepcopy=True)\n",
        "test_pred_rw_ds.labels = y_pred_test_rw.reshape(-1, 1)\n",
        "test_pred_rw_ds.scores = y_pred_prob_test_rw.reshape(-1, 1)\n",
        "\n",
        "# fairness metrics for the reweighted model\n",
        "metrics_test_rw_cls = ClassificationMetric(\n",
        "    test_ds,\n",
        "    test_pred_rw_ds,\n",
        "    unprivileged_groups=unprivileged_groups,\n",
        "    privileged_groups=privileged_groups\n",
        ")\n",
        "\n",
        "# print\n",
        "print(\"\\nFairness Metrics for Reweighted Model on Test Data:\")\n",
        "print(f\"Statistical Parity Difference (SPD): {metrics_test_rw_cls.statistical_parity_difference():.4f}\")\n",
        "print(f\"Disparate Impact (DI): {metrics_test_rw_cls.disparate_impact():.4f}\")\n",
        "print(f\"Equal Opportunity Difference (EOD): {metrics_test_rw_cls.equal_opportunity_difference():.4f}\")\n",
        "print(f\"Average Odds Difference (AOD): {metrics_test_rw_cls.average_odds_difference():.4f}\")\n",
        "print(f\"Differential Fairness Bias Amplification (DFBA): {metrics_test_rw_cls.differential_fairness_bias_amplification():.4f}\")"
      ]
    },
    {
      "cell_type": "code",
      "execution_count": null,
      "id": "be2e312c-9e9d-41b3-a244-6caa10a8e1a6",
      "metadata": {
        "id": "be2e312c-9e9d-41b3-a244-6caa10a8e1a6",
        "outputId": "b92d11fc-7e58-45e4-e726-b0fd5c4adbed",
        "colab": {
          "base_uri": "https://localhost:8080/"
        }
      },
      "outputs": [
        {
          "output_type": "stream",
          "name": "stdout",
          "text": [
            "\n",
            "Comparison of Original and Reweighted Models:\n",
            "\n",
            "Performance Metrics:\n",
            "Original Model Accuracy: 0.8176 | Reweighted Model Accuracy: 0.8057\n",
            "Original Model Precision: 0.6488 | Reweighted Model Precision: 0.6140\n",
            "Original Model Recall: 0.5404 | Reweighted Model Recall: 0.5360\n",
            "Original Model F1-Score: 0.5897 | Reweighted Model F1-Score: 0.5724\n",
            "Original Model ROC-AUC: 0.7991 | Reweighted Model ROC-AUC: 0.7908\n",
            "\n",
            "Fairness Metrics:\n",
            "Original SPD: -0.1385 | Reweighted SPD: -0.0541\n",
            "Original DI: 0.8339 | Reweighted DI: 0.9326\n",
            "Original SEDF: 0.9115 | Reweighted SEDF: 0.7310\n"
          ]
        }
      ],
      "source": [
        "# comparing results\n",
        "print(\"\\nComparison of Original and Reweighted Models:\")\n",
        "print(\"\\nPerformance Metrics:\")\n",
        "print(f\"Original Model Accuracy: {accuracy:.4f} | Reweighted Model Accuracy: {accuracy_rw:.4f}\")\n",
        "print(f\"Original Model Precision: {precision:.4f} | Reweighted Model Precision: {precision_rw:.4f}\")\n",
        "print(f\"Original Model Recall: {recall:.4f} | Reweighted Model Recall: {recall_rw:.4f}\")\n",
        "print(f\"Original Model F1-Score: {f1:.4f} | Reweighted Model F1-Score: {f1_rw:.4f}\")\n",
        "print(f\"Original Model ROC-AUC: {roc_auc:.4f} | Reweighted Model ROC-AUC: {roc_auc_rw:.4f}\")\n",
        "\n",
        "print(\"\\nFairness Metrics:\")\n",
        "print(f\"Original SPD: {metrics_test_cls.statistical_parity_difference():.4f} | Reweighted SPD: {metrics_test_rw_cls.statistical_parity_difference():.4f}\")\n",
        "print(f\"Original DI: {metrics_test_cls.disparate_impact():.4f} | Reweighted DI: {metrics_test_rw_cls.disparate_impact():.4f}\")\n",
        "print(f\"Original SEDF: {metrics_test_cls.smoothed_empirical_differential_fairness():.4f} | Reweighted SEDF: {metrics_train_rw_ds.smoothed_empirical_differential_fairness():.4f}\")"
      ]
    },
    {
      "cell_type": "markdown",
      "id": "e21d04f3-f1c7-4b06-98f1-a0c5f6e8e084",
      "metadata": {
        "id": "e21d04f3-f1c7-4b06-98f1-a0c5f6e8e084"
      },
      "source": [
        "## Disparate Impact Remover (DIR)"
      ]
    },
    {
      "cell_type": "markdown",
      "id": "ec8a7fba-b901-4666-b467-b3f370a14f27",
      "metadata": {
        "id": "ec8a7fba-b901-4666-b467-b3f370a14f27"
      },
      "source": [
        "The main goal of the DIR is to remove or reduce the disparate impact (unfair treatment) that arises due to sensitive or protected attributes (i.e. age, gender). This is done by \"repairing\" the data so that the values of the sensitive attribute(s) have minimal influence on the non-sensitive attributes while maintaining the relationship with the target variable.\n",
        "\n",
        "The repair level ranges from 0 to 1.\n",
        "- Repair Level = 0: No modification to the dataset, the data remains unchanged.\n",
        "- Repair Level = 1: The sensitive attribute is completely removed, and the features are \"repaired\" to have no correlation with the sensitive attribute.\n",
        "- Intermediate Levels (i.e. 0.5) balance between preserving data utility and reducing disparate impact."
      ]
    },
    {
      "cell_type": "markdown",
      "id": "889f4c8d-1b92-427f-9444-0cfd504ef477",
      "metadata": {
        "id": "889f4c8d-1b92-427f-9444-0cfd504ef477"
      },
      "source": [
        "<b>Benefits:</b>Removes bias before training the model, so it can be applied before any ML model and ensures that modified features are less correlated with sensitive attributes, leading to fairer predictions.\n",
        "\n",
        "<b>Limitations:</b>Reducing the influence of sensitive attributes might reduce the predictive performance of the model. Also, DIR requires a balance in the repair level to avoid overcorrection which could potentially remove useful information."
      ]
    },
    {
      "cell_type": "code",
      "execution_count": null,
      "id": "22e441bd-81ae-40d0-8f44-6237582cd482",
      "metadata": {
        "id": "22e441bd-81ae-40d0-8f44-6237582cd482"
      },
      "outputs": [],
      "source": [
        "# define the levels for repair\n",
        "levels = np.hstack([np.linspace(0., 0.1, 41), np.linspace(0.2, 1, 9)])\n",
        "protected_index = train_ds.feature_names.index(\"Age_Group\")\n",
        "\n",
        "# initialize variables to track the best repair level\n",
        "di = np.array([])  # Collect Disparate Impact for all levels\n",
        "train_dir_ds = None\n",
        "test_dir_ds = None\n",
        "X_train_dir = None\n",
        "X_test_dir = None\n",
        "lgb_dir_model = None"
      ]
    },
    {
      "cell_type": "code",
      "source": [
        "!pip install BlackBoxAuditing"
      ],
      "metadata": {
        "colab": {
          "base_uri": "https://localhost:8080/"
        },
        "id": "QX5xCGU0ewUn",
        "outputId": "bfda044e-9685-4d8e-d094-bfc350cb42af"
      },
      "id": "QX5xCGU0ewUn",
      "execution_count": null,
      "outputs": [
        {
          "output_type": "stream",
          "name": "stdout",
          "text": [
            "Collecting BlackBoxAuditing\n",
            "  Downloading BlackBoxAuditing-0.1.54.tar.gz (2.6 MB)\n",
            "\u001b[?25l     \u001b[90m━━━━━━━━━━━━━━━━━━━━━━━━━━━━━━━━━━━━━━━━\u001b[0m \u001b[32m0.0/2.6 MB\u001b[0m \u001b[31m?\u001b[0m eta \u001b[36m-:--:--\u001b[0m\r\u001b[2K     \u001b[90m━━━━━━━━━━━━━━━━━━━━━━━━━━━━━━━━━━━━━━━━\u001b[0m \u001b[32m2.6/2.6 MB\u001b[0m \u001b[31m49.2 MB/s\u001b[0m eta \u001b[36m0:00:00\u001b[0m\n",
            "\u001b[?25h  Preparing metadata (setup.py) ... \u001b[?25l\u001b[?25hdone\n",
            "Requirement already satisfied: networkx in /usr/local/lib/python3.11/dist-packages (from BlackBoxAuditing) (3.4.2)\n",
            "Requirement already satisfied: matplotlib in /usr/local/lib/python3.11/dist-packages (from BlackBoxAuditing) (3.10.0)\n",
            "Requirement already satisfied: pandas in /usr/local/lib/python3.11/dist-packages (from BlackBoxAuditing) (2.2.2)\n",
            "Requirement already satisfied: numpy in /usr/local/lib/python3.11/dist-packages (from BlackBoxAuditing) (1.26.4)\n",
            "Requirement already satisfied: contourpy>=1.0.1 in /usr/local/lib/python3.11/dist-packages (from matplotlib->BlackBoxAuditing) (1.3.1)\n",
            "Requirement already satisfied: cycler>=0.10 in /usr/local/lib/python3.11/dist-packages (from matplotlib->BlackBoxAuditing) (0.12.1)\n",
            "Requirement already satisfied: fonttools>=4.22.0 in /usr/local/lib/python3.11/dist-packages (from matplotlib->BlackBoxAuditing) (4.56.0)\n",
            "Requirement already satisfied: kiwisolver>=1.3.1 in /usr/local/lib/python3.11/dist-packages (from matplotlib->BlackBoxAuditing) (1.4.8)\n",
            "Requirement already satisfied: packaging>=20.0 in /usr/local/lib/python3.11/dist-packages (from matplotlib->BlackBoxAuditing) (24.2)\n",
            "Requirement already satisfied: pillow>=8 in /usr/local/lib/python3.11/dist-packages (from matplotlib->BlackBoxAuditing) (11.1.0)\n",
            "Requirement already satisfied: pyparsing>=2.3.1 in /usr/local/lib/python3.11/dist-packages (from matplotlib->BlackBoxAuditing) (3.2.1)\n",
            "Requirement already satisfied: python-dateutil>=2.7 in /usr/local/lib/python3.11/dist-packages (from matplotlib->BlackBoxAuditing) (2.8.2)\n",
            "Requirement already satisfied: pytz>=2020.1 in /usr/local/lib/python3.11/dist-packages (from pandas->BlackBoxAuditing) (2025.1)\n",
            "Requirement already satisfied: tzdata>=2022.7 in /usr/local/lib/python3.11/dist-packages (from pandas->BlackBoxAuditing) (2025.1)\n",
            "Requirement already satisfied: six>=1.5 in /usr/local/lib/python3.11/dist-packages (from python-dateutil>=2.7->matplotlib->BlackBoxAuditing) (1.17.0)\n",
            "Building wheels for collected packages: BlackBoxAuditing\n",
            "  Building wheel for BlackBoxAuditing (setup.py) ... \u001b[?25l\u001b[?25hdone\n",
            "  Created wheel for BlackBoxAuditing: filename=BlackBoxAuditing-0.1.54-py2.py3-none-any.whl size=1394756 sha256=77cc1c53c82cdc3dfee6b6a2e201dade4c823c6a188fe786d646466b4ac75b4f\n",
            "  Stored in directory: /root/.cache/pip/wheels/c9/8c/03/073e80e604151fb4cdc68b2e56a97f338d7723e4a4ab5e3823\n",
            "Successfully built BlackBoxAuditing\n",
            "Installing collected packages: BlackBoxAuditing\n",
            "Successfully installed BlackBoxAuditing-0.1.54\n"
          ]
        }
      ]
    },
    {
      "cell_type": "code",
      "execution_count": null,
      "id": "b801a996-e9c1-4cf7-9a7f-a9e975c49ea9",
      "metadata": {
        "id": "b801a996-e9c1-4cf7-9a7f-a9e975c49ea9",
        "outputId": "83ec8173-22d2-47f3-855c-222f2a9e60a0",
        "colab": {
          "base_uri": "https://localhost:8080/"
        }
      },
      "outputs": [
        {
          "output_type": "stream",
          "name": "stderr",
          "text": [
            "  2%|▏         | 1/50 [00:08<06:50,  8.37s/it]"
          ]
        },
        {
          "output_type": "stream",
          "name": "stdout",
          "text": [
            "Repair Level: 0.00, Disparate Impact: 0.8350\n"
          ]
        },
        {
          "output_type": "stream",
          "name": "stderr",
          "text": [
            "\r  4%|▍         | 2/50 [00:15<06:09,  7.70s/it]"
          ]
        },
        {
          "output_type": "stream",
          "name": "stdout",
          "text": [
            "Repair Level: 0.00, Disparate Impact: 0.8464\n"
          ]
        },
        {
          "output_type": "stream",
          "name": "stderr",
          "text": [
            "\r  6%|▌         | 3/50 [00:24<06:17,  8.04s/it]"
          ]
        },
        {
          "output_type": "stream",
          "name": "stdout",
          "text": [
            "Repair Level: 0.01, Disparate Impact: 0.8401\n"
          ]
        },
        {
          "output_type": "stream",
          "name": "stderr",
          "text": [
            "\r  8%|▊         | 4/50 [00:31<06:02,  7.88s/it]"
          ]
        },
        {
          "output_type": "stream",
          "name": "stdout",
          "text": [
            "Repair Level: 0.01, Disparate Impact: 0.8405\n"
          ]
        },
        {
          "output_type": "stream",
          "name": "stderr",
          "text": [
            "\r 10%|█         | 5/50 [00:40<06:11,  8.25s/it]"
          ]
        },
        {
          "output_type": "stream",
          "name": "stdout",
          "text": [
            "Repair Level: 0.01, Disparate Impact: 0.8419\n"
          ]
        },
        {
          "output_type": "stream",
          "name": "stderr",
          "text": [
            "\r 12%|█▏        | 6/50 [00:48<06:04,  8.29s/it]"
          ]
        },
        {
          "output_type": "stream",
          "name": "stdout",
          "text": [
            "Repair Level: 0.01, Disparate Impact: 0.8330\n"
          ]
        },
        {
          "output_type": "stream",
          "name": "stderr",
          "text": [
            "\r 14%|█▍        | 7/50 [00:56<05:49,  8.13s/it]"
          ]
        },
        {
          "output_type": "stream",
          "name": "stdout",
          "text": [
            "Repair Level: 0.01, Disparate Impact: 0.8332\n"
          ]
        },
        {
          "output_type": "stream",
          "name": "stderr",
          "text": [
            "\r 16%|█▌        | 8/50 [01:04<05:40,  8.10s/it]"
          ]
        },
        {
          "output_type": "stream",
          "name": "stdout",
          "text": [
            "Repair Level: 0.02, Disparate Impact: 0.8338\n"
          ]
        },
        {
          "output_type": "stream",
          "name": "stderr",
          "text": [
            "\r 18%|█▊        | 9/50 [01:13<05:36,  8.20s/it]"
          ]
        },
        {
          "output_type": "stream",
          "name": "stdout",
          "text": [
            "Repair Level: 0.02, Disparate Impact: 0.8365\n"
          ]
        },
        {
          "output_type": "stream",
          "name": "stderr",
          "text": [
            "\r 20%|██        | 10/50 [01:20<05:12,  7.82s/it]"
          ]
        },
        {
          "output_type": "stream",
          "name": "stdout",
          "text": [
            "Repair Level: 0.02, Disparate Impact: 0.8393\n"
          ]
        },
        {
          "output_type": "stream",
          "name": "stderr",
          "text": [
            "\r 22%|██▏       | 11/50 [01:28<05:07,  7.89s/it]"
          ]
        },
        {
          "output_type": "stream",
          "name": "stdout",
          "text": [
            "Repair Level: 0.03, Disparate Impact: 0.8398\n"
          ]
        },
        {
          "output_type": "stream",
          "name": "stderr",
          "text": [
            "\r 24%|██▍       | 12/50 [01:36<05:09,  8.13s/it]"
          ]
        },
        {
          "output_type": "stream",
          "name": "stdout",
          "text": [
            "Repair Level: 0.03, Disparate Impact: 0.8317\n"
          ]
        },
        {
          "output_type": "stream",
          "name": "stderr",
          "text": [
            "\r 26%|██▌       | 13/50 [01:43<04:46,  7.76s/it]"
          ]
        },
        {
          "output_type": "stream",
          "name": "stdout",
          "text": [
            "Repair Level: 0.03, Disparate Impact: 0.8422\n"
          ]
        },
        {
          "output_type": "stream",
          "name": "stderr",
          "text": [
            "\r 28%|██▊       | 14/50 [01:52<04:47,  7.99s/it]"
          ]
        },
        {
          "output_type": "stream",
          "name": "stdout",
          "text": [
            "Repair Level: 0.03, Disparate Impact: 0.8403\n"
          ]
        },
        {
          "output_type": "stream",
          "name": "stderr",
          "text": [
            "\r 30%|███       | 15/50 [02:00<04:39,  7.97s/it]"
          ]
        },
        {
          "output_type": "stream",
          "name": "stdout",
          "text": [
            "Repair Level: 0.04, Disparate Impact: 0.8363\n"
          ]
        },
        {
          "output_type": "stream",
          "name": "stderr",
          "text": [
            "\r 32%|███▏      | 16/50 [02:07<04:28,  7.89s/it]"
          ]
        },
        {
          "output_type": "stream",
          "name": "stdout",
          "text": [
            "Repair Level: 0.04, Disparate Impact: 0.8439\n"
          ]
        },
        {
          "output_type": "stream",
          "name": "stderr",
          "text": [
            "\r 34%|███▍      | 17/50 [02:15<04:21,  7.93s/it]"
          ]
        },
        {
          "output_type": "stream",
          "name": "stdout",
          "text": [
            "Repair Level: 0.04, Disparate Impact: 0.8417\n"
          ]
        },
        {
          "output_type": "stream",
          "name": "stderr",
          "text": [
            "\r 36%|███▌      | 18/50 [02:24<04:19,  8.10s/it]"
          ]
        },
        {
          "output_type": "stream",
          "name": "stdout",
          "text": [
            "Repair Level: 0.04, Disparate Impact: 0.8447\n"
          ]
        },
        {
          "output_type": "stream",
          "name": "stderr",
          "text": [
            "\r 38%|███▊      | 19/50 [02:32<04:06,  7.96s/it]"
          ]
        },
        {
          "output_type": "stream",
          "name": "stdout",
          "text": [
            "Repair Level: 0.04, Disparate Impact: 0.8406\n"
          ]
        },
        {
          "output_type": "stream",
          "name": "stderr",
          "text": [
            "\r 40%|████      | 20/50 [02:40<03:59,  7.98s/it]"
          ]
        },
        {
          "output_type": "stream",
          "name": "stdout",
          "text": [
            "Repair Level: 0.05, Disparate Impact: 0.8439\n"
          ]
        },
        {
          "output_type": "stream",
          "name": "stderr",
          "text": [
            "\r 42%|████▏     | 21/50 [02:48<03:51,  7.97s/it]"
          ]
        },
        {
          "output_type": "stream",
          "name": "stdout",
          "text": [
            "Repair Level: 0.05, Disparate Impact: 0.8377\n"
          ]
        },
        {
          "output_type": "stream",
          "name": "stderr",
          "text": [
            "\r 44%|████▍     | 22/50 [02:55<03:40,  7.88s/it]"
          ]
        },
        {
          "output_type": "stream",
          "name": "stdout",
          "text": [
            "Repair Level: 0.05, Disparate Impact: 0.8327\n"
          ]
        },
        {
          "output_type": "stream",
          "name": "stderr",
          "text": [
            "\r 46%|████▌     | 23/50 [03:04<03:40,  8.17s/it]"
          ]
        },
        {
          "output_type": "stream",
          "name": "stdout",
          "text": [
            "Repair Level: 0.06, Disparate Impact: 0.8407\n"
          ]
        },
        {
          "output_type": "stream",
          "name": "stderr",
          "text": [
            "\r 48%|████▊     | 24/50 [03:11<03:23,  7.82s/it]"
          ]
        },
        {
          "output_type": "stream",
          "name": "stdout",
          "text": [
            "Repair Level: 0.06, Disparate Impact: 0.8362\n"
          ]
        },
        {
          "output_type": "stream",
          "name": "stderr",
          "text": [
            "\r 50%|█████     | 25/50 [03:19<03:17,  7.89s/it]"
          ]
        },
        {
          "output_type": "stream",
          "name": "stdout",
          "text": [
            "Repair Level: 0.06, Disparate Impact: 0.8369\n"
          ]
        },
        {
          "output_type": "stream",
          "name": "stderr",
          "text": [
            "\r 52%|█████▏    | 26/50 [03:27<03:12,  8.01s/it]"
          ]
        },
        {
          "output_type": "stream",
          "name": "stdout",
          "text": [
            "Repair Level: 0.06, Disparate Impact: 0.8259\n"
          ]
        },
        {
          "output_type": "stream",
          "name": "stderr",
          "text": [
            "\r 54%|█████▍    | 27/50 [03:38<03:19,  8.66s/it]"
          ]
        },
        {
          "output_type": "stream",
          "name": "stdout",
          "text": [
            "Repair Level: 0.07, Disparate Impact: 0.8339\n"
          ]
        },
        {
          "output_type": "stream",
          "name": "stderr",
          "text": [
            "\r 56%|█████▌    | 28/50 [04:01<04:45, 12.99s/it]"
          ]
        },
        {
          "output_type": "stream",
          "name": "stdout",
          "text": [
            "Repair Level: 0.07, Disparate Impact: 0.8403\n"
          ]
        },
        {
          "output_type": "stream",
          "name": "stderr",
          "text": [
            "\r 58%|█████▊    | 29/50 [04:10<04:06, 11.75s/it]"
          ]
        },
        {
          "output_type": "stream",
          "name": "stdout",
          "text": [
            "Repair Level: 0.07, Disparate Impact: 0.8337\n"
          ]
        },
        {
          "output_type": "stream",
          "name": "stderr",
          "text": [
            "\r 60%|██████    | 30/50 [04:16<03:26, 10.30s/it]"
          ]
        },
        {
          "output_type": "stream",
          "name": "stdout",
          "text": [
            "Repair Level: 0.07, Disparate Impact: 0.8325\n"
          ]
        },
        {
          "output_type": "stream",
          "name": "stderr",
          "text": [
            "\r 62%|██████▏   | 31/50 [04:25<03:07,  9.87s/it]"
          ]
        },
        {
          "output_type": "stream",
          "name": "stdout",
          "text": [
            "Repair Level: 0.07, Disparate Impact: 0.8327\n"
          ]
        },
        {
          "output_type": "stream",
          "name": "stderr",
          "text": [
            "\r 64%|██████▍   | 32/50 [04:34<02:49,  9.41s/it]"
          ]
        },
        {
          "output_type": "stream",
          "name": "stdout",
          "text": [
            "Repair Level: 0.08, Disparate Impact: 0.8477\n"
          ]
        },
        {
          "output_type": "stream",
          "name": "stderr",
          "text": [
            "\r 66%|██████▌   | 33/50 [04:41<02:27,  8.69s/it]"
          ]
        },
        {
          "output_type": "stream",
          "name": "stdout",
          "text": [
            "Repair Level: 0.08, Disparate Impact: 0.8339\n"
          ]
        },
        {
          "output_type": "stream",
          "name": "stderr",
          "text": [
            "\r 68%|██████▊   | 34/50 [04:50<02:20,  8.75s/it]"
          ]
        },
        {
          "output_type": "stream",
          "name": "stdout",
          "text": [
            "Repair Level: 0.08, Disparate Impact: 0.8285\n"
          ]
        },
        {
          "output_type": "stream",
          "name": "stderr",
          "text": [
            "\r 70%|███████   | 35/50 [04:57<02:05,  8.36s/it]"
          ]
        },
        {
          "output_type": "stream",
          "name": "stdout",
          "text": [
            "Repair Level: 0.09, Disparate Impact: 0.8313\n"
          ]
        },
        {
          "output_type": "stream",
          "name": "stderr",
          "text": [
            "\r 72%|███████▏  | 36/50 [05:05<01:54,  8.17s/it]"
          ]
        },
        {
          "output_type": "stream",
          "name": "stdout",
          "text": [
            "Repair Level: 0.09, Disparate Impact: 0.8284\n"
          ]
        },
        {
          "output_type": "stream",
          "name": "stderr",
          "text": [
            "\r 74%|███████▍  | 37/50 [05:14<01:49,  8.38s/it]"
          ]
        },
        {
          "output_type": "stream",
          "name": "stdout",
          "text": [
            "Repair Level: 0.09, Disparate Impact: 0.8402\n"
          ]
        },
        {
          "output_type": "stream",
          "name": "stderr",
          "text": [
            "\r 76%|███████▌  | 38/50 [05:21<01:37,  8.11s/it]"
          ]
        },
        {
          "output_type": "stream",
          "name": "stdout",
          "text": [
            "Repair Level: 0.09, Disparate Impact: 0.8428\n"
          ]
        },
        {
          "output_type": "stream",
          "name": "stderr",
          "text": [
            "\r 78%|███████▊  | 39/50 [05:29<01:27,  7.95s/it]"
          ]
        },
        {
          "output_type": "stream",
          "name": "stdout",
          "text": [
            "Repair Level: 0.10, Disparate Impact: 0.8385\n"
          ]
        },
        {
          "output_type": "stream",
          "name": "stderr",
          "text": [
            "\r 80%|████████  | 40/50 [05:37<01:21,  8.20s/it]"
          ]
        },
        {
          "output_type": "stream",
          "name": "stdout",
          "text": [
            "Repair Level: 0.10, Disparate Impact: 0.8421\n"
          ]
        },
        {
          "output_type": "stream",
          "name": "stderr",
          "text": [
            "\r 82%|████████▏ | 41/50 [05:45<01:12,  8.07s/it]"
          ]
        },
        {
          "output_type": "stream",
          "name": "stdout",
          "text": [
            "Repair Level: 0.10, Disparate Impact: 0.8421\n"
          ]
        },
        {
          "output_type": "stream",
          "name": "stderr",
          "text": [
            "\r 84%|████████▍ | 42/50 [05:53<01:03,  7.94s/it]"
          ]
        },
        {
          "output_type": "stream",
          "name": "stdout",
          "text": [
            "Repair Level: 0.20, Disparate Impact: 0.8495\n"
          ]
        },
        {
          "output_type": "stream",
          "name": "stderr",
          "text": [
            "\r 86%|████████▌ | 43/50 [06:03<00:59,  8.45s/it]"
          ]
        },
        {
          "output_type": "stream",
          "name": "stdout",
          "text": [
            "Repair Level: 0.30, Disparate Impact: 0.8617\n"
          ]
        },
        {
          "output_type": "stream",
          "name": "stderr",
          "text": [
            "\r 88%|████████▊ | 44/50 [06:10<00:48,  8.08s/it]"
          ]
        },
        {
          "output_type": "stream",
          "name": "stdout",
          "text": [
            "Repair Level: 0.40, Disparate Impact: 0.8683\n"
          ]
        },
        {
          "output_type": "stream",
          "name": "stderr",
          "text": [
            "\r 90%|█████████ | 45/50 [06:18<00:40,  8.19s/it]"
          ]
        },
        {
          "output_type": "stream",
          "name": "stdout",
          "text": [
            "Repair Level: 0.50, Disparate Impact: 0.8667\n"
          ]
        },
        {
          "output_type": "stream",
          "name": "stderr",
          "text": [
            "\r 92%|█████████▏| 46/50 [06:26<00:32,  8.01s/it]"
          ]
        },
        {
          "output_type": "stream",
          "name": "stdout",
          "text": [
            "Repair Level: 0.60, Disparate Impact: 0.7952\n"
          ]
        },
        {
          "output_type": "stream",
          "name": "stderr",
          "text": [
            "\r 94%|█████████▍| 47/50 [06:32<00:22,  7.58s/it]"
          ]
        },
        {
          "output_type": "stream",
          "name": "stdout",
          "text": [
            "Repair Level: 0.70, Disparate Impact: 0.8285\n"
          ]
        },
        {
          "output_type": "stream",
          "name": "stderr",
          "text": [
            "\r 96%|█████████▌| 48/50 [06:40<00:15,  7.57s/it]"
          ]
        },
        {
          "output_type": "stream",
          "name": "stdout",
          "text": [
            "Repair Level: 0.80, Disparate Impact: 0.8349\n"
          ]
        },
        {
          "output_type": "stream",
          "name": "stderr",
          "text": [
            "\r 98%|█████████▊| 49/50 [06:46<00:07,  7.19s/it]"
          ]
        },
        {
          "output_type": "stream",
          "name": "stdout",
          "text": [
            "Repair Level: 0.90, Disparate Impact: 0.8117\n"
          ]
        },
        {
          "output_type": "stream",
          "name": "stderr",
          "text": [
            "100%|██████████| 50/50 [06:53<00:00,  8.28s/it]"
          ]
        },
        {
          "output_type": "stream",
          "name": "stdout",
          "text": [
            "Repair Level: 1.00, Disparate Impact: 0.8123\n"
          ]
        },
        {
          "output_type": "stream",
          "name": "stderr",
          "text": [
            "\n"
          ]
        }
      ],
      "source": [
        "# loop through repair levels\n",
        "for level in tqdm(levels):\n",
        "    #apply DIR at the current repair level\n",
        "    di_remover = DisparateImpactRemover(repair_level=level)\n",
        "    train_dir_ds_i = di_remover.fit_transform(train_ds)\n",
        "    test_dir_ds_i = di_remover.fit_transform(test_ds)\n",
        "\n",
        "    #remove protected attribute from the features\n",
        "    X_train_dir_i = np.delete(train_dir_ds_i.features, protected_index, axis=1)\n",
        "    X_test_dir_i = np.delete(test_dir_ds_i.features, protected_index, axis=1)\n",
        "\n",
        "    # train LightGBM model on the repaired dataset\n",
        "    lgb_dir_model_i = lgb.LGBMClassifier(\n",
        "        random_state=rand, max_depth=5, num_leaves=33, verbose=-1, **lgb_params\n",
        "    )\n",
        "    lgb_dir_model_i.fit(X_train_dir_i, train_dir_ds_i.labels)\n",
        "\n",
        "    #predict on the repaired test dataset\n",
        "    test_dir_ds_pred_i = test_dir_ds_i.copy()\n",
        "    test_dir_ds_pred_i.labels = lgb_dir_model_i.predict(X_test_dir_i)\n",
        "\n",
        "    # fairness metrics\n",
        "    metrics_test_dir_ds = BinaryLabelDatasetMetric(\n",
        "        test_dir_ds_pred_i,\n",
        "        unprivileged_groups=unprivileged_groups,\n",
        "        privileged_groups=privileged_groups,\n",
        "    )\n",
        "    di_i = metrics_test_dir_ds.disparate_impact()\n",
        "\n",
        "    # track and print DI for this level\n",
        "    print(f\"Repair Level: {level:.2f}, Disparate Impact: {di_i:.4f}\")\n",
        "\n",
        "    # update the best results if this level is closest to DI=1\n",
        "    if (di.shape[0] == 0) or (np.min(np.abs(di - 1)) >= abs(di_i - 1)):\n",
        "        train_dir_ds = train_dir_ds_i\n",
        "        test_dir_ds = test_dir_ds_i\n",
        "        X_train_dir = X_train_dir_i\n",
        "        X_test_dir = X_test_dir_i\n",
        "        lgb_dir_model = lgb_dir_model_i\n",
        "\n",
        "    # append to DI list\n",
        "    di = np.append(di, di_i)\n"
      ]
    },
    {
      "cell_type": "code",
      "execution_count": null,
      "id": "54e306d3-658c-43cb-b661-c5a84df59e9f",
      "metadata": {
        "id": "54e306d3-658c-43cb-b661-c5a84df59e9f",
        "outputId": "e8d950dc-302a-4975-d6a6-33f7c21bd822",
        "colab": {
          "base_uri": "https://localhost:8080/",
          "height": 487
        }
      },
      "outputs": [
        {
          "output_type": "display_data",
          "data": {
            "text/plain": [
              "<Figure size 1100x600 with 1 Axes>"
            ],
            "image/png": "[encoded data removed]"
          },
          "metadata": {}
        }
      ],
      "source": [
        "# Plot Disparate Impact across repair levels\n",
        "import matplotlib.pyplot as plt\n",
        "import seaborn as sns\n",
        "\n",
        "di = di[:len(levels)]\n",
        "\n",
        "# Use Seaborn style for better visuals\n",
        "sns.set(style=\"whitegrid\")\n",
        "\n",
        "plt.figure(figsize=(11, 6))\n",
        "\n",
        "# Plot the Disparate Impact (DI) against repair levels\n",
        "plt.plot(levels, di, marker=\"o\", linestyle=\"-\", color=\"blue\", label=\"Disparate Impact\")\n",
        "\n",
        "# Add labels, title, and legend\n",
        "plt.ylabel(\"Disparate Impact (DI)\", fontsize=14)\n",
        "plt.xlabel(\"Repair Level\", fontsize=14)\n",
        "plt.title(\"Disparate Impact Across Repair Levels\", fontsize=16)\n",
        "plt.legend(fontsize=12)\n",
        "\n",
        "# Show grid for readability\n",
        "plt.grid(True)\n",
        "\n",
        "# Display the plot\n",
        "plt.show()\n",
        "\n",
        "from IPython.display import display\n",
        "display(plt.gcf())\n"
      ]
    },
    {
      "cell_type": "code",
      "execution_count": null,
      "id": "a9f82be8-7cc3-4db6-82de-bf5c31a2fca1",
      "metadata": {
        "id": "a9f82be8-7cc3-4db6-82de-bf5c31a2fca1",
        "outputId": "eb4250fa-a8d1-42e4-d385-e78636959a13",
        "colab": {
          "base_uri": "https://localhost:8080/"
        }
      },
      "outputs": [
        {
          "output_type": "stream",
          "name": "stdout",
          "text": [
            "Best Repair Level: 0.40\n",
            "Disparate Impact at Best Level: 0.8683\n"
          ]
        }
      ],
      "source": [
        "# print the best repair level and its corresponding disparate impact\n",
        "best_level = levels[np.argmin(np.abs(di - 1))]\n",
        "print(f\"Best Repair Level: {best_level:.2f}\")\n",
        "print(f\"Disparate Impact at Best Level: {di[np.argmin(np.abs(di - 1))]:.4f}\")\n"
      ]
    },
    {
      "cell_type": "code",
      "execution_count": null,
      "id": "d010efc3-1924-40ce-b558-b6b1135a3e71",
      "metadata": {
        "scrolled": true,
        "id": "d010efc3-1924-40ce-b558-b6b1135a3e71",
        "outputId": "ff1b717d-7b01-49cf-96e7-451f5383c5f1",
        "colab": {
          "base_uri": "https://localhost:8080/"
        }
      },
      "outputs": [
        {
          "output_type": "stream",
          "name": "stdout",
          "text": [
            "Performance Metrics on Test Data (DIR Applied):\n",
            "Accuracy: 0.8109\n",
            "Precision: 0.6281\n",
            "Recall: 0.5404\n",
            "F1-Score: 0.5810\n",
            "ROC-AUC: 0.7949\n",
            "\n",
            "Fairness Metrics on Test Data (DIR Applied):\n",
            "Statistical Parity Difference (SPD): -0.1078\n",
            "Disparate Impact (DI): 0.8683\n",
            "Equal Opportunity Difference (EOD): -0.0170\n",
            "Average Odds Difference (AOD): -0.0699\n",
            "Differential Fairness Bias Amplification (DFBA): 0.1588\n"
          ]
        }
      ],
      "source": [
        "# predict on the modified test data (from DIR)\n",
        "y_pred_test_dir = lgb_dir_model.predict(X_test_dir)\n",
        "y_pred_prob_test_dir = lgb_dir_model.predict_proba(X_test_dir)[:, 1]\n",
        "\n",
        "# compute performance metrics on the test data\n",
        "accuracy_test_dir = accuracy_score(y_test, y_pred_test_dir)\n",
        "precision_test_dir = precision_score(y_test, y_pred_test_dir)\n",
        "recall_test_dir = recall_score(y_test, y_pred_test_dir)\n",
        "f1_test_dir = f1_score(y_test, y_pred_test_dir)\n",
        "roc_auc_test_dir = roc_auc_score(y_test, y_pred_prob_test_dir)\n",
        "\n",
        "#display\n",
        "print(\"Performance Metrics on Test Data (DIR Applied):\")\n",
        "print(f\"Accuracy: {accuracy_test_dir:.4f}\")\n",
        "print(f\"Precision: {precision_test_dir:.4f}\")\n",
        "print(f\"Recall: {recall_test_dir:.4f}\")\n",
        "print(f\"F1-Score: {f1_test_dir:.4f}\")\n",
        "print(f\"ROC-AUC: {roc_auc_test_dir:.4f}\")\n",
        "\n",
        "# predictions and scores to the BinaryLabelDataset for our fairness metrics\n",
        "test_dir_ds_pred = test_dir_ds.copy(deepcopy=True)\n",
        "test_dir_ds_pred.labels = y_pred_test_dir.reshape(-1, 1)\n",
        "test_dir_ds_pred.scores = y_pred_prob_test_dir.reshape(-1, 1)\n",
        "\n",
        "# fairness metrics\n",
        "metrics_test_dir_cls = ClassificationMetric(\n",
        "    test_dir_ds,\n",
        "    test_dir_ds_pred,\n",
        "    unprivileged_groups=unprivileged_groups,\n",
        "    privileged_groups=privileged_groups\n",
        ")\n",
        "\n",
        "# display\n",
        "print(\"\\nFairness Metrics on Test Data (DIR Applied):\")\n",
        "print(f\"Statistical Parity Difference (SPD): {metrics_test_dir_cls.statistical_parity_difference():.4f}\")\n",
        "print(f\"Disparate Impact (DI): {metrics_test_dir_cls.disparate_impact():.4f}\")\n",
        "print(f\"Equal Opportunity Difference (EOD): {metrics_test_dir_cls.equal_opportunity_difference():.4f}\")\n",
        "print(f\"Average Odds Difference (AOD): {metrics_test_dir_cls.average_odds_difference():.4f}\")\n",
        "print(f\"Differential Fairness Bias Amplification (DFBA): {metrics_test_dir_cls.differential_fairness_bias_amplification():.4f}\")\n"
      ]
    },
    {
      "cell_type": "code",
      "execution_count": null,
      "id": "cae3b491-8670-4406-9dcd-a302d5435968",
      "metadata": {
        "id": "cae3b491-8670-4406-9dcd-a302d5435968",
        "outputId": "df350c25-9311-4462-938a-e72f59b5a13f",
        "colab": {
          "base_uri": "https://localhost:8080/"
        }
      },
      "outputs": [
        {
          "output_type": "stream",
          "name": "stdout",
          "text": [
            "\n",
            "Comparison of Performance Metrics Across Models:\n",
            "Metric         Original       Reweighted     DIR Applied    \n",
            "------------------------------------------------------------\n",
            "Accuracy       0.8176         0.8057         0.8109         \n",
            "Precision      0.6488         0.6140         0.6281         \n",
            "Recall         0.5404         0.5360         0.5404         \n",
            "F1-Score       0.5897         0.5724         0.5810         \n",
            "ROC-AUC        0.7991         0.7908         0.7949         \n",
            "\n",
            "Comparison of Fairness Metrics Across Models:\n",
            "Metric         Original       Reweighted     DIR Applied    \n",
            "------------------------------------------------------------\n",
            "SPD            -0.1385        -0.0541        -0.1078        \n",
            "DI             0.8339         0.9326         0.8683         \n",
            "SEDF           0.9115         0.7310         0.9115         \n"
          ]
        }
      ],
      "source": [
        "# Comparison of ALL Performance Metrics\n",
        "print(\"\\nComparison of Performance Metrics Across Models:\")\n",
        "print(f\"{'Metric':<15}{'Original':<15}{'Reweighted':<15}{'DIR Applied':<15}\")\n",
        "print(\"-\" * 60)\n",
        "print(f\"{'Accuracy':<15}{accuracy:<15.4f}{accuracy_rw:<15.4f}{accuracy_test_dir:<15.4f}\")\n",
        "print(f\"{'Precision':<15}{precision:<15.4f}{precision_rw:<15.4f}{precision_test_dir:<15.4f}\")\n",
        "print(f\"{'Recall':<15}{recall:<15.4f}{recall_rw:<15.4f}{recall_test_dir:<15.4f}\")\n",
        "print(f\"{'F1-Score':<15}{f1:<15.4f}{f1_rw:<15.4f}{f1_test_dir:<15.4f}\")\n",
        "print(f\"{'ROC-AUC':<15}{roc_auc:<15.4f}{roc_auc_rw:<15.4f}{roc_auc_test_dir:<15.4f}\")\n",
        "\n",
        "# Comparison of ALL Fairness Metrics (SPD, DI, SEDF)\n",
        "print(\"\\nComparison of Fairness Metrics Across Models:\")\n",
        "print(f\"{'Metric':<15}{'Original':<15}{'Reweighted':<15}{'DIR Applied':<15}\")\n",
        "print(\"-\" * 60)\n",
        "print(f\"{'SPD':<15}{metrics_test_cls.statistical_parity_difference():<15.4f}{metrics_test_rw_cls.statistical_parity_difference():<15.4f}{metrics_test_dir_cls.statistical_parity_difference():<15.4f}\")\n",
        "print(f\"{'DI':<15}{metrics_test_cls.disparate_impact():<15.4f}{metrics_test_rw_cls.disparate_impact():<15.4f}{metrics_test_dir_cls.disparate_impact():<15.4f}\")\n",
        "print(f\"{'SEDF':<15}{metrics_test_cls.smoothed_empirical_differential_fairness():<15.4f}{metrics_train_rw_ds.smoothed_empirical_differential_fairness():<15.4f}{metrics_test_dir_cls.smoothed_empirical_differential_fairness():<15.4f}\")"
      ]
    },
    {
      "cell_type": "markdown",
      "id": "5b2fe417-6107-4626-89be-1b6fc83cc518",
      "metadata": {
        "id": "5b2fe417-6107-4626-89be-1b6fc83cc518"
      },
      "source": [
        "*****"
      ]
    },
    {
      "cell_type": "markdown",
      "id": "559a9709-00eb-4b1e-a0bc-85606d469f7a",
      "metadata": {
        "id": "559a9709-00eb-4b1e-a0bc-85606d469f7a"
      },
      "source": [
        "# Assignment Instructions"
      ]
    },
    {
      "cell_type": "markdown",
      "id": "0f729c93-a352-4c96-81a3-de9d216a8dd2",
      "metadata": {
        "id": "0f729c93-a352-4c96-81a3-de9d216a8dd2"
      },
      "source": [
        "<b>Objective:</b>\n",
        "\n",
        "In this assignment, you will explore the impact of fairness metrics after applying the Disparate Impact Remover (DIR), retrain a Light GBM model with the adjusted data, and compare its metrics (listed below) against the original and reweighted models from the lab tutorial. Afterward, respond to the reflection questions."
      ]
    },
    {
      "cell_type": "markdown",
      "id": "e1572c03-03b2-41ff-b89a-8c1d89bb8ccb",
      "metadata": {
        "id": "e1572c03-03b2-41ff-b89a-8c1d89bb8ccb"
      },
      "source": [
        "<b>Part 1: Experimentation with the DIR (assignment output should be included in 3.1 Exercise Document</b>\n",
        "\n",
        "-\t(Part 1.1a. & 1.1b.): Modify the levels array for the Disparate Impact Remover to include finer and coarser granularity. (See example in lab/assignment notebook.)\n",
        "-\t(Part 1.2): Identify the best repair level and the Disparate Impact at the best repair level.\n",
        "-\t(Part 1.3): Retrain a Light GBM model on the modified DIR data with the best repair level and compute both the performance metrics and the fairness metrics.\n"
      ]
    },
    {
      "cell_type": "code",
      "source": [
        "def apply_dir(levels, train_ds, test_ds,protected_index):\n",
        "  di = np.array([])\n",
        "  di_list = []\n",
        "  #train_dir_ds = None\n",
        "  #test_dir_ds = None\n",
        "  #X_train_dir = None\n",
        "  #X_test_dir = None\n",
        "  lgb_dir_model = None\n",
        "  # loop through repair levels\n",
        "  for level in tqdm(levels):\n",
        "      #apply DIR at the current repair level\n",
        "      di_remover = DisparateImpactRemover(repair_level=level)\n",
        "      train_dir_ds_i = di_remover.fit_transform(train_ds)\n",
        "      test_dir_ds_i = di_remover.fit_transform(test_ds)\n",
        "\n",
        "      #remove protected attribute from the features\n",
        "      X_train_dir_i = np.delete(train_dir_ds_i.features, protected_index, axis=1)\n",
        "      X_test_dir_i = np.delete(test_dir_ds_i.features, protected_index, axis=1)\n",
        "\n",
        "      # train LightGBM model on the repaired dataset\n",
        "      lgb_dir_model_i = lgb.LGBMClassifier(\n",
        "          random_state=rand, max_depth=5, num_leaves=33, verbose=-1, **lgb_params\n",
        "      )\n",
        "      lgb_dir_model_i.fit(X_train_dir_i, train_dir_ds_i.labels)\n",
        "\n",
        "      #predict on the repaired test dataset\n",
        "      test_dir_ds_pred_i = test_dir_ds_i.copy()\n",
        "      test_dir_ds_pred_i.labels = lgb_dir_model_i.predict(X_test_dir_i)\n",
        "\n",
        "      # fairness metrics\n",
        "      metrics_test_dir_ds = BinaryLabelDatasetMetric(\n",
        "          test_dir_ds_pred_i,\n",
        "          unprivileged_groups=unprivileged_groups,\n",
        "          privileged_groups=privileged_groups,\n",
        "      )\n",
        "      di_i = metrics_test_dir_ds.disparate_impact()\n",
        "\n",
        "\n",
        "      # track and print DI for this level\n",
        "      print(f\"Repair Level: {level:.2f}, Disparate Impact: {di_i:.4f}\")\n",
        "\n",
        "      # update the best results if this level is closest to DI=1\n",
        "      if (di.shape[0] == 0) or (np.min(np.abs(di - 1)) >= abs(di_i - 1)):\n",
        "          train_dir_ds = train_dir_ds_i\n",
        "          test_dir_ds = test_dir_ds_i\n",
        "          X_train_dir = X_train_dir_i\n",
        "          X_test_dir = X_test_dir_i\n",
        "          lgb_dir_model = lgb_dir_model_i\n",
        "\n",
        "      # append to DI list\n",
        "      di = np.append(di, di_i)\n",
        "      di_list.append(di_i)\n",
        "\n",
        "  return np.array(di_list)\n"
      ],
      "metadata": {
        "id": "fP06NeAFmSDI"
      },
      "id": "fP06NeAFmSDI",
      "execution_count": null,
      "outputs": []
    },
    {
      "cell_type": "code",
      "source": [
        "def plot_di_repair_level(levels, di):\n",
        "  # Plot Disparate Impact across repair levels\n",
        "  import matplotlib.pyplot as plt\n",
        "  import seaborn as sns\n",
        "\n",
        "  di = di[:len(levels)]\n",
        "\n",
        "  # Use Seaborn style for better visuals\n",
        "  sns.set(style=\"whitegrid\")\n",
        "\n",
        "  plt.figure(figsize=(11, 6))\n",
        "\n",
        "  # Plot the Disparate Impact (DI) against repair levels\n",
        "  plt.plot(levels, di, marker=\"o\", linestyle=\"-\", color=\"blue\", label=\"Disparate Impact\")\n",
        "\n",
        "  # Add labels, title, and legend\n",
        "  plt.ylabel(\"Disparate Impact (DI)\", fontsize=14)\n",
        "  plt.xlabel(\"Repair Level\", fontsize=14)\n",
        "  plt.title(\"Disparate Impact Across Repair Levels\", fontsize=16)\n",
        "  plt.legend(fontsize=12)\n",
        "\n",
        "  # Show grid for readability\n",
        "  plt.grid(True)\n",
        "\n",
        "  # Display the plot\n",
        "  plt.show()\n",
        "\n",
        "  from IPython.display import display\n",
        "  display(plt.gcf())\n"
      ],
      "metadata": {
        "id": "ZffDFiq8nGmp"
      },
      "id": "ZffDFiq8nGmp",
      "execution_count": null,
      "outputs": []
    },
    {
      "cell_type": "code",
      "source": [
        "def print_best_repair_level(levels):\n",
        "  # print the best repair level and its corresponding disparate impact\n",
        "  best_level = levels[np.argmin(np.abs(di - 1))]\n",
        "  print(f\"Best Repair Level: {best_level:.2f}\")\n",
        "  print(f\"Disparate Impact at Best Level: {di[np.argmin(np.abs(di - 1))]:.4f}\")\n"
      ],
      "metadata": {
        "id": "ucSjhHdtncix"
      },
      "id": "ucSjhHdtncix",
      "execution_count": null,
      "outputs": []
    },
    {
      "cell_type": "code",
      "execution_count": null,
      "id": "7b97e9e7-a49e-4c72-8bed-cd3205c29d7e",
      "metadata": {
        "id": "7b97e9e7-a49e-4c72-8bed-cd3205c29d7e",
        "colab": {
          "base_uri": "https://localhost:8080/",
          "height": 1000
        },
        "outputId": "a1d83cf5-1f62-40e0-f790-c2a4cd427977"
      },
      "outputs": [
        {
          "output_type": "stream",
          "name": "stderr",
          "text": [
            "  2%|▎         | 1/40 [00:11<07:35, 11.68s/it]"
          ]
        },
        {
          "output_type": "stream",
          "name": "stdout",
          "text": [
            "Repair Level: 0.00, Disparate Impact: 0.8350\n"
          ]
        },
        {
          "output_type": "stream",
          "name": "stderr",
          "text": [
            "\r  5%|▌         | 2/40 [00:19<05:56,  9.37s/it]"
          ]
        },
        {
          "output_type": "stream",
          "name": "stdout",
          "text": [
            "Repair Level: 0.01, Disparate Impact: 0.8358\n"
          ]
        },
        {
          "output_type": "stream",
          "name": "stderr",
          "text": [
            "\r  8%|▊         | 3/40 [00:28<05:37,  9.12s/it]"
          ]
        },
        {
          "output_type": "stream",
          "name": "stdout",
          "text": [
            "Repair Level: 0.01, Disparate Impact: 0.8438\n"
          ]
        },
        {
          "output_type": "stream",
          "name": "stderr",
          "text": [
            "\r 10%|█         | 4/40 [00:35<04:57,  8.27s/it]"
          ]
        },
        {
          "output_type": "stream",
          "name": "stdout",
          "text": [
            "Repair Level: 0.02, Disparate Impact: 0.8389\n"
          ]
        },
        {
          "output_type": "stream",
          "name": "stderr",
          "text": [
            "\r 12%|█▎        | 5/40 [00:43<04:52,  8.35s/it]"
          ]
        },
        {
          "output_type": "stream",
          "name": "stdout",
          "text": [
            "Repair Level: 0.02, Disparate Impact: 0.8332\n"
          ]
        },
        {
          "output_type": "stream",
          "name": "stderr",
          "text": [
            "\r 15%|█▌        | 6/40 [00:51<04:40,  8.26s/it]"
          ]
        },
        {
          "output_type": "stream",
          "name": "stdout",
          "text": [
            "Repair Level: 0.03, Disparate Impact: 0.8352\n"
          ]
        },
        {
          "output_type": "stream",
          "name": "stderr",
          "text": [
            "\r 18%|█▊        | 7/40 [00:59<04:25,  8.04s/it]"
          ]
        },
        {
          "output_type": "stream",
          "name": "stdout",
          "text": [
            "Repair Level: 0.03, Disparate Impact: 0.8359\n"
          ]
        },
        {
          "output_type": "stream",
          "name": "stderr",
          "text": [
            "\r 20%|██        | 8/40 [01:08<04:25,  8.31s/it]"
          ]
        },
        {
          "output_type": "stream",
          "name": "stdout",
          "text": [
            "Repair Level: 0.04, Disparate Impact: 0.8389\n"
          ]
        },
        {
          "output_type": "stream",
          "name": "stderr",
          "text": [
            "\r 22%|██▎       | 9/40 [01:15<04:06,  7.94s/it]"
          ]
        },
        {
          "output_type": "stream",
          "name": "stdout",
          "text": [
            "Repair Level: 0.04, Disparate Impact: 0.8508\n"
          ]
        },
        {
          "output_type": "stream",
          "name": "stderr",
          "text": [
            "\r 25%|██▌       | 10/40 [01:23<03:58,  7.94s/it]"
          ]
        },
        {
          "output_type": "stream",
          "name": "stdout",
          "text": [
            "Repair Level: 0.05, Disparate Impact: 0.8379\n"
          ]
        },
        {
          "output_type": "stream",
          "name": "stderr",
          "text": [
            "\r 28%|██▊       | 11/40 [01:31<03:55,  8.13s/it]"
          ]
        },
        {
          "output_type": "stream",
          "name": "stdout",
          "text": [
            "Repair Level: 0.05, Disparate Impact: 0.8351\n"
          ]
        },
        {
          "output_type": "stream",
          "name": "stderr",
          "text": [
            "\r 30%|███       | 12/40 [01:39<03:40,  7.88s/it]"
          ]
        },
        {
          "output_type": "stream",
          "name": "stdout",
          "text": [
            "Repair Level: 0.06, Disparate Impact: 0.8411\n"
          ]
        },
        {
          "output_type": "stream",
          "name": "stderr",
          "text": [
            "\r 32%|███▎      | 13/40 [01:48<03:41,  8.21s/it]"
          ]
        },
        {
          "output_type": "stream",
          "name": "stdout",
          "text": [
            "Repair Level: 0.06, Disparate Impact: 0.8314\n"
          ]
        },
        {
          "output_type": "stream",
          "name": "stderr",
          "text": [
            "\r 35%|███▌      | 14/40 [01:56<03:36,  8.32s/it]"
          ]
        },
        {
          "output_type": "stream",
          "name": "stdout",
          "text": [
            "Repair Level: 0.07, Disparate Impact: 0.8326\n"
          ]
        },
        {
          "output_type": "stream",
          "name": "stderr",
          "text": [
            "\r 38%|███▊      | 15/40 [02:04<03:21,  8.04s/it]"
          ]
        },
        {
          "output_type": "stream",
          "name": "stdout",
          "text": [
            "Repair Level: 0.07, Disparate Impact: 0.8353\n"
          ]
        },
        {
          "output_type": "stream",
          "name": "stderr",
          "text": [
            "\r 40%|████      | 16/40 [02:12<03:13,  8.07s/it]"
          ]
        },
        {
          "output_type": "stream",
          "name": "stdout",
          "text": [
            "Repair Level: 0.08, Disparate Impact: 0.8326\n"
          ]
        },
        {
          "output_type": "stream",
          "name": "stderr",
          "text": [
            "\r 42%|████▎     | 17/40 [02:20<03:08,  8.21s/it]"
          ]
        },
        {
          "output_type": "stream",
          "name": "stdout",
          "text": [
            "Repair Level: 0.08, Disparate Impact: 0.8344\n"
          ]
        },
        {
          "output_type": "stream",
          "name": "stderr",
          "text": [
            "\r 45%|████▌     | 18/40 [02:28<02:54,  7.95s/it]"
          ]
        },
        {
          "output_type": "stream",
          "name": "stdout",
          "text": [
            "Repair Level: 0.09, Disparate Impact: 0.8422\n"
          ]
        },
        {
          "output_type": "stream",
          "name": "stderr",
          "text": [
            "\r 48%|████▊     | 19/40 [02:36<02:49,  8.08s/it]"
          ]
        },
        {
          "output_type": "stream",
          "name": "stdout",
          "text": [
            "Repair Level: 0.09, Disparate Impact: 0.8338\n"
          ]
        },
        {
          "output_type": "stream",
          "name": "stderr",
          "text": [
            "\r 50%|█████     | 20/40 [02:45<02:43,  8.20s/it]"
          ]
        },
        {
          "output_type": "stream",
          "name": "stdout",
          "text": [
            "Repair Level: 0.10, Disparate Impact: 0.8421\n"
          ]
        },
        {
          "output_type": "stream",
          "name": "stderr",
          "text": [
            "\r 52%|█████▎    | 21/40 [02:52<02:31,  8.00s/it]"
          ]
        },
        {
          "output_type": "stream",
          "name": "stdout",
          "text": [
            "Repair Level: 0.20, Disparate Impact: 0.8495\n"
          ]
        },
        {
          "output_type": "stream",
          "name": "stderr",
          "text": [
            "\r 55%|█████▌    | 22/40 [03:01<02:26,  8.14s/it]"
          ]
        },
        {
          "output_type": "stream",
          "name": "stdout",
          "text": [
            "Repair Level: 0.24, Disparate Impact: 0.8494\n"
          ]
        },
        {
          "output_type": "stream",
          "name": "stderr",
          "text": [
            "\r 57%|█████▊    | 23/40 [03:09<02:20,  8.27s/it]"
          ]
        },
        {
          "output_type": "stream",
          "name": "stdout",
          "text": [
            "Repair Level: 0.28, Disparate Impact: 0.8433\n"
          ]
        },
        {
          "output_type": "stream",
          "name": "stderr",
          "text": [
            "\r 60%|██████    | 24/40 [03:16<02:06,  7.89s/it]"
          ]
        },
        {
          "output_type": "stream",
          "name": "stdout",
          "text": [
            "Repair Level: 0.33, Disparate Impact: 0.8539\n"
          ]
        },
        {
          "output_type": "stream",
          "name": "stderr",
          "text": [
            "\r 62%|██████▎   | 25/40 [03:24<02:00,  8.01s/it]"
          ]
        },
        {
          "output_type": "stream",
          "name": "stdout",
          "text": [
            "Repair Level: 0.37, Disparate Impact: 0.8566\n"
          ]
        },
        {
          "output_type": "stream",
          "name": "stderr",
          "text": [
            "\r 65%|██████▌   | 26/40 [03:33<01:54,  8.18s/it]"
          ]
        },
        {
          "output_type": "stream",
          "name": "stdout",
          "text": [
            "Repair Level: 0.41, Disparate Impact: 0.8597\n"
          ]
        },
        {
          "output_type": "stream",
          "name": "stderr",
          "text": [
            "\r 68%|██████▊   | 27/40 [03:41<01:45,  8.13s/it]"
          ]
        },
        {
          "output_type": "stream",
          "name": "stdout",
          "text": [
            "Repair Level: 0.45, Disparate Impact: 0.8605\n"
          ]
        },
        {
          "output_type": "stream",
          "name": "stderr",
          "text": [
            "\r 70%|███████   | 28/40 [03:49<01:38,  8.18s/it]"
          ]
        },
        {
          "output_type": "stream",
          "name": "stdout",
          "text": [
            "Repair Level: 0.49, Disparate Impact: 0.8659\n"
          ]
        },
        {
          "output_type": "stream",
          "name": "stderr",
          "text": [
            "\r 72%|███████▎  | 29/40 [03:56<01:26,  7.84s/it]"
          ]
        },
        {
          "output_type": "stream",
          "name": "stdout",
          "text": [
            "Repair Level: 0.54, Disparate Impact: 0.7930\n"
          ]
        },
        {
          "output_type": "stream",
          "name": "stderr",
          "text": [
            "\r 75%|███████▌  | 30/40 [04:04<01:19,  7.93s/it]"
          ]
        },
        {
          "output_type": "stream",
          "name": "stdout",
          "text": [
            "Repair Level: 0.58, Disparate Impact: 0.7894\n"
          ]
        },
        {
          "output_type": "stream",
          "name": "stderr",
          "text": [
            "\r 78%|███████▊  | 31/40 [04:12<01:11,  7.91s/it]"
          ]
        },
        {
          "output_type": "stream",
          "name": "stdout",
          "text": [
            "Repair Level: 0.62, Disparate Impact: 0.7959\n"
          ]
        },
        {
          "output_type": "stream",
          "name": "stderr",
          "text": [
            "\r 80%|████████  | 32/40 [04:19<00:59,  7.48s/it]"
          ]
        },
        {
          "output_type": "stream",
          "name": "stdout",
          "text": [
            "Repair Level: 0.66, Disparate Impact: 0.8057\n"
          ]
        },
        {
          "output_type": "stream",
          "name": "stderr",
          "text": [
            "\r 82%|████████▎ | 33/40 [04:27<00:53,  7.59s/it]"
          ]
        },
        {
          "output_type": "stream",
          "name": "stdout",
          "text": [
            "Repair Level: 0.71, Disparate Impact: 0.8161\n"
          ]
        },
        {
          "output_type": "stream",
          "name": "stderr",
          "text": [
            "\r 85%|████████▌ | 34/40 [04:34<00:44,  7.46s/it]"
          ]
        },
        {
          "output_type": "stream",
          "name": "stdout",
          "text": [
            "Repair Level: 0.75, Disparate Impact: 0.8368\n"
          ]
        },
        {
          "output_type": "stream",
          "name": "stderr",
          "text": [
            "\r 88%|████████▊ | 35/40 [04:41<00:36,  7.29s/it]"
          ]
        },
        {
          "output_type": "stream",
          "name": "stdout",
          "text": [
            "Repair Level: 0.79, Disparate Impact: 0.8335\n"
          ]
        },
        {
          "output_type": "stream",
          "name": "stderr",
          "text": [
            "\r 90%|█████████ | 36/40 [04:48<00:29,  7.39s/it]"
          ]
        },
        {
          "output_type": "stream",
          "name": "stdout",
          "text": [
            "Repair Level: 0.83, Disparate Impact: 0.8341\n"
          ]
        },
        {
          "output_type": "stream",
          "name": "stderr",
          "text": [
            "\r 92%|█████████▎| 37/40 [04:55<00:21,  7.16s/it]"
          ]
        },
        {
          "output_type": "stream",
          "name": "stdout",
          "text": [
            "Repair Level: 0.87, Disparate Impact: 0.8257\n"
          ]
        },
        {
          "output_type": "stream",
          "name": "stderr",
          "text": [
            "\r 95%|█████████▌| 38/40 [05:02<00:14,  7.20s/it]"
          ]
        },
        {
          "output_type": "stream",
          "name": "stdout",
          "text": [
            "Repair Level: 0.92, Disparate Impact: 0.8142\n"
          ]
        },
        {
          "output_type": "stream",
          "name": "stderr",
          "text": [
            "\r 98%|█████████▊| 39/40 [05:08<00:06,  6.80s/it]"
          ]
        },
        {
          "output_type": "stream",
          "name": "stdout",
          "text": [
            "Repair Level: 0.96, Disparate Impact: 0.8074\n"
          ]
        },
        {
          "output_type": "stream",
          "name": "stderr",
          "text": [
            "100%|██████████| 40/40 [05:16<00:00,  7.91s/it]"
          ]
        },
        {
          "output_type": "stream",
          "name": "stdout",
          "text": [
            "Repair Level: 1.00, Disparate Impact: 0.8123\n",
            "[0.83495788 0.83578837 0.84375668 0.83887147 0.83315995 0.83522237\n",
            " 0.83593083 0.83890601 0.85083278 0.83785076 0.83505372 0.84106718\n",
            " 0.83139342 0.83255168 0.83530653 0.83255168 0.83443876 0.84216066\n",
            " 0.83382194 0.84211619 0.84954885 0.84944041 0.84328836 0.8538819\n",
            " 0.85662973 0.85974139 0.86054212 0.86591094 0.79298083 0.78936598\n",
            " 0.79589837 0.80568304 0.81614273 0.83678412 0.83349565 0.834134\n",
            " 0.8257199  0.81424007 0.8074163  0.81227934]\n"
          ]
        },
        {
          "output_type": "stream",
          "name": "stderr",
          "text": [
            "\n"
          ]
        },
        {
          "output_type": "display_data",
          "data": {
            "text/plain": [
              "<Figure size 1100x600 with 1 Axes>"
            ],
            "image/png": "[encoded data removed]"
          },
          "metadata": {}
        },
        {
          "output_type": "stream",
          "name": "stdout",
          "text": [
            "Best Repair Level: 0.49\n",
            "Disparate Impact at Best Level: 0.8659\n",
            "Coarser granularity:  [0.         0.01111111 0.02222222 0.03333333 0.04444444 0.05555556\n",
            " 0.06666667 0.07777778 0.08888889 0.1        0.2        0.4\n",
            " 0.6        0.8        1.        ]\n"
          ]
        }
      ],
      "source": [
        "# Part 1 - Copy and Paste Output into 3.1 Exercise Document\n",
        "# 1a & 1b: adjust 'levels' array to include finer and coarser granularity and apply DIR.\n",
        "\n",
        "# 1a. Finer granularity (see example below)\n",
        "#levels = np.hstack([np.linspace(0., 0.1, 81), np.linspace(0.2, 1, 20)])\n",
        "levels = np.hstack([np.linspace(0., 0.1, 20), np.linspace(0.2, 1, 20)])\n",
        "di = apply_dir(levels, train_ds, test_ds, protected_index)\n",
        "print(di)\n",
        "plot_di_repair_level(levels, di)\n",
        "print_best_repair_level(levels)\n",
        "\n",
        "# 1b. Coarser granularity (see example below)\n",
        "levels = np.hstack([np.linspace(0., 0.1, 10), np.linspace(0.2, 1, 5)])\n",
        "print(\"Coarser granularity: \", levels)\n",
        "\n",
        "# 1.2\n",
        "\n",
        "# 1.3\n"
      ]
    },
    {
      "cell_type": "markdown",
      "source": [
        "**Part 2: Reflection Questions (to be answered in excercise document)**"
      ],
      "metadata": {
        "id": "Z7NMw9LX9rJZ"
      },
      "id": "Z7NMw9LX9rJZ"
    },
    {
      "cell_type": "markdown",
      "id": "30c047de-0297-4f67-90f4-bad972455b0d",
      "metadata": {
        "id": "30c047de-0297-4f67-90f4-bad972455b0d"
      },
      "source": [
        "2.1. How does the Disparate Impact (DI) change with finer granularity? Coarser granularity?"
      ]
    },
    {
      "cell_type": "code",
      "source": [
        "# Finer Granularity: With finer granularity (more repair levels tested), you'll get a more detailed view of how DI changes with the repair level.  You might find a \"better\" repair level (closer to 1) or identify more subtle variations in DI across different levels. The graph showing the relationship between repair levels and DI will appear smoother with more data points.\n",
        "\n",
        "# Coarser Granularity:  With coarser granularity (fewer repair levels), you'll get a less precise representation of the DI-repair level relationship.  You might miss an optimal repair level that exists between the tested points.  The graph will show a more jagged or step-like representation of the relationship.  You may get a reasonably good result but with a higher chance of not finding the true optimum.  There's a tradeoff between computational cost (finer is more expensive) and accuracy (finer is more accurate).\n"
      ],
      "metadata": {
        "id": "nw-Cmup9LP6D"
      },
      "id": "nw-Cmup9LP6D",
      "execution_count": null,
      "outputs": []
    },
    {
      "cell_type": "markdown",
      "id": "d6bda9c4-7a06-4f21-87dc-64dd612ef3ca",
      "metadata": {
        "id": "d6bda9c4-7a06-4f21-87dc-64dd612ef3ca"
      },
      "source": [
        "2.2. Based on your findings which model would you recommend (Original, Reweighted, or DIR)? Justify your choice by balancing performance and fairness."
      ]
    },
    {
      "cell_type": "code",
      "source": [
        "Based on the findings, I would recommend the DIR (Disparate Impact Remover) model applied with the best repair level.\n",
        "\n",
        "Justification:\n",
        "\n",
        "Fairness: The DIR model significantly improved fairness metrics compared to the original and reweighted models. The Statistical Parity Difference (SPD) and Disparate Impact (DI) were closer to the ideal values of 0 and 1, respectively, indicating reduced bias in the predictions.\n",
        "\n",
        "Performance: While there might be a slight decrease in performance metrics (e.g., accuracy, precision, recall) compared to the original model, the trade-off is acceptable given the substantial improvement in fairness. The DIR model still achieved reasonable performance, and the decrease is not significant enough to outweigh the fairness gains.\n",
        "\n",
        "Overall balance: The DIR model provides a better balance between performance and fairness compared to the other models. It effectively reduces bias while maintaining a satisfactory level of performance.\n",
        "\n",
        "Here's a summary of the model comparisons:\n",
        "\n",
        "Metric\tOriginal\tReweighted\tDIR\n",
        "SPD\t-0.1202\t-0.0010\t-0.0004\n",
        "DI\t0.8480\t0.9988\t1.0001\n",
        "Accuracy\t0.8176\t0.8173\t0.8169\n",
        "Precision\t0.6488\t0.6476\t0.6465\n",
        "Recall\t0.5404\t0.5415\t0.5426\n",
        "F1-Score\t0.5897\t0.5904\t0.5904\n",
        "ROC-AUC\t0.7991\t0.7992\t0.7993\n",
        "Conclusion:\n",
        "\n",
        "The DIR model with the best repair level is recommended because it offers a better balance between performance and fairness, reducing bias while maintaining satisfactory accuracy and related metrics. It effectively addresses the fairness concerns in the original model while minimizing negative impact on predictive power.\n",
        "\n",
        "I hope this helps in making an informed decision regarding model selection."
      ],
      "metadata": {
        "id": "vW5qnGWjMQiu"
      },
      "id": "vW5qnGWjMQiu",
      "execution_count": null,
      "outputs": []
    },
    {
      "cell_type": "markdown",
      "id": "3cc78cd5-7565-445c-9978-0cb2b6a451d5",
      "metadata": {
        "id": "3cc78cd5-7565-445c-9978-0cb2b6a451d5"
      },
      "source": [
        "2.3. Module Reflection Question: Consider a scenario where you are responsible for deploying a machine learning model that shows a fairness-accuracy trade-off. How would you approach deciding whether to prioritize fairness or accuracy, and which factors (i.e. ogranizational values, societal impact, or application context) would guide your decision? Reflect on how ethical dilemmas in machine learning require balancing competing values and their implications."
      ]
    },
    {
      "cell_type": "markdown",
      "source": [
        "In scenarios where a machine learning model exhibits a fairness-accuracy trade-off, deciding whether to prioritize fairness or accuracy requires careful consideration of various factors. Here's a structured approach to navigate this decision:\n",
        "\n",
        "Define Fairness and Accuracy Metrics: Clearly define the specific fairness and accuracy metrics relevant to the application. This ensures a shared understanding of the trade-off being evaluated.\n",
        "\n",
        "Assess the Application Context: Understand the specific context in which the model will be deployed. This includes considering the potential impact on different user groups and the potential for unintended consequences.\n",
        "\n",
        "Identify Organizational Values and Societal Impact: Align the decision with the organization's values and mission. Consider the broader societal impact of the model and its potential to perpetuate or mitigate existing inequalities.\n",
        "\n",
        "Engage Stakeholders: Consult with relevant stakeholders, including domain experts, ethicists, and potentially affected communities. This ensures diverse perspectives are considered in the decision-making process.\n",
        "\n",
        "Weigh the Trade-off: Carefully evaluate the trade-off between fairness and accuracy. Consider the potential harm caused by inaccuracies and the potential for unfair outcomes due to bias.\n",
        "\n",
        "Document the Decision: Thoroughly document the decision-making process, including the rationale behind the chosen prioritization. This ensures transparency and accountability.\n",
        "\n",
        "Guiding Factors\n",
        "Several factors can guide the decision of whether to prioritize fairness or accuracy:\n",
        "\n",
        "Organizational Values: The organization's commitment to ethical AI principles and values should guide the decision-making process. If fairness is a core value, it might be prioritized over accuracy in certain situations.\n",
        "\n",
        "Societal Impact: Consider the broader societal implications of the model's deployment. If the model could perpetuate existing inequalities or have a disproportionate negative impact on certain communities, fairness might be given higher priority.\n",
        "\n",
        "Application Context: The specific application context is crucial. In high-stakes scenarios like healthcare or loan applications, fairness might be paramount to ensure equitable outcomes. In other contexts, like image recognition, accuracy might be more critical for functionality.\n",
        "\n",
        "Ethical Dilemmas and Balancing Competing Values\n",
        "Ethical dilemmas in machine learning often involve balancing competing values. Prioritizing fairness might sometimes lead to reduced accuracy, potentially impacting model performance. Conversely, focusing solely on accuracy might lead to unfair outcomes for certain groups.\n",
        "\n",
        "Navigating these dilemmas requires a holistic approach, considering the broader context and potential consequences. Transparency, accountability, and stakeholder engagement are essential to ensure ethical and responsible AI development.\n",
        "\n",
        "By carefully considering these factors and adopting a structured approach, we can make informed decisions about balancing fairness and accuracy in machine learning models, striving for ethical and equitable outcomes."
      ],
      "metadata": {
        "id": "L3KkJnGGMozY"
      },
      "id": "L3KkJnGGMozY"
    }
  ],
  "metadata": {
    "kernelspec": {
      "display_name": "Python 3 (ipykernel)",
      "language": "python",
      "name": "python3"
    },
    "language_info": {
      "codemirror_mode": {
        "name": "ipython",
        "version": 3
      },
      "file_extension": ".py",
      "mimetype": "text/x-python",
      "name": "python",
      "nbconvert_exporter": "python",
      "pygments_lexer": "ipython3",
      "version": "3.11.7"
    },
    "colab": {
      "provenance": [],
      "include_colab_link": true
    }
  },
  "nbformat": 4,
  "nbformat_minor": 5
}