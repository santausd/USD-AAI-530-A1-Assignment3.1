{
  "cells": [
    {
      "cell_type": "markdown",
      "metadata": {
        "id": "view-in-github",
        "colab_type": "text"
      },
      "source": [
        "<a href=\"https://colab.research.google.com/github/santausd/USD-AAI-530-A1-Assignment3.1/blob/main/LSTM_Regression_Assignment.ipynb\" target=\"_parent\"><img src=\"https://colab.research.google.com/assets/colab-badge.svg\" alt=\"Open In Colab\"/></a>"
      ]
    },
    {
      "cell_type": "markdown",
      "id": "699648d0",
      "metadata": {
        "id": "699648d0"
      },
      "source": [
        "# Long Short Term Memory Networks for IoT Prediction\n",
        "\n",
        "RNNs and LSTM models are very popular neural network architectures when working with sequential data, since they both carry some \"memory\" of previous inputs when predicting the next output. In this assignment we will continue to work with the Household Electricity Consumption dataset and use an LSTM model to predict the Global Active Power (GAP) from a sequence of previous GAP readings. You will build one model following the directions in this notebook closely, then you will be asked to make changes to that original model and analyze the effects that they had on the model performance. You will also be asked to compare the performance of your LSTM model to the linear regression predictor that you built in last week's assignment.\n",
        "\n",
        "## General Assignment Instructions\n",
        "\n",
        "These instructions are included in every assignment, to remind you of the coding standards for the class. Feel free to delete this cell after reading it.\n",
        "\n",
        "One sign of mature code is conforming to a style guide. We recommend the [Google Python Style Guide](https://google.github.io/styleguide/pyguide.html). If you use a different style guide, please include a cell with a link.\n",
        "\n",
        "Your code should be relatively easy-to-read, sensibly commented, and clean. Writing code is a messy process, so please be sure to edit your final submission. Remove any cells that are not needed or parts of cells that contain unnecessary code. Remove inessential `import` statements and make sure that all such statements are moved into the designated cell.\n",
        "\n",
        "When you save your notebook as a pdf, make sure that all cell output is visible (even error messages) as this will aid your instructor in grading your work.\n",
        "\n",
        "Make use of non-code cells for written commentary. These cells should be grammatical and clearly written. In some of these cells you will have questions to answer. The questions will be marked by a \"Q:\" and will have a corresponding \"A:\" spot for you. *Make sure to answer every question marked with a `Q:` for full credit.*"
      ]
    },
    {
      "cell_type": "code",
      "execution_count": 1,
      "id": "96422f5e",
      "metadata": {
        "id": "96422f5e"
      },
      "outputs": [],
      "source": [
        "import keras\n",
        "import pandas as pd\n",
        "import numpy as np\n",
        "import matplotlib.pyplot as plt\n",
        "import os\n",
        "\n",
        "# Setting seed for reproducibility\n",
        "np.random.seed(1234)\n",
        "PYTHONHASHSEED = 0\n",
        "\n",
        "from sklearn import preprocessing\n",
        "from sklearn.metrics import confusion_matrix, recall_score, precision_score\n",
        "from sklearn.model_selection import train_test_split\n",
        "from keras.models import Sequential,load_model\n",
        "from keras.layers import Dense, Dropout, LSTM, Activation\n",
        "from keras.utils import pad_sequences"
      ]
    },
    {
      "cell_type": "code",
      "execution_count": 2,
      "id": "cb722f08",
      "metadata": {
        "id": "cb722f08"
      },
      "outputs": [],
      "source": [
        "#use this cell to import additional libraries or define helper functions\n",
        "from google.colab import drive\n",
        "from sklearn.model_selection import train_test_split\n",
        "\n",
        "#import warnings\n",
        "#warnings.simplefilter(action='ignore', category=FutureWarning)\n",
        "#warnings.simplefilter(action='ignore', category=DeprecationWarning)"
      ]
    },
    {
      "cell_type": "markdown",
      "id": "93d897e4",
      "metadata": {
        "id": "93d897e4"
      },
      "source": [
        "## Load and prepare your data\n",
        "\n",
        "We'll once again be using the cleaned household electricity consumption data from the previous two assignments. I recommend saving your dataset by running df.to_csv(\"filename\") at the end of assignment 2 so that you don't have to re-do your cleaning steps. If you are not confident in your own cleaning steps, you may ask your instructor for a cleaned version of the data. You will not be graded on the cleaning steps in this assignment, but some functions may not work if you use the raw data.\n",
        "\n",
        "Unlike when using Linear Regression to make our predictions for Global Active Power (GAP), LSTM requires that we have a pre-trained model when our predictive software is shipped (the ability to iterate on the model after it's put into production is another question for another day). Thus, we will train the model on a segment of our data and then measure its performance on simulated streaming data another segment of the data. Our dataset is very large, so for speed's sake, we will limit ourselves to 1% of the entire dataset.\n",
        "\n",
        "**TODO: Import your data, select the a random 1% of the dataset, and then split it 80/20 into training and validation sets (the test split will come from the training data as part of the tensorflow LSTM model call). HINT: Think carefully about how you do your train/validation split--does it make sense to randomize the data?**"
      ]
    },
    {
      "cell_type": "code",
      "execution_count": 3,
      "id": "4db3cf86",
      "metadata": {
        "colab": {
          "base_uri": "https://localhost:8080/"
        },
        "id": "4db3cf86",
        "outputId": "1a90bfe6-40b7-4c6d-b6e9-3b37c02225a0"
      },
      "outputs": [
        {
          "output_type": "stream",
          "name": "stdout",
          "text": [
            "Mounted at /content/drive\n",
            "<class 'pandas.core.frame.DataFrame'>\n",
            "RangeIndex: 2075259 entries, 0 to 2075258\n",
            "Data columns (total 12 columns):\n",
            " #   Column                 Dtype  \n",
            "---  ------                 -----  \n",
            " 0   Unnamed: 0             int64  \n",
            " 1   Date                   object \n",
            " 2   Time                   object \n",
            " 3   Global_active_power    float64\n",
            " 4   Global_reactive_power  float64\n",
            " 5   Voltage                float64\n",
            " 6   Global_intensity       float64\n",
            " 7   Sub_metering_1         float64\n",
            " 8   Sub_metering_2         float64\n",
            " 9   Sub_metering_3         float64\n",
            " 10  Datetime               object \n",
            " 11  Month                  object \n",
            "dtypes: float64(7), int64(1), object(4)\n",
            "memory usage: 190.0+ MB\n"
          ]
        }
      ],
      "source": [
        "#Load your data into a pandas dataframe here\n",
        "drive.mount('/content/drive')\n",
        "file_path = f'/content/drive/My Drive/AAI-530-A1/clean_data.csv'  # Assuming 'clean_data.csv' is directly in 'My Drive'\n",
        "\n",
        "fullset_df = pd.read_csv(file_path)\n",
        "fullset_df.info()"
      ]
    },
    {
      "cell_type": "code",
      "source": [
        "fullset_df.head()"
      ],
      "metadata": {
        "colab": {
          "base_uri": "https://localhost:8080/",
          "height": 417
        },
        "id": "XSR27WVelhfL",
        "outputId": "f12fac52-b39a-4c93-de42-595bff0b46e2"
      },
      "id": "XSR27WVelhfL",
      "execution_count": 4,
      "outputs": [
        {
          "output_type": "execute_result",
          "data": {
            "text/plain": [
              "   Unnamed: 0        Date      Time  Global_active_power  \\\n",
              "0           0  2006-12-16  17:24:00                4.216   \n",
              "1           1  2006-12-16  17:25:00                5.360   \n",
              "2           2  2006-12-16  17:26:00                5.374   \n",
              "3           3  2006-12-16  17:27:00                5.388   \n",
              "4           4  2006-12-16  17:28:00                3.666   \n",
              "\n",
              "   Global_reactive_power  Voltage  Global_intensity  Sub_metering_1  \\\n",
              "0                  0.418   234.84              18.4             0.0   \n",
              "1                  0.436   233.63              23.0             0.0   \n",
              "2                  0.498   233.29              23.0             0.0   \n",
              "3                  0.502   233.74              23.0             0.0   \n",
              "4                  0.528   235.68              15.8             0.0   \n",
              "\n",
              "   Sub_metering_2  Sub_metering_3             Datetime    Month  \n",
              "0             1.0            17.0  2006-12-16 17:24:00  2006-12  \n",
              "1             1.0            16.0  2006-12-16 17:25:00  2006-12  \n",
              "2             2.0            17.0  2006-12-16 17:26:00  2006-12  \n",
              "3             1.0            17.0  2006-12-16 17:27:00  2006-12  \n",
              "4             1.0            17.0  2006-12-16 17:28:00  2006-12  "
            ],
            "text/html": [
              "\n",
              "  <div id=\"df-680363d1-29f3-4534-99d1-68b7004060b2\" class=\"colab-df-container\">\n",
              "    <div>\n",
              "<style scoped>\n",
              "    .dataframe tbody tr th:only-of-type {\n",
              "        vertical-align: middle;\n",
              "    }\n",
              "\n",
              "    .dataframe tbody tr th {\n",
              "        vertical-align: top;\n",
              "    }\n",
              "\n",
              "    .dataframe thead th {\n",
              "        text-align: right;\n",
              "    }\n",
              "</style>\n",
              "<table border=\"1\" class=\"dataframe\">\n",
              "  <thead>\n",
              "    <tr style=\"text-align: right;\">\n",
              "      <th></th>\n",
              "      <th>Unnamed: 0</th>\n",
              "      <th>Date</th>\n",
              "      <th>Time</th>\n",
              "      <th>Global_active_power</th>\n",
              "      <th>Global_reactive_power</th>\n",
              "      <th>Voltage</th>\n",
              "      <th>Global_intensity</th>\n",
              "      <th>Sub_metering_1</th>\n",
              "      <th>Sub_metering_2</th>\n",
              "      <th>Sub_metering_3</th>\n",
              "      <th>Datetime</th>\n",
              "      <th>Month</th>\n",
              "    </tr>\n",
              "  </thead>\n",
              "  <tbody>\n",
              "    <tr>\n",
              "      <th>0</th>\n",
              "      <td>0</td>\n",
              "      <td>2006-12-16</td>\n",
              "      <td>17:24:00</td>\n",
              "      <td>4.216</td>\n",
              "      <td>0.418</td>\n",
              "      <td>234.84</td>\n",
              "      <td>18.4</td>\n",
              "      <td>0.0</td>\n",
              "      <td>1.0</td>\n",
              "      <td>17.0</td>\n",
              "      <td>2006-12-16 17:24:00</td>\n",
              "      <td>2006-12</td>\n",
              "    </tr>\n",
              "    <tr>\n",
              "      <th>1</th>\n",
              "      <td>1</td>\n",
              "      <td>2006-12-16</td>\n",
              "      <td>17:25:00</td>\n",
              "      <td>5.360</td>\n",
              "      <td>0.436</td>\n",
              "      <td>233.63</td>\n",
              "      <td>23.0</td>\n",
              "      <td>0.0</td>\n",
              "      <td>1.0</td>\n",
              "      <td>16.0</td>\n",
              "      <td>2006-12-16 17:25:00</td>\n",
              "      <td>2006-12</td>\n",
              "    </tr>\n",
              "    <tr>\n",
              "      <th>2</th>\n",
              "      <td>2</td>\n",
              "      <td>2006-12-16</td>\n",
              "      <td>17:26:00</td>\n",
              "      <td>5.374</td>\n",
              "      <td>0.498</td>\n",
              "      <td>233.29</td>\n",
              "      <td>23.0</td>\n",
              "      <td>0.0</td>\n",
              "      <td>2.0</td>\n",
              "      <td>17.0</td>\n",
              "      <td>2006-12-16 17:26:00</td>\n",
              "      <td>2006-12</td>\n",
              "    </tr>\n",
              "    <tr>\n",
              "      <th>3</th>\n",
              "      <td>3</td>\n",
              "      <td>2006-12-16</td>\n",
              "      <td>17:27:00</td>\n",
              "      <td>5.388</td>\n",
              "      <td>0.502</td>\n",
              "      <td>233.74</td>\n",
              "      <td>23.0</td>\n",
              "      <td>0.0</td>\n",
              "      <td>1.0</td>\n",
              "      <td>17.0</td>\n",
              "      <td>2006-12-16 17:27:00</td>\n",
              "      <td>2006-12</td>\n",
              "    </tr>\n",
              "    <tr>\n",
              "      <th>4</th>\n",
              "      <td>4</td>\n",
              "      <td>2006-12-16</td>\n",
              "      <td>17:28:00</td>\n",
              "      <td>3.666</td>\n",
              "      <td>0.528</td>\n",
              "      <td>235.68</td>\n",
              "      <td>15.8</td>\n",
              "      <td>0.0</td>\n",
              "      <td>1.0</td>\n",
              "      <td>17.0</td>\n",
              "      <td>2006-12-16 17:28:00</td>\n",
              "      <td>2006-12</td>\n",
              "    </tr>\n",
              "  </tbody>\n",
              "</table>\n",
              "</div>\n",
              "    <div class=\"colab-df-buttons\">\n",
              "\n",
              "  <div class=\"colab-df-container\">\n",
              "    <button class=\"colab-df-convert\" onclick=\"convertToInteractive('df-680363d1-29f3-4534-99d1-68b7004060b2')\"\n",
              "            title=\"Convert this dataframe to an interactive table.\"\n",
              "            style=\"display:none;\">\n",
              "\n",
              "  <svg xmlns=\"http://www.w3.org/2000/svg\" height=\"24px\" viewBox=\"0 -960 960 960\">\n",
              "    <path d=\"M120-120v-720h720v720H120Zm60-500h600v-160H180v160Zm220 220h160v-160H400v160Zm0 220h160v-160H400v160ZM180-400h160v-160H180v160Zm440 0h160v-160H620v160ZM180-180h160v-160H180v160Zm440 0h160v-160H620v160Z\"/>\n",
              "  </svg>\n",
              "    </button>\n",
              "\n",
              "  <style>\n",
              "    .colab-df-container {\n",
              "      display:flex;\n",
              "      gap: 12px;\n",
              "    }\n",
              "\n",
              "    .colab-df-convert {\n",
              "      background-color: #E8F0FE;\n",
              "      border: none;\n",
              "      border-radius: 50%;\n",
              "      cursor: pointer;\n",
              "      display: none;\n",
              "      fill: #1967D2;\n",
              "      height: 32px;\n",
              "      padding: 0 0 0 0;\n",
              "      width: 32px;\n",
              "    }\n",
              "\n",
              "    .colab-df-convert:hover {\n",
              "      background-color: #E2EBFA;\n",
              "      box-shadow: 0px 1px 2px rgba(60, 64, 67, 0.3), 0px 1px 3px 1px rgba(60, 64, 67, 0.15);\n",
              "      fill: #174EA6;\n",
              "    }\n",
              "\n",
              "    .colab-df-buttons div {\n",
              "      margin-bottom: 4px;\n",
              "    }\n",
              "\n",
              "    [theme=dark] .colab-df-convert {\n",
              "      background-color: #3B4455;\n",
              "      fill: #D2E3FC;\n",
              "    }\n",
              "\n",
              "    [theme=dark] .colab-df-convert:hover {\n",
              "      background-color: #434B5C;\n",
              "      box-shadow: 0px 1px 3px 1px rgba(0, 0, 0, 0.15);\n",
              "      filter: drop-shadow(0px 1px 2px rgba(0, 0, 0, 0.3));\n",
              "      fill: #FFFFFF;\n",
              "    }\n",
              "  </style>\n",
              "\n",
              "    <script>\n",
              "      const buttonEl =\n",
              "        document.querySelector('#df-680363d1-29f3-4534-99d1-68b7004060b2 button.colab-df-convert');\n",
              "      buttonEl.style.display =\n",
              "        google.colab.kernel.accessAllowed ? 'block' : 'none';\n",
              "\n",
              "      async function convertToInteractive(key) {\n",
              "        const element = document.querySelector('#df-680363d1-29f3-4534-99d1-68b7004060b2');\n",
              "        const dataTable =\n",
              "          await google.colab.kernel.invokeFunction('convertToInteractive',\n",
              "                                                    [key], {});\n",
              "        if (!dataTable) return;\n",
              "\n",
              "        const docLinkHtml = 'Like what you see? Visit the ' +\n",
              "          '<a target=\"_blank\" href=https://colab.research.google.com/notebooks/data_table.ipynb>data table notebook</a>'\n",
              "          + ' to learn more about interactive tables.';\n",
              "        element.innerHTML = '';\n",
              "        dataTable['output_type'] = 'display_data';\n",
              "        await google.colab.output.renderOutput(dataTable, element);\n",
              "        const docLink = document.createElement('div');\n",
              "        docLink.innerHTML = docLinkHtml;\n",
              "        element.appendChild(docLink);\n",
              "      }\n",
              "    </script>\n",
              "  </div>\n",
              "\n",
              "\n",
              "<div id=\"df-2d7de1ca-1764-4541-bd38-0701b67ebdea\">\n",
              "  <button class=\"colab-df-quickchart\" onclick=\"quickchart('df-2d7de1ca-1764-4541-bd38-0701b67ebdea')\"\n",
              "            title=\"Suggest charts\"\n",
              "            style=\"display:none;\">\n",
              "\n",
              "<svg xmlns=\"http://www.w3.org/2000/svg\" height=\"24px\"viewBox=\"0 0 24 24\"\n",
              "     width=\"24px\">\n",
              "    <g>\n",
              "        <path d=\"M19 3H5c-1.1 0-2 .9-2 2v14c0 1.1.9 2 2 2h14c1.1 0 2-.9 2-2V5c0-1.1-.9-2-2-2zM9 17H7v-7h2v7zm4 0h-2V7h2v10zm4 0h-2v-4h2v4z\"/>\n",
              "    </g>\n",
              "</svg>\n",
              "  </button>\n",
              "\n",
              "<style>\n",
              "  .colab-df-quickchart {\n",
              "      --bg-color: #E8F0FE;\n",
              "      --fill-color: #1967D2;\n",
              "      --hover-bg-color: #E2EBFA;\n",
              "      --hover-fill-color: #174EA6;\n",
              "      --disabled-fill-color: #AAA;\n",
              "      --disabled-bg-color: #DDD;\n",
              "  }\n",
              "\n",
              "  [theme=dark] .colab-df-quickchart {\n",
              "      --bg-color: #3B4455;\n",
              "      --fill-color: #D2E3FC;\n",
              "      --hover-bg-color: #434B5C;\n",
              "      --hover-fill-color: #FFFFFF;\n",
              "      --disabled-bg-color: #3B4455;\n",
              "      --disabled-fill-color: #666;\n",
              "  }\n",
              "\n",
              "  .colab-df-quickchart {\n",
              "    background-color: var(--bg-color);\n",
              "    border: none;\n",
              "    border-radius: 50%;\n",
              "    cursor: pointer;\n",
              "    display: none;\n",
              "    fill: var(--fill-color);\n",
              "    height: 32px;\n",
              "    padding: 0;\n",
              "    width: 32px;\n",
              "  }\n",
              "\n",
              "  .colab-df-quickchart:hover {\n",
              "    background-color: var(--hover-bg-color);\n",
              "    box-shadow: 0 1px 2px rgba(60, 64, 67, 0.3), 0 1px 3px 1px rgba(60, 64, 67, 0.15);\n",
              "    fill: var(--button-hover-fill-color);\n",
              "  }\n",
              "\n",
              "  .colab-df-quickchart-complete:disabled,\n",
              "  .colab-df-quickchart-complete:disabled:hover {\n",
              "    background-color: var(--disabled-bg-color);\n",
              "    fill: var(--disabled-fill-color);\n",
              "    box-shadow: none;\n",
              "  }\n",
              "\n",
              "  .colab-df-spinner {\n",
              "    border: 2px solid var(--fill-color);\n",
              "    border-color: transparent;\n",
              "    border-bottom-color: var(--fill-color);\n",
              "    animation:\n",
              "      spin 1s steps(1) infinite;\n",
              "  }\n",
              "\n",
              "  @keyframes spin {\n",
              "    0% {\n",
              "      border-color: transparent;\n",
              "      border-bottom-color: var(--fill-color);\n",
              "      border-left-color: var(--fill-color);\n",
              "    }\n",
              "    20% {\n",
              "      border-color: transparent;\n",
              "      border-left-color: var(--fill-color);\n",
              "      border-top-color: var(--fill-color);\n",
              "    }\n",
              "    30% {\n",
              "      border-color: transparent;\n",
              "      border-left-color: var(--fill-color);\n",
              "      border-top-color: var(--fill-color);\n",
              "      border-right-color: var(--fill-color);\n",
              "    }\n",
              "    40% {\n",
              "      border-color: transparent;\n",
              "      border-right-color: var(--fill-color);\n",
              "      border-top-color: var(--fill-color);\n",
              "    }\n",
              "    60% {\n",
              "      border-color: transparent;\n",
              "      border-right-color: var(--fill-color);\n",
              "    }\n",
              "    80% {\n",
              "      border-color: transparent;\n",
              "      border-right-color: var(--fill-color);\n",
              "      border-bottom-color: var(--fill-color);\n",
              "    }\n",
              "    90% {\n",
              "      border-color: transparent;\n",
              "      border-bottom-color: var(--fill-color);\n",
              "    }\n",
              "  }\n",
              "</style>\n",
              "\n",
              "  <script>\n",
              "    async function quickchart(key) {\n",
              "      const quickchartButtonEl =\n",
              "        document.querySelector('#' + key + ' button');\n",
              "      quickchartButtonEl.disabled = true;  // To prevent multiple clicks.\n",
              "      quickchartButtonEl.classList.add('colab-df-spinner');\n",
              "      try {\n",
              "        const charts = await google.colab.kernel.invokeFunction(\n",
              "            'suggestCharts', [key], {});\n",
              "      } catch (error) {\n",
              "        console.error('Error during call to suggestCharts:', error);\n",
              "      }\n",
              "      quickchartButtonEl.classList.remove('colab-df-spinner');\n",
              "      quickchartButtonEl.classList.add('colab-df-quickchart-complete');\n",
              "    }\n",
              "    (() => {\n",
              "      let quickchartButtonEl =\n",
              "        document.querySelector('#df-2d7de1ca-1764-4541-bd38-0701b67ebdea button');\n",
              "      quickchartButtonEl.style.display =\n",
              "        google.colab.kernel.accessAllowed ? 'block' : 'none';\n",
              "    })();\n",
              "  </script>\n",
              "</div>\n",
              "\n",
              "    </div>\n",
              "  </div>\n"
            ],
            "application/vnd.google.colaboratory.intrinsic+json": {
              "type": "dataframe",
              "variable_name": "fullset_df"
            }
          },
          "metadata": {},
          "execution_count": 4
        }
      ]
    },
    {
      "cell_type": "code",
      "execution_count": 5,
      "id": "b4a7845e",
      "metadata": {
        "id": "b4a7845e"
      },
      "outputs": [],
      "source": [
        "#create your training and validation sets here\n",
        "#assign size for data subset\n",
        "#take random data subset\n",
        "random_state = 1123456\n",
        "df = fullset_df.sample(frac=0.01,  random_state=random_state)\n",
        "\n",
        "#split data subset 80/20 for train/validation\n",
        "train_df, val_df = train_test_split(df, test_size=0.2, random_state=random_state)\n"
      ]
    },
    {
      "cell_type": "code",
      "execution_count": 6,
      "id": "4d0a7b27",
      "metadata": {
        "id": "4d0a7b27"
      },
      "outputs": [],
      "source": [
        "#reset the indices for cleanliness\n",
        "train_df = train_df.reset_index()\n",
        "val_df = val_df.reset_index()"
      ]
    },
    {
      "cell_type": "markdown",
      "id": "b4a34258",
      "metadata": {
        "id": "b4a34258"
      },
      "source": [
        "Next we need to create our input and output sequences. In the lab session this week, we used an LSTM model to make a binary prediction, but LSTM models are very flexible in what they can output: we can also use them to predict a single real-numbered output (we can even use them to predict a sequence of outputs). Here we will train a model to predict a single real-numbered output such that we can compare our model directly to the linear regression model from last week.\n",
        "\n",
        "**TODO: Create a nested list structure for the training data, with a sequence of GAP measurements as the input and the GAP measurement at your predictive horizon as your expected output**"
      ]
    },
    {
      "cell_type": "code",
      "execution_count": 8,
      "id": "807b5117",
      "metadata": {
        "id": "807b5117"
      },
      "outputs": [],
      "source": [
        "seq_arrays = []\n",
        "seq_labs = []"
      ]
    },
    {
      "cell_type": "code",
      "execution_count": 9,
      "id": "17b6475e",
      "metadata": {
        "id": "17b6475e"
      },
      "outputs": [],
      "source": [
        "# we'll start out with a 30 minute input sequence and a 5 minute predictive horizon\n",
        "# we don't need to work in seconds this time, since we'll just use the indices instead of a unix timestamp\n",
        "seq_length = 30\n",
        "ph = 5\n",
        "\n",
        "feat_cols = ['Global_active_power']\n",
        "temp_seq_arrays = []\n",
        "temp_seq_labs = []\n",
        "\n",
        "#create list of sequence length GAP readings\n",
        "for i in range(len(train_df) - seq_length - ph):\n",
        "    #seq_arrays.append(train_df['Global_active_power'][i : i + seq_length].values.reshape(-1, len(feat_cols)))\n",
        "    #seq_labs.append(train_df['Global_active_power'][i + seq_length + ph -1])\n",
        "    temp_seq_arrays.append(train_df['Global_active_power'][i : i + seq_length].values.reshape(-1, len(feat_cols)))\n",
        "    temp_seq_labs.append(train_df['Global_active_power'][i + seq_length + ph -1])\n",
        "\n",
        "\n",
        "#convert to numpy arrays and floats to appease keras/tensorflow\n",
        "#seq_arrays = np.array(seq_arrays, dtype = object).astype(np.float32)\n",
        "#seq_labs = np.array(seq_labs, dtype = object).astype(np.float32)\n",
        "seq_arrays = np.array(temp_seq_arrays, dtype = object).astype(np.float32)\n",
        "seq_labs = np.array(temp_seq_labs, dtype = object).astype(np.float32)\n",
        "\n"
      ]
    },
    {
      "cell_type": "code",
      "execution_count": 10,
      "id": "2f5c2abf",
      "metadata": {
        "id": "2f5c2abf"
      },
      "outputs": [],
      "source": [
        "assert(seq_arrays.shape == (len(train_df)-seq_length-ph,seq_length, len(feat_cols)))\n",
        "assert(seq_labs.shape == (len(train_df)-seq_length-ph,))"
      ]
    },
    {
      "cell_type": "code",
      "execution_count": 11,
      "id": "a16c46a0",
      "metadata": {
        "colab": {
          "base_uri": "https://localhost:8080/"
        },
        "id": "a16c46a0",
        "outputId": "6158203b-d23f-4b2d-c368-227b00530042"
      },
      "outputs": [
        {
          "output_type": "execute_result",
          "data": {
            "text/plain": [
              "(16567, 30, 1)"
            ]
          },
          "metadata": {},
          "execution_count": 11
        }
      ],
      "source": [
        "seq_arrays.shape"
      ]
    },
    {
      "cell_type": "code",
      "source": [
        "seq_labs.shape"
      ],
      "metadata": {
        "colab": {
          "base_uri": "https://localhost:8080/"
        },
        "id": "5eLOtwwRTYot",
        "outputId": "07689618-f2b7-41c7-99aa-f5c0137de3a7"
      },
      "id": "5eLOtwwRTYot",
      "execution_count": 14,
      "outputs": [
        {
          "output_type": "execute_result",
          "data": {
            "text/plain": [
              "(16567,)"
            ]
          },
          "metadata": {},
          "execution_count": 14
        }
      ]
    },
    {
      "cell_type": "markdown",
      "id": "cfb66dc2",
      "metadata": {
        "id": "cfb66dc2"
      },
      "source": [
        "**Q: What is the function of the assert statements in the above cell? Why do we use assertions in our code?**\n",
        "\n",
        "A:\n",
        "The assert statements is used to validate whether any prerequisite/condition is successfully met. This is used for fail early strategy as a part of debugging.\n",
        "\n",
        "In this case, the assert statement is used to ensure that dimensions of seq_arrays and seq_labs are met early.\n",
        "\n",
        "\n",
        "## Model Training\n",
        "\n",
        "We will begin with a model architecture very similar to the model we built in the lab session. We will have two LSTM layers, with 5 and 3 hidden units respectively, and we will apply dropout after each LSTM layer. However, we will use a LINEAR final layer and MSE for our loss function, since our output is continuous instead of binary.\n",
        "\n",
        "**TODO: Fill in all values marked with a ?? in the cell below**"
      ]
    },
    {
      "cell_type": "code",
      "execution_count": 16,
      "id": "4a57c132",
      "metadata": {
        "colab": {
          "base_uri": "https://localhost:8080/",
          "height": 1000
        },
        "id": "4a57c132",
        "outputId": "e7689c61-04e4-4a16-fca1-83d9d8fabdb2"
      },
      "outputs": [
        {
          "output_type": "stream",
          "name": "stderr",
          "text": [
            "/usr/local/lib/python3.11/dist-packages/keras/src/layers/rnn/rnn.py:200: UserWarning: Do not pass an `input_shape`/`input_dim` argument to a layer. When using Sequential models, prefer using an `Input(shape)` object as the first layer in the model instead.\n",
            "  super().__init__(**kwargs)\n"
          ]
        },
        {
          "output_type": "display_data",
          "data": {
            "text/plain": [
              "\u001b[1mModel: \"sequential_1\"\u001b[0m\n"
            ],
            "text/html": [
              "<pre style=\"white-space:pre;overflow-x:auto;line-height:normal;font-family:Menlo,'DejaVu Sans Mono',consolas,'Courier New',monospace\"><span style=\"font-weight: bold\">Model: \"sequential_1\"</span>\n",
              "</pre>\n"
            ]
          },
          "metadata": {}
        },
        {
          "output_type": "display_data",
          "data": {
            "text/plain": [
              "┏━━━━━━━━━━━━━━━━━━━━━━━━━━━━━━━━━━━━━━┳━━━━━━━━━━━━━━━━━━━━━━━━━━━━━┳━━━━━━━━━━━━━━━━━┓\n",
              "┃\u001b[1m \u001b[0m\u001b[1mLayer (type)                        \u001b[0m\u001b[1m \u001b[0m┃\u001b[1m \u001b[0m\u001b[1mOutput Shape               \u001b[0m\u001b[1m \u001b[0m┃\u001b[1m \u001b[0m\u001b[1m        Param #\u001b[0m\u001b[1m \u001b[0m┃\n",
              "┡━━━━━━━━━━━━━━━━━━━━━━━━━━━━━━━━━━━━━━╇━━━━━━━━━━━━━━━━━━━━━━━━━━━━━╇━━━━━━━━━━━━━━━━━┩\n",
              "│ lstm_2 (\u001b[38;5;33mLSTM\u001b[0m)                        │ (\u001b[38;5;45mNone\u001b[0m, \u001b[38;5;34m30\u001b[0m, \u001b[38;5;34m5\u001b[0m)               │             \u001b[38;5;34m140\u001b[0m │\n",
              "├──────────────────────────────────────┼─────────────────────────────┼─────────────────┤\n",
              "│ dropout_2 (\u001b[38;5;33mDropout\u001b[0m)                  │ (\u001b[38;5;45mNone\u001b[0m, \u001b[38;5;34m30\u001b[0m, \u001b[38;5;34m5\u001b[0m)               │               \u001b[38;5;34m0\u001b[0m │\n",
              "├──────────────────────────────────────┼─────────────────────────────┼─────────────────┤\n",
              "│ lstm_3 (\u001b[38;5;33mLSTM\u001b[0m)                        │ (\u001b[38;5;45mNone\u001b[0m, \u001b[38;5;34m3\u001b[0m)                   │             \u001b[38;5;34m108\u001b[0m │\n",
              "├──────────────────────────────────────┼─────────────────────────────┼─────────────────┤\n",
              "│ dropout_3 (\u001b[38;5;33mDropout\u001b[0m)                  │ (\u001b[38;5;45mNone\u001b[0m, \u001b[38;5;34m3\u001b[0m)                   │               \u001b[38;5;34m0\u001b[0m │\n",
              "├──────────────────────────────────────┼─────────────────────────────┼─────────────────┤\n",
              "│ dense_1 (\u001b[38;5;33mDense\u001b[0m)                      │ (\u001b[38;5;45mNone\u001b[0m, \u001b[38;5;34m1\u001b[0m)                   │               \u001b[38;5;34m4\u001b[0m │\n",
              "├──────────────────────────────────────┼─────────────────────────────┼─────────────────┤\n",
              "│ activation_1 (\u001b[38;5;33mActivation\u001b[0m)            │ (\u001b[38;5;45mNone\u001b[0m, \u001b[38;5;34m1\u001b[0m)                   │               \u001b[38;5;34m0\u001b[0m │\n",
              "└──────────────────────────────────────┴─────────────────────────────┴─────────────────┘\n"
            ],
            "text/html": [
              "<pre style=\"white-space:pre;overflow-x:auto;line-height:normal;font-family:Menlo,'DejaVu Sans Mono',consolas,'Courier New',monospace\">┏━━━━━━━━━━━━━━━━━━━━━━━━━━━━━━━━━━━━━━┳━━━━━━━━━━━━━━━━━━━━━━━━━━━━━┳━━━━━━━━━━━━━━━━━┓\n",
              "┃<span style=\"font-weight: bold\"> Layer (type)                         </span>┃<span style=\"font-weight: bold\"> Output Shape                </span>┃<span style=\"font-weight: bold\">         Param # </span>┃\n",
              "┡━━━━━━━━━━━━━━━━━━━━━━━━━━━━━━━━━━━━━━╇━━━━━━━━━━━━━━━━━━━━━━━━━━━━━╇━━━━━━━━━━━━━━━━━┩\n",
              "│ lstm_2 (<span style=\"color: #0087ff; text-decoration-color: #0087ff\">LSTM</span>)                        │ (<span style=\"color: #00d7ff; text-decoration-color: #00d7ff\">None</span>, <span style=\"color: #00af00; text-decoration-color: #00af00\">30</span>, <span style=\"color: #00af00; text-decoration-color: #00af00\">5</span>)               │             <span style=\"color: #00af00; text-decoration-color: #00af00\">140</span> │\n",
              "├──────────────────────────────────────┼─────────────────────────────┼─────────────────┤\n",
              "│ dropout_2 (<span style=\"color: #0087ff; text-decoration-color: #0087ff\">Dropout</span>)                  │ (<span style=\"color: #00d7ff; text-decoration-color: #00d7ff\">None</span>, <span style=\"color: #00af00; text-decoration-color: #00af00\">30</span>, <span style=\"color: #00af00; text-decoration-color: #00af00\">5</span>)               │               <span style=\"color: #00af00; text-decoration-color: #00af00\">0</span> │\n",
              "├──────────────────────────────────────┼─────────────────────────────┼─────────────────┤\n",
              "│ lstm_3 (<span style=\"color: #0087ff; text-decoration-color: #0087ff\">LSTM</span>)                        │ (<span style=\"color: #00d7ff; text-decoration-color: #00d7ff\">None</span>, <span style=\"color: #00af00; text-decoration-color: #00af00\">3</span>)                   │             <span style=\"color: #00af00; text-decoration-color: #00af00\">108</span> │\n",
              "├──────────────────────────────────────┼─────────────────────────────┼─────────────────┤\n",
              "│ dropout_3 (<span style=\"color: #0087ff; text-decoration-color: #0087ff\">Dropout</span>)                  │ (<span style=\"color: #00d7ff; text-decoration-color: #00d7ff\">None</span>, <span style=\"color: #00af00; text-decoration-color: #00af00\">3</span>)                   │               <span style=\"color: #00af00; text-decoration-color: #00af00\">0</span> │\n",
              "├──────────────────────────────────────┼─────────────────────────────┼─────────────────┤\n",
              "│ dense_1 (<span style=\"color: #0087ff; text-decoration-color: #0087ff\">Dense</span>)                      │ (<span style=\"color: #00d7ff; text-decoration-color: #00d7ff\">None</span>, <span style=\"color: #00af00; text-decoration-color: #00af00\">1</span>)                   │               <span style=\"color: #00af00; text-decoration-color: #00af00\">4</span> │\n",
              "├──────────────────────────────────────┼─────────────────────────────┼─────────────────┤\n",
              "│ activation_1 (<span style=\"color: #0087ff; text-decoration-color: #0087ff\">Activation</span>)            │ (<span style=\"color: #00d7ff; text-decoration-color: #00d7ff\">None</span>, <span style=\"color: #00af00; text-decoration-color: #00af00\">1</span>)                   │               <span style=\"color: #00af00; text-decoration-color: #00af00\">0</span> │\n",
              "└──────────────────────────────────────┴─────────────────────────────┴─────────────────┘\n",
              "</pre>\n"
            ]
          },
          "metadata": {}
        },
        {
          "output_type": "display_data",
          "data": {
            "text/plain": [
              "\u001b[1m Total params: \u001b[0m\u001b[38;5;34m252\u001b[0m (1008.00 B)\n"
            ],
            "text/html": [
              "<pre style=\"white-space:pre;overflow-x:auto;line-height:normal;font-family:Menlo,'DejaVu Sans Mono',consolas,'Courier New',monospace\"><span style=\"font-weight: bold\"> Total params: </span><span style=\"color: #00af00; text-decoration-color: #00af00\">252</span> (1008.00 B)\n",
              "</pre>\n"
            ]
          },
          "metadata": {}
        },
        {
          "output_type": "display_data",
          "data": {
            "text/plain": [
              "\u001b[1m Trainable params: \u001b[0m\u001b[38;5;34m252\u001b[0m (1008.00 B)\n"
            ],
            "text/html": [
              "<pre style=\"white-space:pre;overflow-x:auto;line-height:normal;font-family:Menlo,'DejaVu Sans Mono',consolas,'Courier New',monospace\"><span style=\"font-weight: bold\"> Trainable params: </span><span style=\"color: #00af00; text-decoration-color: #00af00\">252</span> (1008.00 B)\n",
              "</pre>\n"
            ]
          },
          "metadata": {}
        },
        {
          "output_type": "display_data",
          "data": {
            "text/plain": [
              "\u001b[1m Non-trainable params: \u001b[0m\u001b[38;5;34m0\u001b[0m (0.00 B)\n"
            ],
            "text/html": [
              "<pre style=\"white-space:pre;overflow-x:auto;line-height:normal;font-family:Menlo,'DejaVu Sans Mono',consolas,'Courier New',monospace\"><span style=\"font-weight: bold\"> Non-trainable params: </span><span style=\"color: #00af00; text-decoration-color: #00af00\">0</span> (0.00 B)\n",
              "</pre>\n"
            ]
          },
          "metadata": {}
        },
        {
          "output_type": "stream",
          "name": "stdout",
          "text": [
            "None\n",
            "Epoch 1/100\n",
            "32/32 - 6s - 187ms/step - loss: 1.5268 - mse: 1.5268 - val_loss: 1.1523 - val_mse: 1.1523\n",
            "Epoch 2/100\n",
            "32/32 - 1s - 32ms/step - loss: 1.1879 - mse: 1.1879 - val_loss: 1.1517 - val_mse: 1.1517\n",
            "Epoch 3/100\n",
            "32/32 - 1s - 39ms/step - loss: 1.1701 - mse: 1.1701 - val_loss: 1.1525 - val_mse: 1.1525\n",
            "Epoch 4/100\n",
            "32/32 - 1s - 32ms/step - loss: 1.1569 - mse: 1.1569 - val_loss: 1.1539 - val_mse: 1.1539\n",
            "Epoch 5/100\n",
            "32/32 - 1s - 38ms/step - loss: 1.1595 - mse: 1.1595 - val_loss: 1.1530 - val_mse: 1.1530\n",
            "Epoch 6/100\n",
            "32/32 - 1s - 39ms/step - loss: 1.1468 - mse: 1.1468 - val_loss: 1.1517 - val_mse: 1.1517\n",
            "Epoch 7/100\n",
            "32/32 - 1s - 35ms/step - loss: 1.1452 - mse: 1.1452 - val_loss: 1.1509 - val_mse: 1.1509\n",
            "Epoch 8/100\n",
            "32/32 - 2s - 48ms/step - loss: 1.1378 - mse: 1.1378 - val_loss: 1.1514 - val_mse: 1.1514\n",
            "Epoch 9/100\n",
            "32/32 - 3s - 81ms/step - loss: 1.1371 - mse: 1.1371 - val_loss: 1.1510 - val_mse: 1.1510\n",
            "Epoch 10/100\n",
            "32/32 - 1s - 33ms/step - loss: 1.1295 - mse: 1.1295 - val_loss: 1.1517 - val_mse: 1.1517\n",
            "Epoch 11/100\n",
            "32/32 - 1s - 32ms/step - loss: 1.1277 - mse: 1.1277 - val_loss: 1.1506 - val_mse: 1.1506\n",
            "Epoch 12/100\n",
            "32/32 - 1s - 31ms/step - loss: 1.1249 - mse: 1.1249 - val_loss: 1.1507 - val_mse: 1.1507\n",
            "Epoch 13/100\n",
            "32/32 - 1s - 33ms/step - loss: 1.1232 - mse: 1.1232 - val_loss: 1.1506 - val_mse: 1.1506\n",
            "Epoch 14/100\n",
            "32/32 - 1s - 31ms/step - loss: 1.1225 - mse: 1.1225 - val_loss: 1.1506 - val_mse: 1.1506\n",
            "Epoch 15/100\n",
            "32/32 - 1s - 39ms/step - loss: 1.1194 - mse: 1.1194 - val_loss: 1.1506 - val_mse: 1.1506\n",
            "Epoch 16/100\n",
            "32/32 - 1s - 39ms/step - loss: 1.1175 - mse: 1.1175 - val_loss: 1.1507 - val_mse: 1.1507\n",
            "Epoch 17/100\n",
            "32/32 - 1s - 39ms/step - loss: 1.1185 - mse: 1.1185 - val_loss: 1.1506 - val_mse: 1.1506\n",
            "Epoch 18/100\n",
            "32/32 - 1s - 32ms/step - loss: 1.1170 - mse: 1.1170 - val_loss: 1.1505 - val_mse: 1.1505\n",
            "Epoch 19/100\n",
            "32/32 - 2s - 57ms/step - loss: 1.1182 - mse: 1.1182 - val_loss: 1.1504 - val_mse: 1.1504\n",
            "Epoch 20/100\n",
            "32/32 - 3s - 81ms/step - loss: 1.1175 - mse: 1.1175 - val_loss: 1.1503 - val_mse: 1.1503\n",
            "Epoch 21/100\n",
            "32/32 - 2s - 49ms/step - loss: 1.1170 - mse: 1.1170 - val_loss: 1.1504 - val_mse: 1.1504\n",
            "Epoch 22/100\n",
            "32/32 - 2s - 61ms/step - loss: 1.1161 - mse: 1.1161 - val_loss: 1.1506 - val_mse: 1.1506\n",
            "Epoch 23/100\n",
            "32/32 - 1s - 40ms/step - loss: 1.1160 - mse: 1.1160 - val_loss: 1.1504 - val_mse: 1.1504\n",
            "Epoch 24/100\n",
            "32/32 - 1s - 39ms/step - loss: 1.1157 - mse: 1.1157 - val_loss: 1.1504 - val_mse: 1.1504\n",
            "Epoch 25/100\n",
            "32/32 - 1s - 32ms/step - loss: 1.1157 - mse: 1.1157 - val_loss: 1.1504 - val_mse: 1.1504\n",
            "Epoch 26/100\n",
            "32/32 - 1s - 39ms/step - loss: 1.1153 - mse: 1.1153 - val_loss: 1.1504 - val_mse: 1.1504\n",
            "Epoch 27/100\n",
            "32/32 - 1s - 32ms/step - loss: 1.1163 - mse: 1.1163 - val_loss: 1.1504 - val_mse: 1.1504\n",
            "Epoch 28/100\n",
            "32/32 - 1s - 32ms/step - loss: 1.1162 - mse: 1.1162 - val_loss: 1.1509 - val_mse: 1.1509\n",
            "Epoch 29/100\n",
            "32/32 - 1s - 31ms/step - loss: 1.1157 - mse: 1.1157 - val_loss: 1.1508 - val_mse: 1.1508\n",
            "Epoch 30/100\n",
            "32/32 - 1s - 46ms/step - loss: 1.1155 - mse: 1.1155 - val_loss: 1.1505 - val_mse: 1.1505\n",
            "dict_keys(['loss', 'mse', 'val_loss', 'val_mse'])\n"
          ]
        }
      ],
      "source": [
        "# define path to save model\n",
        "model_path = 'LSTM_model1.keras'\n",
        "\n",
        "# build the network\n",
        "nb_features = seq_arrays.shape[2]\n",
        "nb_out = 1\n",
        "\n",
        "model = Sequential()\n",
        "\n",
        "#add first LSTM layer\n",
        "model.add(LSTM(\n",
        "         input_shape=(seq_length, nb_features),\n",
        "         units=5,\n",
        "         return_sequences=True))\n",
        "model.add(Dropout(0.2))\n",
        "\n",
        "# add second LSTM layer\n",
        "model.add(LSTM(\n",
        "          units=3,\n",
        "          return_sequences=False))\n",
        "model.add(Dropout(0.2))\n",
        "model.add(Dense(units=nb_out, activation='linear'))\n",
        "model.add(Activation('linear'))\n",
        "optimizer = keras.optimizers.Adam(learning_rate = 0.01)\n",
        "model.compile(loss='mean_squared_error', optimizer=optimizer,metrics=['mse'])\n",
        "\n",
        "print(model.summary())\n",
        "\n",
        "# fit the network\n",
        "history = model.fit(seq_arrays, seq_labs, epochs=100, batch_size=500, validation_split=0.05, verbose=2,\n",
        "          callbacks = [keras.callbacks.EarlyStopping(monitor='val_loss', min_delta=0, patience=10, verbose=0, mode='min'),\n",
        "                       keras.callbacks.ModelCheckpoint(model_path,monitor='val_loss', save_best_only=True, mode='min', verbose=0)]\n",
        "          )\n",
        "\n",
        "# list all data in history\n",
        "print(history.history.keys())"
      ]
    },
    {
      "cell_type": "markdown",
      "id": "1c5dd990",
      "metadata": {
        "id": "1c5dd990"
      },
      "source": [
        "We will use the code from the book to visualize our training progress and model performance"
      ]
    },
    {
      "cell_type": "code",
      "execution_count": 17,
      "id": "18d4d9ec",
      "metadata": {
        "colab": {
          "base_uri": "https://localhost:8080/",
          "height": 872
        },
        "id": "18d4d9ec",
        "outputId": "d13b3b5a-97f3-44ed-e554-f528df942b0e"
      },
      "outputs": [
        {
          "output_type": "display_data",
          "data": {
            "text/plain": [
              "<Figure size 1000x1000 with 1 Axes>"
            ],
            "image/png": "[encoded data removed]"
          },
          "metadata": {}
        }
      ],
      "source": [
        "# summarize history for Loss/MSE\n",
        "fig_acc = plt.figure(figsize=(10, 10))\n",
        "plt.plot(history.history['loss'])\n",
        "plt.plot(history.history['val_loss'])\n",
        "plt.title('model loss/MSE')\n",
        "plt.ylabel('loss')\n",
        "plt.xlabel('epoch')\n",
        "plt.legend(['train', 'test'], loc='upper left')\n",
        "plt.show()\n",
        "fig_acc.savefig(\"LSTM_loss1.png\")\n"
      ]
    },
    {
      "cell_type": "markdown",
      "id": "a0522509",
      "metadata": {
        "id": "a0522509"
      },
      "source": [
        "## Validating our model\n",
        "\n",
        "Now we need to create our simulated streaming validation set to test our model \"in production\". With our linear regression models, we were able to begin making predictions with only two datapoints, but the LSTM model requires an input sequence of *seq_length* to make a prediction. We can get around this limitation by \"padding\" our inputs when they are too short.\n",
        "\n",
        "**TODO: create a nested list structure for the validation data, with a sequence of GAP measurements as the input and the GAP measurement at your predictive horizon as your expected output. Begin your predictions after only two GAP measurements are available, and check out [this keras function](https://www.tensorflow.org/api_docs/python/tf/keras/utils/pad_sequences) to automatically pad sequences that are too short.**\n",
        "\n",
        "**Q: Describe the pad_sequences function and how it manages sequences of variable length. What does the \"padding\" argument determine, and which setting makes the most sense for our use case here?**\n",
        "\n",
        "A:"
      ]
    },
    {
      "cell_type": "code",
      "execution_count": 23,
      "id": "823ea44c",
      "metadata": {
        "colab": {
          "base_uri": "https://localhost:8080/"
        },
        "id": "823ea44c",
        "outputId": "9438680a-b5ed-465e-b97a-fb781370e8fe"
      },
      "outputs": [
        {
          "output_type": "stream",
          "name": "stdout",
          "text": [
            "(4116, 30, 1)\n"
          ]
        }
      ],
      "source": [
        "val_arrays = []\n",
        "val_labs = []\n",
        "temp_seq_arrays =[]\n",
        "temp_seq_labs = []\n",
        "\n",
        "\n",
        "#create list of GAP readings starting with a minimum of two readings\n",
        "for i in range(len(val_df) - seq_length - ph):\n",
        "    #seq_arrays.append(train_df['Global_active_power'][i : i + seq_length].values.reshape(-1, len(feat_cols)))\n",
        "    #seq_labs.append(train_df['Global_active_power'][i + seq_length + ph -1])\n",
        "    temp_seq_arrays.append(val_df['Global_active_power'][i : i + seq_length].values.reshape(-1, len(feat_cols)))\n",
        "    temp_seq_labs.append(val_df['Global_active_power'][i + seq_length + ph -1])\n",
        "\n",
        "# use the pad_sequences function on your input sequences\n",
        "# remember that we will later want our datatype to be np.float32\n",
        "val_arrays = np.array(temp_seq_arrays, dtype = object).astype(np.float32)\n",
        "\n",
        "#convert labels to numpy arrays and floats to appease keras/tensorflow\n",
        "val_labs = np.array(temp_seq_labs, dtype = object).astype(np.float32)\n",
        "\n",
        "\n",
        "print(val_arrays.shape)\n",
        "\n"
      ]
    },
    {
      "cell_type": "markdown",
      "id": "a553f881",
      "metadata": {
        "id": "a553f881"
      },
      "source": [
        "We will now run this validation data through our LSTM model and visualize its performance like we did on the linear regression data."
      ]
    },
    {
      "cell_type": "code",
      "execution_count": 24,
      "id": "eaaf0946",
      "metadata": {
        "colab": {
          "base_uri": "https://localhost:8080/",
          "height": 692
        },
        "id": "eaaf0946",
        "outputId": "b87861ce-67b9-4d33-865a-4914266583a2"
      },
      "outputs": [
        {
          "output_type": "stream",
          "name": "stdout",
          "text": [
            "129/129 - 1s - 10ms/step - loss: 1.0035 - mse: 1.0035\n",
            "\n",
            "MSE: 1.0034914016723633\n",
            "\u001b[1m129/129\u001b[0m \u001b[32m━━━━━━━━━━━━━━━━━━━━\u001b[0m\u001b[37m\u001b[0m \u001b[1m1s\u001b[0m 5ms/step\n",
            "[[1.0691735]\n",
            " [1.0686082]\n",
            " [1.0687531]\n",
            " ...\n",
            " [1.0690434]\n",
            " [1.0691354]\n",
            " [1.0688342]]\n"
          ]
        },
        {
          "output_type": "display_data",
          "data": {
            "text/plain": [
              "<Figure size 1000x500 with 1 Axes>"
            ],
            "image/png": "[encoded data removed]"
          },
          "metadata": {}
        }
      ],
      "source": [
        "scores_test = model.evaluate(val_arrays, val_labs, verbose=2)\n",
        "print('\\nMSE: {}'.format(scores_test[1]))\n",
        "\n",
        "y_pred_test = model.predict(val_arrays)\n",
        "print(y_pred_test)\n",
        "y_true_test = val_labs\n",
        "\n",
        "test_set = pd.DataFrame(y_pred_test)\n",
        "test_set.to_csv('submit_test.csv', index = None)\n",
        "\n",
        "# Plot the predicted data vs. the actual data\n",
        "# we will limit our plot to the first 500 predictions for better visualization\n",
        "fig_verify = plt.figure(figsize=(10, 5))\n",
        "plt.plot(y_pred_test[-500:], label = 'Predicted Value')\n",
        "plt.plot(y_true_test[-500:], label = 'Actual Value')\n",
        "plt.title('Global Active Power Prediction - Last 500 Points', fontsize=22, fontweight='bold')\n",
        "plt.ylabel('value')\n",
        "plt.xlabel('row')\n",
        "plt.legend()\n",
        "plt.show()\n",
        "fig_verify.savefig(\"model_regression_verify.png\")"
      ]
    },
    {
      "cell_type": "markdown",
      "id": "fb5fcbe0",
      "metadata": {
        "id": "fb5fcbe0"
      },
      "source": [
        "**Q: How did your model perform? What can you tell about the model from the loss curves? What could we do to try to improve the model?**\n",
        "\n",
        "A:\n",
        "\n",
        "\n",
        "## Model Optimization\n",
        "\n",
        "Now it's your turn to build an LSTM-based model in hopes of improving performance on this training set. Changes that you might consider include:\n",
        "\n",
        "- Add more variables to the input sequences\n",
        "- Change the optimizer and/or adjust the learning rate\n",
        "- Change the sequence length and/or the predictive horizon\n",
        "- Change the number of hidden layers in each of the LSTM layers\n",
        "- Change the model architecture altogether--think about adding convolutional layers, linear layers, additional regularization, creating embeddings for the input data, changing the loss function, etc.\n",
        "\n",
        "There isn't any minimum performance increase or number of changes that need to be made, but I want to see that you have tried some different things. Remember that building and optimizing deep learning networks is an art and can be very difficult, so don't make yourself crazy trying to optimize for this assignment.\n",
        "\n",
        "**Q: What changes are you going to try with your model? Why do you think these changes could improve model performance?**\n",
        "\n",
        "A:"
      ]
    },
    {
      "cell_type": "code",
      "execution_count": null,
      "id": "e50afded",
      "metadata": {
        "id": "e50afded"
      },
      "outputs": [],
      "source": [
        "# play with your ideas for optimization here\n"
      ]
    },
    {
      "cell_type": "code",
      "execution_count": null,
      "id": "d22b9a0b",
      "metadata": {
        "id": "d22b9a0b"
      },
      "outputs": [],
      "source": [
        "# show me how one or two of your different models perform\n",
        "# using the code from the \"Validating our model\" section above\n"
      ]
    },
    {
      "cell_type": "markdown",
      "id": "c3ccb037",
      "metadata": {
        "id": "c3ccb037"
      },
      "source": [
        "**Q: How did your model changes affect performance on the validation data? Why do you think they were/were not effective? If you were trying to optimize for production, what would you try next?**\n",
        "\n",
        "A:\n",
        "\n",
        "**Q: How did the models that you built in this assignment compare to the linear regression model from last week? Think about model performance and other IoT device considerations; Which model would you choose to use in an IoT system that predicts GAP for a single household with a 5-minute predictive horizon, and why?**\n",
        "\n",
        "A:"
      ]
    }
  ],
  "metadata": {
    "kernelspec": {
      "display_name": "Python 3 (ipykernel)",
      "language": "python",
      "name": "python3"
    },
    "language_info": {
      "codemirror_mode": {
        "name": "ipython",
        "version": 3
      },
      "file_extension": ".py",
      "mimetype": "text/x-python",
      "name": "python",
      "nbconvert_exporter": "python",
      "pygments_lexer": "ipython3",
      "version": "3.12.2"
    },
    "colab": {
      "provenance": [],
      "include_colab_link": true
    }
  },
  "nbformat": 4,
  "nbformat_minor": 5
}