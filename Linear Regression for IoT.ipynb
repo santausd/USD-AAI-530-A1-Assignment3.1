{
  "cells": [
    {
      "cell_type": "markdown",
      "id": "b100e7ad",
      "metadata": {
        "id": "b100e7ad"
      },
      "source": [
        "# Linear Regression Analysis and Prediction for IoT\n",
        "\n",
        "This notebook holds the Assignment 3.1 for Module 3 in AAI 530, Data Analytics and the Internet of Things. In this assignment, you will use linear regression to make predictions for simulated \"streaming\" data. The work that you do in this assignment will build on the linear regression predictions that you saw in your text book and in this week's lab session. Be sure to answer the analysis questions thoroughly, as this is a large part of the assignment for this week.\n",
        "\n",
        "## General Assignment Instructions\n",
        "\n",
        "These instructions are included in every assignment, to remind you of the coding standards for the class. Feel free to delete this cell after reading it.\n",
        "\n",
        "One sign of mature code is conforming to a style guide. We recommend the [Google Python Style Guide](https://google.github.io/styleguide/pyguide.html). If you use a different style guide, please include a cell with a link.\n",
        "\n",
        "Your code should be relatively easy-to-read, sensibly commented, and clean. Writing code is a messy process, so please be sure to edit your final submission. Remove any cells that are not needed or parts of cells that contain unnecessary code. Remove inessential `import` statements and make sure that all such statements are moved into the designated cell.\n",
        "\n",
        "When you save your notebook as a pdf, make sure that all cell output is visible (even error messages) as this will aid your instructor in grading your work.\n",
        "\n",
        "Make use of non-code cells for written commentary. These cells should be grammatical and clearly written. In some of these cells you will have questions to answer. The questions will be marked by a \"Q:\" and will have a corresponding \"A:\" spot for you. *Make sure to answer every question marked with a `Q:` for full credit.*"
      ]
    },
    {
      "cell_type": "code",
      "execution_count": 1,
      "id": "4af6fb84",
      "metadata": {
        "id": "4af6fb84"
      },
      "outputs": [],
      "source": [
        "import pandas as pd\n",
        "import numpy as np\n",
        "import matplotlib.pyplot as plt\n",
        "from sklearn.linear_model import LinearRegression\n",
        "\n",
        "#suppress scientific notation in pandas\n",
        "pd.set_option('display.float_format', lambda x: '%.5f' % x)"
      ]
    },
    {
      "cell_type": "code",
      "execution_count": 17,
      "id": "3a417281",
      "metadata": {
        "id": "3a417281"
      },
      "outputs": [],
      "source": [
        "#use this cell to import additional libraries or define helper functions\n",
        "from google.colab import drive\n",
        "\n"
      ]
    },
    {
      "cell_type": "markdown",
      "id": "58c3b663",
      "metadata": {
        "id": "58c3b663"
      },
      "source": [
        "## Load and prepare your data\n",
        "\n",
        "We'll be using the cleaned household electric consumption dataset from Module 2 in this assignment. I recommend saving your dataset by running df.to_csv(\"filename\") at the end of the last assignment so that you don't have to re-do your cleaning steps. If you are not confident in your own cleaning steps, you may ask your instructor for a cleaned version of the data. You will not be graded on the cleaning steps in this assignment, but some functions may not work if you use the raw data.\n",
        "\n",
        "We need to turn our datetime column into a numeric value to be used as a variable in our linear regression. In the lab session, we created a new column of minutes and just incremented the value by 10 since we knew that the readings occurred every 10 minutes. In this dataset, we have readings every minute, but we might have some missing rows depending on how you cleaned your data. So instead we will convert our datetime column to something called [unix/epoch time](https://en.wikipedia.org/wiki/Unix_time), which is the number of seconds since midnight on 1/1/1970.\n",
        "\n",
        "**TODO: load your data and convert the datetime column into epoch/unix time**"
      ]
    },
    {
      "cell_type": "code",
      "execution_count": 19,
      "id": "d4c3a4ff",
      "metadata": {
        "id": "d4c3a4ff",
        "outputId": "48cb9436-c5c5-415f-af2f-7762e001feeb",
        "colab": {
          "base_uri": "https://localhost:8080/"
        }
      },
      "outputs": [
        {
          "output_type": "stream",
          "name": "stdout",
          "text": [
            "Drive already mounted at /content/drive; to attempt to forcibly remount, call drive.mount(\"/content/drive\", force_remount=True).\n",
            "<class 'pandas.core.frame.DataFrame'>\n",
            "RangeIndex: 2075259 entries, 0 to 2075258\n",
            "Data columns (total 12 columns):\n",
            " #   Column                 Dtype  \n",
            "---  ------                 -----  \n",
            " 0   Unnamed: 0             int64  \n",
            " 1   Date                   object \n",
            " 2   Time                   object \n",
            " 3   Global_active_power    float64\n",
            " 4   Global_reactive_power  float64\n",
            " 5   Voltage                float64\n",
            " 6   Global_intensity       float64\n",
            " 7   Sub_metering_1         float64\n",
            " 8   Sub_metering_2         float64\n",
            " 9   Sub_metering_3         float64\n",
            " 10  Datetime               object \n",
            " 11  Month                  object \n",
            "dtypes: float64(7), int64(1), object(4)\n",
            "memory usage: 190.0+ MB\n"
          ]
        }
      ],
      "source": [
        "#Load your data into a pandas dataframe here\n",
        "drive.mount('/content/drive')\n",
        "file_path = f'/content/drive/My Drive/AAI-530-A1/clean_data.csv'  # Assuming 'clean_data.csv' is directly in 'My Drive'\n",
        "\n",
        "df = pd.read_csv(file_path)\n",
        "df.info()\n"
      ]
    },
    {
      "cell_type": "code",
      "execution_count": 20,
      "id": "52e72e5e",
      "metadata": {
        "id": "52e72e5e",
        "outputId": "39ea222f-0739-456e-c9ce-dfc7fd9ac1b6",
        "colab": {
          "base_uri": "https://localhost:8080/",
          "height": 417
        }
      },
      "outputs": [
        {
          "output_type": "execute_result",
          "data": {
            "text/plain": [
              "   Unnamed: 0        Date      Time  Global_active_power  \\\n",
              "0           0  2006-12-16  17:24:00              4.21600   \n",
              "1           1  2006-12-16  17:25:00              5.36000   \n",
              "2           2  2006-12-16  17:26:00              5.37400   \n",
              "3           3  2006-12-16  17:27:00              5.38800   \n",
              "4           4  2006-12-16  17:28:00              3.66600   \n",
              "\n",
              "   Global_reactive_power   Voltage  Global_intensity  Sub_metering_1  \\\n",
              "0                0.41800 234.84000          18.40000         0.00000   \n",
              "1                0.43600 233.63000          23.00000         0.00000   \n",
              "2                0.49800 233.29000          23.00000         0.00000   \n",
              "3                0.50200 233.74000          23.00000         0.00000   \n",
              "4                0.52800 235.68000          15.80000         0.00000   \n",
              "\n",
              "   Sub_metering_2  Sub_metering_3             Datetime    Month  \\\n",
              "0         1.00000        17.00000  2006-12-16 17:24:00  2006-12   \n",
              "1         1.00000        16.00000  2006-12-16 17:25:00  2006-12   \n",
              "2         2.00000        17.00000  2006-12-16 17:26:00  2006-12   \n",
              "3         1.00000        17.00000  2006-12-16 17:27:00  2006-12   \n",
              "4         1.00000        17.00000  2006-12-16 17:28:00  2006-12   \n",
              "\n",
              "                  unix  \n",
              "0  1166289840000000000  \n",
              "1  1166289900000000000  \n",
              "2  1166289960000000000  \n",
              "3  1166290020000000000  \n",
              "4  1166290080000000000  "
            ],
            "text/html": [
              "\n",
              "  <div id=\"df-3110a869-a81d-4611-8f0a-b89c1f14a196\" class=\"colab-df-container\">\n",
              "    <div>\n",
              "<style scoped>\n",
              "    .dataframe tbody tr th:only-of-type {\n",
              "        vertical-align: middle;\n",
              "    }\n",
              "\n",
              "    .dataframe tbody tr th {\n",
              "        vertical-align: top;\n",
              "    }\n",
              "\n",
              "    .dataframe thead th {\n",
              "        text-align: right;\n",
              "    }\n",
              "</style>\n",
              "<table border=\"1\" class=\"dataframe\">\n",
              "  <thead>\n",
              "    <tr style=\"text-align: right;\">\n",
              "      <th></th>\n",
              "      <th>Unnamed: 0</th>\n",
              "      <th>Date</th>\n",
              "      <th>Time</th>\n",
              "      <th>Global_active_power</th>\n",
              "      <th>Global_reactive_power</th>\n",
              "      <th>Voltage</th>\n",
              "      <th>Global_intensity</th>\n",
              "      <th>Sub_metering_1</th>\n",
              "      <th>Sub_metering_2</th>\n",
              "      <th>Sub_metering_3</th>\n",
              "      <th>Datetime</th>\n",
              "      <th>Month</th>\n",
              "      <th>unix</th>\n",
              "    </tr>\n",
              "  </thead>\n",
              "  <tbody>\n",
              "    <tr>\n",
              "      <th>0</th>\n",
              "      <td>0</td>\n",
              "      <td>2006-12-16</td>\n",
              "      <td>17:24:00</td>\n",
              "      <td>4.21600</td>\n",
              "      <td>0.41800</td>\n",
              "      <td>234.84000</td>\n",
              "      <td>18.40000</td>\n",
              "      <td>0.00000</td>\n",
              "      <td>1.00000</td>\n",
              "      <td>17.00000</td>\n",
              "      <td>2006-12-16 17:24:00</td>\n",
              "      <td>2006-12</td>\n",
              "      <td>1166289840000000000</td>\n",
              "    </tr>\n",
              "    <tr>\n",
              "      <th>1</th>\n",
              "      <td>1</td>\n",
              "      <td>2006-12-16</td>\n",
              "      <td>17:25:00</td>\n",
              "      <td>5.36000</td>\n",
              "      <td>0.43600</td>\n",
              "      <td>233.63000</td>\n",
              "      <td>23.00000</td>\n",
              "      <td>0.00000</td>\n",
              "      <td>1.00000</td>\n",
              "      <td>16.00000</td>\n",
              "      <td>2006-12-16 17:25:00</td>\n",
              "      <td>2006-12</td>\n",
              "      <td>1166289900000000000</td>\n",
              "    </tr>\n",
              "    <tr>\n",
              "      <th>2</th>\n",
              "      <td>2</td>\n",
              "      <td>2006-12-16</td>\n",
              "      <td>17:26:00</td>\n",
              "      <td>5.37400</td>\n",
              "      <td>0.49800</td>\n",
              "      <td>233.29000</td>\n",
              "      <td>23.00000</td>\n",
              "      <td>0.00000</td>\n",
              "      <td>2.00000</td>\n",
              "      <td>17.00000</td>\n",
              "      <td>2006-12-16 17:26:00</td>\n",
              "      <td>2006-12</td>\n",
              "      <td>1166289960000000000</td>\n",
              "    </tr>\n",
              "    <tr>\n",
              "      <th>3</th>\n",
              "      <td>3</td>\n",
              "      <td>2006-12-16</td>\n",
              "      <td>17:27:00</td>\n",
              "      <td>5.38800</td>\n",
              "      <td>0.50200</td>\n",
              "      <td>233.74000</td>\n",
              "      <td>23.00000</td>\n",
              "      <td>0.00000</td>\n",
              "      <td>1.00000</td>\n",
              "      <td>17.00000</td>\n",
              "      <td>2006-12-16 17:27:00</td>\n",
              "      <td>2006-12</td>\n",
              "      <td>1166290020000000000</td>\n",
              "    </tr>\n",
              "    <tr>\n",
              "      <th>4</th>\n",
              "      <td>4</td>\n",
              "      <td>2006-12-16</td>\n",
              "      <td>17:28:00</td>\n",
              "      <td>3.66600</td>\n",
              "      <td>0.52800</td>\n",
              "      <td>235.68000</td>\n",
              "      <td>15.80000</td>\n",
              "      <td>0.00000</td>\n",
              "      <td>1.00000</td>\n",
              "      <td>17.00000</td>\n",
              "      <td>2006-12-16 17:28:00</td>\n",
              "      <td>2006-12</td>\n",
              "      <td>1166290080000000000</td>\n",
              "    </tr>\n",
              "  </tbody>\n",
              "</table>\n",
              "</div>\n",
              "    <div class=\"colab-df-buttons\">\n",
              "\n",
              "  <div class=\"colab-df-container\">\n",
              "    <button class=\"colab-df-convert\" onclick=\"convertToInteractive('df-3110a869-a81d-4611-8f0a-b89c1f14a196')\"\n",
              "            title=\"Convert this dataframe to an interactive table.\"\n",
              "            style=\"display:none;\">\n",
              "\n",
              "  <svg xmlns=\"http://www.w3.org/2000/svg\" height=\"24px\" viewBox=\"0 -960 960 960\">\n",
              "    <path d=\"M120-120v-720h720v720H120Zm60-500h600v-160H180v160Zm220 220h160v-160H400v160Zm0 220h160v-160H400v160ZM180-400h160v-160H180v160Zm440 0h160v-160H620v160ZM180-180h160v-160H180v160Zm440 0h160v-160H620v160Z\"/>\n",
              "  </svg>\n",
              "    </button>\n",
              "\n",
              "  <style>\n",
              "    .colab-df-container {\n",
              "      display:flex;\n",
              "      gap: 12px;\n",
              "    }\n",
              "\n",
              "    .colab-df-convert {\n",
              "      background-color: #E8F0FE;\n",
              "      border: none;\n",
              "      border-radius: 50%;\n",
              "      cursor: pointer;\n",
              "      display: none;\n",
              "      fill: #1967D2;\n",
              "      height: 32px;\n",
              "      padding: 0 0 0 0;\n",
              "      width: 32px;\n",
              "    }\n",
              "\n",
              "    .colab-df-convert:hover {\n",
              "      background-color: #E2EBFA;\n",
              "      box-shadow: 0px 1px 2px rgba(60, 64, 67, 0.3), 0px 1px 3px 1px rgba(60, 64, 67, 0.15);\n",
              "      fill: #174EA6;\n",
              "    }\n",
              "\n",
              "    .colab-df-buttons div {\n",
              "      margin-bottom: 4px;\n",
              "    }\n",
              "\n",
              "    [theme=dark] .colab-df-convert {\n",
              "      background-color: #3B4455;\n",
              "      fill: #D2E3FC;\n",
              "    }\n",
              "\n",
              "    [theme=dark] .colab-df-convert:hover {\n",
              "      background-color: #434B5C;\n",
              "      box-shadow: 0px 1px 3px 1px rgba(0, 0, 0, 0.15);\n",
              "      filter: drop-shadow(0px 1px 2px rgba(0, 0, 0, 0.3));\n",
              "      fill: #FFFFFF;\n",
              "    }\n",
              "  </style>\n",
              "\n",
              "    <script>\n",
              "      const buttonEl =\n",
              "        document.querySelector('#df-3110a869-a81d-4611-8f0a-b89c1f14a196 button.colab-df-convert');\n",
              "      buttonEl.style.display =\n",
              "        google.colab.kernel.accessAllowed ? 'block' : 'none';\n",
              "\n",
              "      async function convertToInteractive(key) {\n",
              "        const element = document.querySelector('#df-3110a869-a81d-4611-8f0a-b89c1f14a196');\n",
              "        const dataTable =\n",
              "          await google.colab.kernel.invokeFunction('convertToInteractive',\n",
              "                                                    [key], {});\n",
              "        if (!dataTable) return;\n",
              "\n",
              "        const docLinkHtml = 'Like what you see? Visit the ' +\n",
              "          '<a target=\"_blank\" href=https://colab.research.google.com/notebooks/data_table.ipynb>data table notebook</a>'\n",
              "          + ' to learn more about interactive tables.';\n",
              "        element.innerHTML = '';\n",
              "        dataTable['output_type'] = 'display_data';\n",
              "        await google.colab.output.renderOutput(dataTable, element);\n",
              "        const docLink = document.createElement('div');\n",
              "        docLink.innerHTML = docLinkHtml;\n",
              "        element.appendChild(docLink);\n",
              "      }\n",
              "    </script>\n",
              "  </div>\n",
              "\n",
              "\n",
              "<div id=\"df-074c05a3-a774-4c93-a12f-e4b12da934bc\">\n",
              "  <button class=\"colab-df-quickchart\" onclick=\"quickchart('df-074c05a3-a774-4c93-a12f-e4b12da934bc')\"\n",
              "            title=\"Suggest charts\"\n",
              "            style=\"display:none;\">\n",
              "\n",
              "<svg xmlns=\"http://www.w3.org/2000/svg\" height=\"24px\"viewBox=\"0 0 24 24\"\n",
              "     width=\"24px\">\n",
              "    <g>\n",
              "        <path d=\"M19 3H5c-1.1 0-2 .9-2 2v14c0 1.1.9 2 2 2h14c1.1 0 2-.9 2-2V5c0-1.1-.9-2-2-2zM9 17H7v-7h2v7zm4 0h-2V7h2v10zm4 0h-2v-4h2v4z\"/>\n",
              "    </g>\n",
              "</svg>\n",
              "  </button>\n",
              "\n",
              "<style>\n",
              "  .colab-df-quickchart {\n",
              "      --bg-color: #E8F0FE;\n",
              "      --fill-color: #1967D2;\n",
              "      --hover-bg-color: #E2EBFA;\n",
              "      --hover-fill-color: #174EA6;\n",
              "      --disabled-fill-color: #AAA;\n",
              "      --disabled-bg-color: #DDD;\n",
              "  }\n",
              "\n",
              "  [theme=dark] .colab-df-quickchart {\n",
              "      --bg-color: #3B4455;\n",
              "      --fill-color: #D2E3FC;\n",
              "      --hover-bg-color: #434B5C;\n",
              "      --hover-fill-color: #FFFFFF;\n",
              "      --disabled-bg-color: #3B4455;\n",
              "      --disabled-fill-color: #666;\n",
              "  }\n",
              "\n",
              "  .colab-df-quickchart {\n",
              "    background-color: var(--bg-color);\n",
              "    border: none;\n",
              "    border-radius: 50%;\n",
              "    cursor: pointer;\n",
              "    display: none;\n",
              "    fill: var(--fill-color);\n",
              "    height: 32px;\n",
              "    padding: 0;\n",
              "    width: 32px;\n",
              "  }\n",
              "\n",
              "  .colab-df-quickchart:hover {\n",
              "    background-color: var(--hover-bg-color);\n",
              "    box-shadow: 0 1px 2px rgba(60, 64, 67, 0.3), 0 1px 3px 1px rgba(60, 64, 67, 0.15);\n",
              "    fill: var(--button-hover-fill-color);\n",
              "  }\n",
              "\n",
              "  .colab-df-quickchart-complete:disabled,\n",
              "  .colab-df-quickchart-complete:disabled:hover {\n",
              "    background-color: var(--disabled-bg-color);\n",
              "    fill: var(--disabled-fill-color);\n",
              "    box-shadow: none;\n",
              "  }\n",
              "\n",
              "  .colab-df-spinner {\n",
              "    border: 2px solid var(--fill-color);\n",
              "    border-color: transparent;\n",
              "    border-bottom-color: var(--fill-color);\n",
              "    animation:\n",
              "      spin 1s steps(1) infinite;\n",
              "  }\n",
              "\n",
              "  @keyframes spin {\n",
              "    0% {\n",
              "      border-color: transparent;\n",
              "      border-bottom-color: var(--fill-color);\n",
              "      border-left-color: var(--fill-color);\n",
              "    }\n",
              "    20% {\n",
              "      border-color: transparent;\n",
              "      border-left-color: var(--fill-color);\n",
              "      border-top-color: var(--fill-color);\n",
              "    }\n",
              "    30% {\n",
              "      border-color: transparent;\n",
              "      border-left-color: var(--fill-color);\n",
              "      border-top-color: var(--fill-color);\n",
              "      border-right-color: var(--fill-color);\n",
              "    }\n",
              "    40% {\n",
              "      border-color: transparent;\n",
              "      border-right-color: var(--fill-color);\n",
              "      border-top-color: var(--fill-color);\n",
              "    }\n",
              "    60% {\n",
              "      border-color: transparent;\n",
              "      border-right-color: var(--fill-color);\n",
              "    }\n",
              "    80% {\n",
              "      border-color: transparent;\n",
              "      border-right-color: var(--fill-color);\n",
              "      border-bottom-color: var(--fill-color);\n",
              "    }\n",
              "    90% {\n",
              "      border-color: transparent;\n",
              "      border-bottom-color: var(--fill-color);\n",
              "    }\n",
              "  }\n",
              "</style>\n",
              "\n",
              "  <script>\n",
              "    async function quickchart(key) {\n",
              "      const quickchartButtonEl =\n",
              "        document.querySelector('#' + key + ' button');\n",
              "      quickchartButtonEl.disabled = true;  // To prevent multiple clicks.\n",
              "      quickchartButtonEl.classList.add('colab-df-spinner');\n",
              "      try {\n",
              "        const charts = await google.colab.kernel.invokeFunction(\n",
              "            'suggestCharts', [key], {});\n",
              "      } catch (error) {\n",
              "        console.error('Error during call to suggestCharts:', error);\n",
              "      }\n",
              "      quickchartButtonEl.classList.remove('colab-df-spinner');\n",
              "      quickchartButtonEl.classList.add('colab-df-quickchart-complete');\n",
              "    }\n",
              "    (() => {\n",
              "      let quickchartButtonEl =\n",
              "        document.querySelector('#df-074c05a3-a774-4c93-a12f-e4b12da934bc button');\n",
              "      quickchartButtonEl.style.display =\n",
              "        google.colab.kernel.accessAllowed ? 'block' : 'none';\n",
              "    })();\n",
              "  </script>\n",
              "</div>\n",
              "\n",
              "    </div>\n",
              "  </div>\n"
            ],
            "application/vnd.google.colaboratory.intrinsic+json": {
              "type": "dataframe",
              "variable_name": "df"
            }
          },
          "metadata": {},
          "execution_count": 20
        }
      ],
      "source": [
        "#convert datetime to epoch/unix time\n",
        "df['unix'] = pd.to_datetime(df['Datetime']).astype(np.int64)\n",
        "df.head()"
      ]
    },
    {
      "cell_type": "markdown",
      "id": "a53c9d96",
      "metadata": {
        "id": "a53c9d96"
      },
      "source": [
        "## Predicting Global Active Power\n",
        "\n",
        "We will follow the code from the Chapter 9 in our textbook and the recorded lab session from this week to predict the Global Active Power (GAP) with linear regression.\n",
        "\n",
        "First we will create our x (time) and y (GAP) training variables, and then define our model parameters.\n",
        "\n",
        "**Q: What is ph? What is mu?**\n",
        "\n",
        "A:\n",
        "\n",
        "**TODO: Set the ph to be 5 minutes--consider the units that our time column is measured in.**"
      ]
    },
    {
      "cell_type": "code",
      "execution_count": null,
      "id": "2376fa9a",
      "metadata": {
        "id": "2376fa9a"
      },
      "outputs": [],
      "source": [
        "ts = pd.DataFrame(df.unix)\n",
        "ys = pd.DataFrame(df.Global_active_power)\n",
        "\n",
        "ph = #5 minutes\n",
        "ph_index = #ph/data resolution (how many timesteps is our ph?)\n",
        "mu = 0.9\n",
        "\n",
        "#let's limit the number of samples in our model to 5000 just for speed\n",
        "n_s = 5000\n",
        "\n",
        "# Arrays to hold predicted values\n",
        "tp_pred = np.zeros(n_s-1)\n",
        "yp_pred = np.zeros(n_s-1)"
      ]
    },
    {
      "cell_type": "markdown",
      "id": "8c6b2799",
      "metadata": {
        "id": "8c6b2799"
      },
      "source": [
        "**Q: With mu = 0.9, how much weight will our first data point have on the last (5000th) prediction in our limited dataset?**\n",
        "\n",
        "A:\n",
        "\n",
        "**TODO: Following the code from Chapter 10 and the lab session, use linear regression to predict a rolling GAP for our dataset. Store these predictions in the tp_pred and yp_pred lists created above for visualization.**"
      ]
    },
    {
      "cell_type": "code",
      "execution_count": null,
      "id": "9817494f",
      "metadata": {
        "id": "9817494f"
      },
      "outputs": [],
      "source": [
        "# At every iteration of the for loop a new data sample is acquired\n",
        "for i in range(2, n_s+1):# start out with 2 leading datapoints\n",
        "    #get x and y data \"available\" for our prediction\n",
        "    ts_tmp = ?\n",
        "    ys_tmp = ?\n",
        "    ns = len(ys_tmp)\n",
        "\n",
        "\n",
        "    weights = np.ones(ns)*mu\n",
        "    for k in range(ns):\n",
        "        #adjust weights to be downweighted according to their timestep away from our prediction\n",
        "        weights[k] = ?\n",
        "    weights = np.flip(weights, 0)\n",
        "\n",
        "    #perform linear regression on \"available\" data using the mu-adjusted weights\n",
        "    lm_tmp = ?\n",
        "    model_tmp = ?\n",
        "\n",
        "    #store model coefficients and intercepts to compute prediction\n",
        "    m_tmp = ?\n",
        "    q_tmp = ?\n",
        "\n",
        "    #use ph to make the model prediction according to the prediction time\n",
        "    tp = ?\n",
        "    yp = ?\n",
        "\n",
        "    tp_pred[i-2] = tp\n",
        "    yp_pred[i-2] = yp"
      ]
    },
    {
      "cell_type": "markdown",
      "id": "f4163a49",
      "metadata": {
        "id": "f4163a49"
      },
      "source": [
        "Now let's visualize the results from our model."
      ]
    },
    {
      "cell_type": "code",
      "execution_count": null,
      "id": "036d4a0b",
      "metadata": {
        "id": "036d4a0b"
      },
      "outputs": [],
      "source": [
        "fig, ax = plt.subplots(figsize=(10,10))\n",
        "fig.suptitle('Global Active Power Prediction', fontsize=22, fontweight='bold')\n",
        "ax.set_title('mu = %g, ph=%g ' %(mu, ph))\n",
        "ax.plot(tp_pred, yp_pred, label='Predicted Value')\n",
        "ax.plot(ts.iloc[0:n_s,0], ys.iloc[0:n_s,0], label='GAP data')\n",
        "ax.set_xlabel('time (epoch)')\n",
        "ax.set_ylabel('kilowatts')\n",
        "ax.legend()"
      ]
    },
    {
      "cell_type": "markdown",
      "id": "317768ae",
      "metadata": {
        "id": "317768ae"
      },
      "source": [
        "It's difficult to tell how the model is performing from this plot.\n",
        "\n",
        "**TODO: Modify the code above to visualize the first and last 200 datapoints/predictions (can be in separate charts) and compute the MSE for our predictions.**"
      ]
    },
    {
      "cell_type": "code",
      "execution_count": null,
      "id": "9e3fcf67",
      "metadata": {
        "id": "9e3fcf67"
      },
      "outputs": [],
      "source": [
        "#Plot first 200 data points/predictions"
      ]
    },
    {
      "cell_type": "code",
      "execution_count": null,
      "id": "b00f4a4b",
      "metadata": {
        "id": "b00f4a4b"
      },
      "outputs": [],
      "source": [
        "#Plot last 200 data points/predictions"
      ]
    },
    {
      "cell_type": "code",
      "execution_count": null,
      "id": "0906ea2f",
      "metadata": {
        "id": "0906ea2f"
      },
      "outputs": [],
      "source": [
        "#Calculate MSE of predictions\n",
        "print(\"MSE is\", mse(ys['Global_active_power'][ph_index:5000+ph_index-1],yp_pred))"
      ]
    },
    {
      "cell_type": "markdown",
      "id": "8f20b48f",
      "metadata": {
        "id": "8f20b48f"
      },
      "source": [
        "**Q: How did our model perform? What do you observe on the charts? Is there a difference between the early and the late predictions? What does the MSE tell you?**\n",
        "\n",
        "A:\n",
        "\n",
        "**TODO: Re-run the prediction code with mu = 1 and mu = 0.01. Use the cells below to produce charts for the first and last 200 points and to compute the MSE for each of these sets of predictions.**"
      ]
    },
    {
      "cell_type": "code",
      "execution_count": null,
      "id": "fd5a71f0-f72a-4303-a861-67eba26e90fa",
      "metadata": {
        "id": "fd5a71f0-f72a-4303-a861-67eba26e90fa"
      },
      "outputs": [],
      "source": [
        "#Re-run prediction code for mu = 1"
      ]
    },
    {
      "cell_type": "code",
      "execution_count": null,
      "id": "2b2919cb",
      "metadata": {
        "id": "2b2919cb"
      },
      "outputs": [],
      "source": [
        "#Plot first 200 data points/predictions for mu = 1"
      ]
    },
    {
      "cell_type": "code",
      "execution_count": null,
      "id": "7dd7eb8e",
      "metadata": {
        "id": "7dd7eb8e"
      },
      "outputs": [],
      "source": [
        "#Plot last 200 data points/predictions for mu = 1"
      ]
    },
    {
      "cell_type": "code",
      "execution_count": null,
      "id": "81ce0e0e",
      "metadata": {
        "id": "81ce0e0e"
      },
      "outputs": [],
      "source": [
        "#Calculate MSE of predictions for mu = 1"
      ]
    },
    {
      "cell_type": "code",
      "execution_count": null,
      "id": "3d1bc7b0-b7e7-4226-9906-5e6c36017f30",
      "metadata": {
        "id": "3d1bc7b0-b7e7-4226-9906-5e6c36017f30"
      },
      "outputs": [],
      "source": [
        "#Re-run prediction code for mu = 0.01"
      ]
    },
    {
      "cell_type": "code",
      "execution_count": null,
      "id": "73f6b21f",
      "metadata": {
        "id": "73f6b21f"
      },
      "outputs": [],
      "source": [
        "#Plot first 200 data points/predictions for mu = 0.01"
      ]
    },
    {
      "cell_type": "code",
      "execution_count": null,
      "id": "387041a1",
      "metadata": {
        "id": "387041a1"
      },
      "outputs": [],
      "source": [
        "#Plot last 200 data points/predictions for mu = 0.01"
      ]
    },
    {
      "cell_type": "code",
      "execution_count": null,
      "id": "cb996a81",
      "metadata": {
        "id": "cb996a81"
      },
      "outputs": [],
      "source": [
        "#Calculate MSE of predictions for mu = 0.01"
      ]
    },
    {
      "cell_type": "markdown",
      "id": "71522c20",
      "metadata": {
        "id": "71522c20"
      },
      "source": [
        "**Q: How did our mu = 1 model perform? What do you observe on the charts? Is there a difference between the early and the late predictions? What does the MSE tell you?**\n",
        "\n",
        "A:\n",
        "\n",
        "**Q: How did our mu = 0.01 model perform? What do you observe on the charts? Is there a difference between the early and the late predictions? What does the MSE tell you?**\n",
        "\n",
        "A:\n",
        "\n",
        "**Q: Which of these three models is the best? How do you know? Why does this make sense based on the mu parameter used?**\n",
        "\n",
        "A:\n",
        "\n",
        "**Q: What could we do to improve our model and/or make it more realistic and useful?**\n",
        "\n",
        "A:\n",
        "\n",
        "**TODO: Add voltage data as a second variable to our model and re-run the prediction code. Then visualize the first and last 200 points and compute the MSE**"
      ]
    },
    {
      "cell_type": "code",
      "execution_count": null,
      "id": "08ad268e",
      "metadata": {
        "id": "08ad268e"
      },
      "outputs": [],
      "source": [
        "#add voltage to the x-variables in our dataset\n",
        "ts = ?\n",
        "ys = pd.DataFrame(df.Global_active_power)\n",
        "\n",
        "ph = #5 minutes\n",
        "ph_index = ?\n",
        "mu = 0.9\n",
        "\n",
        "#let's limit the number of samples in our model to 5000 just for speed\n",
        "n_s = 5000\n",
        "\n",
        "#arrays to hold predicted values\n",
        "tp_pred = np.zeros(n_s-1)\n",
        "yp_pred = np.zeros(n_s-1)"
      ]
    },
    {
      "cell_type": "code",
      "execution_count": null,
      "id": "90c3f8d8",
      "metadata": {
        "id": "90c3f8d8"
      },
      "outputs": [],
      "source": [
        "#run the prediction code on your expanded dataset\n",
        "#make sure to adjust your yp prediction to include the coefficients from time AND voltage"
      ]
    },
    {
      "cell_type": "code",
      "execution_count": null,
      "id": "9e974d69",
      "metadata": {
        "id": "9e974d69"
      },
      "outputs": [],
      "source": [
        "#Plot first 200 data points/predictions for the expanded dataset"
      ]
    },
    {
      "cell_type": "code",
      "execution_count": null,
      "id": "72ff7948",
      "metadata": {
        "id": "72ff7948"
      },
      "outputs": [],
      "source": [
        "#Plot last 200 data points/predictions for the expanded data"
      ]
    },
    {
      "cell_type": "code",
      "execution_count": null,
      "id": "0dd3c706",
      "metadata": {
        "id": "0dd3c706"
      },
      "outputs": [],
      "source": [
        "#Calculate MSE of predictions for the expanded data"
      ]
    },
    {
      "cell_type": "markdown",
      "id": "c8b59f7a",
      "metadata": {
        "id": "c8b59f7a"
      },
      "source": [
        "**Q: How did the model performed when you added the voltage data? How does it compare to the models without it?**\n",
        "\n",
        "A:\n",
        "\n",
        "There are lots of other ways that we could try to improve our model while still using linear regression.\n",
        "\n",
        "**TODO: Choose one alternative model and re-run the prediction code. Some ideas include:**\n",
        "\n",
        "- Use a moving average as the response variable\n",
        "- Make your prediction based on the time of day instead of as a continuous time series\n",
        "- Use a moving window to limit your predictions instead of using a mu factor\n",
        "\n",
        "**Q: Describe your alternative model and why it might improve your model**\n",
        "\n",
        "A:"
      ]
    },
    {
      "cell_type": "code",
      "execution_count": null,
      "id": "ace784a8",
      "metadata": {
        "id": "ace784a8"
      },
      "outputs": [],
      "source": [
        "#create your alternative training data here\n",
        "\n",
        "\n",
        "ph = #5 minutes\n",
        "ph_index =\n",
        "mu = 0.9\n",
        "\n",
        "#let's limit the number of samples in our model to 5000 just for speed\n",
        "n_s = 5000\n",
        "\n",
        "#arrays to hold predicted values\n",
        "#you may need to adjust these\n",
        "tp_pred = np.zeros(n_s-1)\n",
        "yp_pred = np.zeros(n_s-1)"
      ]
    },
    {
      "cell_type": "code",
      "execution_count": null,
      "id": "15a2c2e4",
      "metadata": {
        "id": "15a2c2e4"
      },
      "outputs": [],
      "source": [
        "#re-run the prediction code here"
      ]
    },
    {
      "cell_type": "code",
      "execution_count": null,
      "id": "d6d74929",
      "metadata": {
        "id": "d6d74929"
      },
      "outputs": [],
      "source": [
        "#Plot first 200 data points/predictions for alternative model"
      ]
    },
    {
      "cell_type": "code",
      "execution_count": null,
      "id": "7d0f0d0e",
      "metadata": {
        "id": "7d0f0d0e"
      },
      "outputs": [],
      "source": [
        "#Plot last 200 data points/predictions for alternative model"
      ]
    },
    {
      "cell_type": "code",
      "execution_count": null,
      "id": "031733c4",
      "metadata": {
        "id": "031733c4"
      },
      "outputs": [],
      "source": [
        "#Calculate MSE of predictions for alternative model"
      ]
    },
    {
      "cell_type": "markdown",
      "id": "bd62b51d",
      "metadata": {
        "id": "bd62b51d"
      },
      "source": [
        "**Q: Did your alternative model improve on our previous results? What else could you do to improve the model while still using linear regression?**\n",
        "\n",
        "A:\n",
        "\n",
        "It's worth noting that the results we're getting int his assignment are based on a pretty short predictive horizon of 5 minutes. If we were to increase our predictive horizon, our results would likely be worse and there would be more room for optimizing and improving the predictions of our model."
      ]
    }
  ],
  "metadata": {
    "kernelspec": {
      "display_name": "Python 3 (ipykernel)",
      "language": "python",
      "name": "python3"
    },
    "language_info": {
      "codemirror_mode": {
        "name": "ipython",
        "version": 3
      },
      "file_extension": ".py",
      "mimetype": "text/x-python",
      "name": "python",
      "nbconvert_exporter": "python",
      "pygments_lexer": "ipython3",
      "version": "3.12.2"
    },
    "colab": {
      "provenance": []
    }
  },
  "nbformat": 4,
  "nbformat_minor": 5
}