{
  "cells": [
    {
      "cell_type": "markdown",
      "id": "b100e7ad",
      "metadata": {
        "id": "b100e7ad"
      },
      "source": [
        "# Linear Regression Analysis and Prediction for IoT\n",
        "\n",
        "This notebook holds the Assignment 3.1 for Module 3 in AAI 530, Data Analytics and the Internet of Things. In this assignment, you will use linear regression to make predictions for simulated \"streaming\" data. The work that you do in this assignment will build on the linear regression predictions that you saw in your text book and in this week's lab session. Be sure to answer the analysis questions thoroughly, as this is a large part of the assignment for this week.\n",
        "\n",
        "## General Assignment Instructions\n",
        "\n",
        "These instructions are included in every assignment, to remind you of the coding standards for the class. Feel free to delete this cell after reading it.\n",
        "\n",
        "One sign of mature code is conforming to a style guide. We recommend the [Google Python Style Guide](https://google.github.io/styleguide/pyguide.html). If you use a different style guide, please include a cell with a link.\n",
        "\n",
        "Your code should be relatively easy-to-read, sensibly commented, and clean. Writing code is a messy process, so please be sure to edit your final submission. Remove any cells that are not needed or parts of cells that contain unnecessary code. Remove inessential `import` statements and make sure that all such statements are moved into the designated cell.\n",
        "\n",
        "When you save your notebook as a pdf, make sure that all cell output is visible (even error messages) as this will aid your instructor in grading your work.\n",
        "\n",
        "Make use of non-code cells for written commentary. These cells should be grammatical and clearly written. In some of these cells you will have questions to answer. The questions will be marked by a \"Q:\" and will have a corresponding \"A:\" spot for you. *Make sure to answer every question marked with a `Q:` for full credit.*"
      ]
    },
    {
      "cell_type": "code",
      "execution_count": 1,
      "id": "4af6fb84",
      "metadata": {
        "id": "4af6fb84"
      },
      "outputs": [],
      "source": [
        "import pandas as pd\n",
        "import numpy as np\n",
        "import matplotlib.pyplot as plt\n",
        "from sklearn.linear_model import LinearRegression\n",
        "\n",
        "#suppress scientific notation in pandas\n",
        "pd.set_option('display.float_format', lambda x: '%.5f' % x)"
      ]
    },
    {
      "cell_type": "code",
      "execution_count": 55,
      "id": "3a417281",
      "metadata": {
        "id": "3a417281"
      },
      "outputs": [],
      "source": [
        "#use this cell to import additional libraries or define helper functions\n",
        "from google.colab import drive\n",
        "import math\n",
        "import warnings\n",
        "warnings.simplefilter(action='ignore', category=FutureWarning)\n",
        "\n"
      ]
    },
    {
      "cell_type": "markdown",
      "id": "58c3b663",
      "metadata": {
        "id": "58c3b663"
      },
      "source": [
        "## Load and prepare your data\n",
        "\n",
        "We'll be using the cleaned household electric consumption dataset from Module 2 in this assignment. I recommend saving your dataset by running df.to_csv(\"filename\") at the end of the last assignment so that you don't have to re-do your cleaning steps. If you are not confident in your own cleaning steps, you may ask your instructor for a cleaned version of the data. You will not be graded on the cleaning steps in this assignment, but some functions may not work if you use the raw data.\n",
        "\n",
        "We need to turn our datetime column into a numeric value to be used as a variable in our linear regression. In the lab session, we created a new column of minutes and just incremented the value by 10 since we knew that the readings occurred every 10 minutes. In this dataset, we have readings every minute, but we might have some missing rows depending on how you cleaned your data. So instead we will convert our datetime column to something called [unix/epoch time](https://en.wikipedia.org/wiki/Unix_time), which is the number of seconds since midnight on 1/1/1970.\n",
        "\n",
        "**TODO: load your data and convert the datetime column into epoch/unix time**"
      ]
    },
    {
      "cell_type": "code",
      "execution_count": 19,
      "id": "d4c3a4ff",
      "metadata": {
        "colab": {
          "base_uri": "https://localhost:8080/"
        },
        "id": "d4c3a4ff",
        "outputId": "48cb9436-c5c5-415f-af2f-7762e001feeb"
      },
      "outputs": [
        {
          "output_type": "stream",
          "name": "stdout",
          "text": [
            "Drive already mounted at /content/drive; to attempt to forcibly remount, call drive.mount(\"/content/drive\", force_remount=True).\n",
            "<class 'pandas.core.frame.DataFrame'>\n",
            "RangeIndex: 2075259 entries, 0 to 2075258\n",
            "Data columns (total 12 columns):\n",
            " #   Column                 Dtype  \n",
            "---  ------                 -----  \n",
            " 0   Unnamed: 0             int64  \n",
            " 1   Date                   object \n",
            " 2   Time                   object \n",
            " 3   Global_active_power    float64\n",
            " 4   Global_reactive_power  float64\n",
            " 5   Voltage                float64\n",
            " 6   Global_intensity       float64\n",
            " 7   Sub_metering_1         float64\n",
            " 8   Sub_metering_2         float64\n",
            " 9   Sub_metering_3         float64\n",
            " 10  Datetime               object \n",
            " 11  Month                  object \n",
            "dtypes: float64(7), int64(1), object(4)\n",
            "memory usage: 190.0+ MB\n"
          ]
        }
      ],
      "source": [
        "#Load your data into a pandas dataframe here\n",
        "drive.mount('/content/drive')\n",
        "file_path = f'/content/drive/My Drive/AAI-530-A1/clean_data.csv'  # Assuming 'clean_data.csv' is directly in 'My Drive'\n",
        "\n",
        "df = pd.read_csv(file_path)\n",
        "df.info()\n"
      ]
    },
    {
      "cell_type": "code",
      "execution_count": 39,
      "id": "52e72e5e",
      "metadata": {
        "colab": {
          "base_uri": "https://localhost:8080/",
          "height": 241
        },
        "id": "52e72e5e",
        "outputId": "7c5dcbd9-4f86-4ea8-c641-1f3a0c412268"
      },
      "outputs": [
        {
          "output_type": "execute_result",
          "data": {
            "text/plain": [
              "0    116628984\n",
              "1    116628990\n",
              "2    116628996\n",
              "3    116629002\n",
              "4    116629008\n",
              "Name: unix, dtype: int64"
            ],
            "text/html": [
              "<div>\n",
              "<style scoped>\n",
              "    .dataframe tbody tr th:only-of-type {\n",
              "        vertical-align: middle;\n",
              "    }\n",
              "\n",
              "    .dataframe tbody tr th {\n",
              "        vertical-align: top;\n",
              "    }\n",
              "\n",
              "    .dataframe thead th {\n",
              "        text-align: right;\n",
              "    }\n",
              "</style>\n",
              "<table border=\"1\" class=\"dataframe\">\n",
              "  <thead>\n",
              "    <tr style=\"text-align: right;\">\n",
              "      <th></th>\n",
              "      <th>unix</th>\n",
              "    </tr>\n",
              "  </thead>\n",
              "  <tbody>\n",
              "    <tr>\n",
              "      <th>0</th>\n",
              "      <td>116628984</td>\n",
              "    </tr>\n",
              "    <tr>\n",
              "      <th>1</th>\n",
              "      <td>116628990</td>\n",
              "    </tr>\n",
              "    <tr>\n",
              "      <th>2</th>\n",
              "      <td>116628996</td>\n",
              "    </tr>\n",
              "    <tr>\n",
              "      <th>3</th>\n",
              "      <td>116629002</td>\n",
              "    </tr>\n",
              "    <tr>\n",
              "      <th>4</th>\n",
              "      <td>116629008</td>\n",
              "    </tr>\n",
              "  </tbody>\n",
              "</table>\n",
              "</div><br><label><b>dtype:</b> int64</label>"
            ]
          },
          "metadata": {},
          "execution_count": 39
        }
      ],
      "source": [
        "#convert datetime to epoch/unix time\n",
        "df['unix'] = pd.to_datetime(df['Datetime']).astype(np.int64)/(10**10)\n",
        "df['unix'] = df['unix'].astype(int)\n",
        "df_unix = df.head()['unix']\n",
        "df_unix"
      ]
    },
    {
      "cell_type": "code",
      "source": [
        "#df.head()\n",
        "df.info()"
      ],
      "metadata": {
        "id": "a3cxOHsD8ebr",
        "outputId": "34e52383-4c00-4992-b46d-e3852b09bd38",
        "colab": {
          "base_uri": "https://localhost:8080/"
        }
      },
      "id": "a3cxOHsD8ebr",
      "execution_count": 40,
      "outputs": [
        {
          "output_type": "stream",
          "name": "stdout",
          "text": [
            "<class 'pandas.core.frame.DataFrame'>\n",
            "RangeIndex: 2075259 entries, 0 to 2075258\n",
            "Data columns (total 14 columns):\n",
            " #   Column                 Dtype  \n",
            "---  ------                 -----  \n",
            " 0   Unnamed: 0             int64  \n",
            " 1   Date                   object \n",
            " 2   Time                   object \n",
            " 3   Global_active_power    float64\n",
            " 4   Global_reactive_power  float64\n",
            " 5   Voltage                float64\n",
            " 6   Global_intensity       float64\n",
            " 7   Sub_metering_1         float64\n",
            " 8   Sub_metering_2         float64\n",
            " 9   Sub_metering_3         float64\n",
            " 10  Datetime               object \n",
            " 11  Month                  object \n",
            " 12  unix                   int64  \n",
            " 13  unix_diff              float64\n",
            "dtypes: float64(8), int64(2), object(4)\n",
            "memory usage: 221.7+ MB\n"
          ]
        }
      ]
    },
    {
      "cell_type": "code",
      "source": [
        "df['unix_diff'] = df['unix'].diff()\n",
        "df['unix_diff'].fillna(0, inplace=True)\n",
        "df['unix_diff'].astype(int)\n",
        "mean_unix_diff = math.ceil(df['unix_diff'].mean())\n",
        "\n",
        "print(\"Frequency of the data ingestion is every %d sec\"%(mean_unix_diff))"
      ],
      "metadata": {
        "id": "6I29c40I_5gd",
        "outputId": "edb114e9-2aa9-427c-b2f5-e94807a33852",
        "colab": {
          "base_uri": "https://localhost:8080/"
        }
      },
      "id": "6I29c40I_5gd",
      "execution_count": 56,
      "outputs": [
        {
          "output_type": "stream",
          "name": "stdout",
          "text": [
            "Frequency of the data ingestion is every 6 sec\n"
          ]
        }
      ]
    },
    {
      "cell_type": "markdown",
      "id": "a53c9d96",
      "metadata": {
        "id": "a53c9d96"
      },
      "source": [
        "## Predicting Global Active Power\n",
        "\n",
        "We will follow the code from the Chapter 9 in our textbook and the recorded lab session from this week to predict the Global Active Power (GAP) with linear regression.\n",
        "\n",
        "First we will create our x (time) and y (GAP) training variables, and then define our model parameters.\n",
        "\n",
        "**Q: What is ph? What is mu?**\n",
        "\n",
        "A:\n",
        "\n",
        "ph stands for 'prediction horizon'. It refers to how far into the future, the model can predict in a time-series analysis.\n",
        "\n",
        "Example: in a daily weather forecasting model, the model is expected to predict the weather for next seven days. Hence the prediction horizon is 7.\n",
        "\n",
        "\n",
        "Smoothening Factor (mu): In a timeseries analysis, mu represent how much weight needs to be given on the most recent observation versus past observations.\n",
        "\n",
        "Higher mu means more weightage to the recent observation. The model forecasting will change depending on short term event.\n",
        "\n",
        "Lower mu means more weightages to older observations so the recent changes does not have significant effect on the forecasting.\n",
        "\n",
        "\n",
        "\n",
        "\n",
        "**TODO: Set the ph to be 5 minutes--consider the units that our time column is measured in.**"
      ]
    },
    {
      "cell_type": "code",
      "execution_count": 57,
      "id": "2376fa9a",
      "metadata": {
        "id": "2376fa9a"
      },
      "outputs": [],
      "source": [
        "ts = pd.DataFrame(df.unix)\n",
        "ys = pd.DataFrame(df.Global_active_power)\n",
        "\n",
        "ph = 5*60 #Converted Minutes to seconds since the frequency\n",
        "ph_index = math.ceil(ph/mean_unix_diff)\n",
        "mu = 0.9\n",
        "\n",
        "#let's limit the number of samples in our model to 5000 just for speed\n",
        "n_s = 5000\n",
        "\n",
        "# Arrays to hold predicted values\n",
        "tp_pred = np.zeros(n_s-1)\n",
        "yp_pred = np.zeros(n_s-1)"
      ]
    },
    {
      "cell_type": "code",
      "source": [
        "last_prediction = 50000\n",
        "first_prediction = 1\n",
        "weigth_50000th = (1-mu)**(last_prediction-first_prediction)*mu\n",
        "weigth_50000th"
      ],
      "metadata": {
        "id": "jUQotd9SJk-P",
        "outputId": "c38d85d5-fea2-4350-909f-88a24b2402e8",
        "colab": {
          "base_uri": "https://localhost:8080/"
        }
      },
      "id": "jUQotd9SJk-P",
      "execution_count": 58,
      "outputs": [
        {
          "output_type": "execute_result",
          "data": {
            "text/plain": [
              "0.0"
            ]
          },
          "metadata": {},
          "execution_count": 58
        }
      ]
    },
    {
      "cell_type": "markdown",
      "id": "8c6b2799",
      "metadata": {
        "id": "8c6b2799"
      },
      "source": [
        "**Q: With mu = 0.9, how much weight will our first data point have on the last (5000th) prediction in our limited dataset?**\n",
        "\n",
        "A:\n",
        "Higher mu put more weightage on recent observations than the past observations.\n",
        "\n",
        "Since the mu is very high in this case, there is virtually zero import on the 50000th predictions.\n",
        "\n",
        "**TODO: Following the code from Chapter 10 and the lab session, use linear regression to predict a rolling GAP for our dataset. Store these predictions in the tp_pred and yp_pred lists created above for visualization.**"
      ]
    },
    {
      "cell_type": "code",
      "execution_count": null,
      "id": "9817494f",
      "metadata": {
        "id": "9817494f"
      },
      "outputs": [],
      "source": [
        "# At every iteration of the for loop a new data sample is acquired\n",
        "for i in range(2, n_s+1):# start out with 2 leading datapoints\n",
        "    #get x and y data \"available\" for our prediction\n",
        "    ts_tmp = ?\n",
        "    ys_tmp = ?\n",
        "    ns = len(ys_tmp)\n",
        "\n",
        "\n",
        "    weights = np.ones(ns)*mu\n",
        "    for k in range(ns):\n",
        "        #adjust weights to be downweighted according to their timestep away from our prediction\n",
        "        weights[k] = ?\n",
        "    weights = np.flip(weights, 0)\n",
        "\n",
        "    #perform linear regression on \"available\" data using the mu-adjusted weights\n",
        "    lm_tmp = ?\n",
        "    model_tmp = ?\n",
        "\n",
        "    #store model coefficients and intercepts to compute prediction\n",
        "    m_tmp = ?\n",
        "    q_tmp = ?\n",
        "\n",
        "    #use ph to make the model prediction according to the prediction time\n",
        "    tp = ?\n",
        "    yp = ?\n",
        "\n",
        "    tp_pred[i-2] = tp\n",
        "    yp_pred[i-2] = yp"
      ]
    },
    {
      "cell_type": "markdown",
      "id": "f4163a49",
      "metadata": {
        "id": "f4163a49"
      },
      "source": [
        "Now let's visualize the results from our model."
      ]
    },
    {
      "cell_type": "code",
      "execution_count": null,
      "id": "036d4a0b",
      "metadata": {
        "id": "036d4a0b"
      },
      "outputs": [],
      "source": [
        "fig, ax = plt.subplots(figsize=(10,10))\n",
        "fig.suptitle('Global Active Power Prediction', fontsize=22, fontweight='bold')\n",
        "ax.set_title('mu = %g, ph=%g ' %(mu, ph))\n",
        "ax.plot(tp_pred, yp_pred, label='Predicted Value')\n",
        "ax.plot(ts.iloc[0:n_s,0], ys.iloc[0:n_s,0], label='GAP data')\n",
        "ax.set_xlabel('time (epoch)')\n",
        "ax.set_ylabel('kilowatts')\n",
        "ax.legend()"
      ]
    },
    {
      "cell_type": "markdown",
      "id": "317768ae",
      "metadata": {
        "id": "317768ae"
      },
      "source": [
        "It's difficult to tell how the model is performing from this plot.\n",
        "\n",
        "**TODO: Modify the code above to visualize the first and last 200 datapoints/predictions (can be in separate charts) and compute the MSE for our predictions.**"
      ]
    },
    {
      "cell_type": "code",
      "execution_count": null,
      "id": "9e3fcf67",
      "metadata": {
        "id": "9e3fcf67"
      },
      "outputs": [],
      "source": [
        "#Plot first 200 data points/predictions"
      ]
    },
    {
      "cell_type": "code",
      "execution_count": null,
      "id": "b00f4a4b",
      "metadata": {
        "id": "b00f4a4b"
      },
      "outputs": [],
      "source": [
        "#Plot last 200 data points/predictions"
      ]
    },
    {
      "cell_type": "code",
      "execution_count": null,
      "id": "0906ea2f",
      "metadata": {
        "id": "0906ea2f"
      },
      "outputs": [],
      "source": [
        "#Calculate MSE of predictions\n",
        "print(\"MSE is\", mse(ys['Global_active_power'][ph_index:5000+ph_index-1],yp_pred))"
      ]
    },
    {
      "cell_type": "markdown",
      "id": "8f20b48f",
      "metadata": {
        "id": "8f20b48f"
      },
      "source": [
        "**Q: How did our model perform? What do you observe on the charts? Is there a difference between the early and the late predictions? What does the MSE tell you?**\n",
        "\n",
        "A:\n",
        "\n",
        "**TODO: Re-run the prediction code with mu = 1 and mu = 0.01. Use the cells below to produce charts for the first and last 200 points and to compute the MSE for each of these sets of predictions.**"
      ]
    },
    {
      "cell_type": "code",
      "execution_count": null,
      "id": "fd5a71f0-f72a-4303-a861-67eba26e90fa",
      "metadata": {
        "id": "fd5a71f0-f72a-4303-a861-67eba26e90fa"
      },
      "outputs": [],
      "source": [
        "#Re-run prediction code for mu = 1"
      ]
    },
    {
      "cell_type": "code",
      "execution_count": null,
      "id": "2b2919cb",
      "metadata": {
        "id": "2b2919cb"
      },
      "outputs": [],
      "source": [
        "#Plot first 200 data points/predictions for mu = 1"
      ]
    },
    {
      "cell_type": "code",
      "execution_count": null,
      "id": "7dd7eb8e",
      "metadata": {
        "id": "7dd7eb8e"
      },
      "outputs": [],
      "source": [
        "#Plot last 200 data points/predictions for mu = 1"
      ]
    },
    {
      "cell_type": "code",
      "execution_count": null,
      "id": "81ce0e0e",
      "metadata": {
        "id": "81ce0e0e"
      },
      "outputs": [],
      "source": [
        "#Calculate MSE of predictions for mu = 1"
      ]
    },
    {
      "cell_type": "code",
      "execution_count": null,
      "id": "3d1bc7b0-b7e7-4226-9906-5e6c36017f30",
      "metadata": {
        "id": "3d1bc7b0-b7e7-4226-9906-5e6c36017f30"
      },
      "outputs": [],
      "source": [
        "#Re-run prediction code for mu = 0.01"
      ]
    },
    {
      "cell_type": "code",
      "execution_count": null,
      "id": "73f6b21f",
      "metadata": {
        "id": "73f6b21f"
      },
      "outputs": [],
      "source": [
        "#Plot first 200 data points/predictions for mu = 0.01"
      ]
    },
    {
      "cell_type": "code",
      "execution_count": null,
      "id": "387041a1",
      "metadata": {
        "id": "387041a1"
      },
      "outputs": [],
      "source": [
        "#Plot last 200 data points/predictions for mu = 0.01"
      ]
    },
    {
      "cell_type": "code",
      "execution_count": null,
      "id": "cb996a81",
      "metadata": {
        "id": "cb996a81"
      },
      "outputs": [],
      "source": [
        "#Calculate MSE of predictions for mu = 0.01"
      ]
    },
    {
      "cell_type": "markdown",
      "id": "71522c20",
      "metadata": {
        "id": "71522c20"
      },
      "source": [
        "**Q: How did our mu = 1 model perform? What do you observe on the charts? Is there a difference between the early and the late predictions? What does the MSE tell you?**\n",
        "\n",
        "A:\n",
        "\n",
        "**Q: How did our mu = 0.01 model perform? What do you observe on the charts? Is there a difference between the early and the late predictions? What does the MSE tell you?**\n",
        "\n",
        "A:\n",
        "\n",
        "**Q: Which of these three models is the best? How do you know? Why does this make sense based on the mu parameter used?**\n",
        "\n",
        "A:\n",
        "\n",
        "**Q: What could we do to improve our model and/or make it more realistic and useful?**\n",
        "\n",
        "A:\n",
        "\n",
        "**TODO: Add voltage data as a second variable to our model and re-run the prediction code. Then visualize the first and last 200 points and compute the MSE**"
      ]
    },
    {
      "cell_type": "code",
      "execution_count": null,
      "id": "08ad268e",
      "metadata": {
        "id": "08ad268e"
      },
      "outputs": [],
      "source": [
        "#add voltage to the x-variables in our dataset\n",
        "ts = ?\n",
        "ys = pd.DataFrame(df.Global_active_power)\n",
        "\n",
        "ph = #5 minutes\n",
        "ph_index = ?\n",
        "mu = 0.9\n",
        "\n",
        "#let's limit the number of samples in our model to 5000 just for speed\n",
        "n_s = 5000\n",
        "\n",
        "#arrays to hold predicted values\n",
        "tp_pred = np.zeros(n_s-1)\n",
        "yp_pred = np.zeros(n_s-1)"
      ]
    },
    {
      "cell_type": "code",
      "execution_count": null,
      "id": "90c3f8d8",
      "metadata": {
        "id": "90c3f8d8"
      },
      "outputs": [],
      "source": [
        "#run the prediction code on your expanded dataset\n",
        "#make sure to adjust your yp prediction to include the coefficients from time AND voltage"
      ]
    },
    {
      "cell_type": "code",
      "execution_count": null,
      "id": "9e974d69",
      "metadata": {
        "id": "9e974d69"
      },
      "outputs": [],
      "source": [
        "#Plot first 200 data points/predictions for the expanded dataset"
      ]
    },
    {
      "cell_type": "code",
      "execution_count": null,
      "id": "72ff7948",
      "metadata": {
        "id": "72ff7948"
      },
      "outputs": [],
      "source": [
        "#Plot last 200 data points/predictions for the expanded data"
      ]
    },
    {
      "cell_type": "code",
      "execution_count": null,
      "id": "0dd3c706",
      "metadata": {
        "id": "0dd3c706"
      },
      "outputs": [],
      "source": [
        "#Calculate MSE of predictions for the expanded data"
      ]
    },
    {
      "cell_type": "markdown",
      "id": "c8b59f7a",
      "metadata": {
        "id": "c8b59f7a"
      },
      "source": [
        "**Q: How did the model performed when you added the voltage data? How does it compare to the models without it?**\n",
        "\n",
        "A:\n",
        "\n",
        "There are lots of other ways that we could try to improve our model while still using linear regression.\n",
        "\n",
        "**TODO: Choose one alternative model and re-run the prediction code. Some ideas include:**\n",
        "\n",
        "- Use a moving average as the response variable\n",
        "- Make your prediction based on the time of day instead of as a continuous time series\n",
        "- Use a moving window to limit your predictions instead of using a mu factor\n",
        "\n",
        "**Q: Describe your alternative model and why it might improve your model**\n",
        "\n",
        "A:"
      ]
    },
    {
      "cell_type": "code",
      "execution_count": null,
      "id": "ace784a8",
      "metadata": {
        "id": "ace784a8"
      },
      "outputs": [],
      "source": [
        "#create your alternative training data here\n",
        "\n",
        "\n",
        "ph = #5 minutes\n",
        "ph_index =\n",
        "mu = 0.9\n",
        "\n",
        "#let's limit the number of samples in our model to 5000 just for speed\n",
        "n_s = 5000\n",
        "\n",
        "#arrays to hold predicted values\n",
        "#you may need to adjust these\n",
        "tp_pred = np.zeros(n_s-1)\n",
        "yp_pred = np.zeros(n_s-1)"
      ]
    },
    {
      "cell_type": "code",
      "execution_count": null,
      "id": "15a2c2e4",
      "metadata": {
        "id": "15a2c2e4"
      },
      "outputs": [],
      "source": [
        "#re-run the prediction code here"
      ]
    },
    {
      "cell_type": "code",
      "execution_count": null,
      "id": "d6d74929",
      "metadata": {
        "id": "d6d74929"
      },
      "outputs": [],
      "source": [
        "#Plot first 200 data points/predictions for alternative model"
      ]
    },
    {
      "cell_type": "code",
      "execution_count": null,
      "id": "7d0f0d0e",
      "metadata": {
        "id": "7d0f0d0e"
      },
      "outputs": [],
      "source": [
        "#Plot last 200 data points/predictions for alternative model"
      ]
    },
    {
      "cell_type": "code",
      "execution_count": null,
      "id": "031733c4",
      "metadata": {
        "id": "031733c4"
      },
      "outputs": [],
      "source": [
        "#Calculate MSE of predictions for alternative model"
      ]
    },
    {
      "cell_type": "markdown",
      "id": "bd62b51d",
      "metadata": {
        "id": "bd62b51d"
      },
      "source": [
        "**Q: Did your alternative model improve on our previous results? What else could you do to improve the model while still using linear regression?**\n",
        "\n",
        "A:\n",
        "\n",
        "It's worth noting that the results we're getting int his assignment are based on a pretty short predictive horizon of 5 minutes. If we were to increase our predictive horizon, our results would likely be worse and there would be more room for optimizing and improving the predictions of our model."
      ]
    }
  ],
  "metadata": {
    "kernelspec": {
      "display_name": "Python 3 (ipykernel)",
      "language": "python",
      "name": "python3"
    },
    "language_info": {
      "codemirror_mode": {
        "name": "ipython",
        "version": 3
      },
      "file_extension": ".py",
      "mimetype": "text/x-python",
      "name": "python",
      "nbconvert_exporter": "python",
      "pygments_lexer": "ipython3",
      "version": "3.12.2"
    },
    "colab": {
      "provenance": []
    }
  },
  "nbformat": 4,
  "nbformat_minor": 5
}